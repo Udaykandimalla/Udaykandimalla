{
 "cells": [
  {
   "cell_type": "code",
   "execution_count": 1,
   "id": "e20f3ab7",
   "metadata": {},
   "outputs": [],
   "source": [
    "import pandas as pd\n",
    "import numpy as np\n",
    "import matplotlib.pyplot as plt\n",
    "%matplotlib inline"
   ]
  },
  {
   "cell_type": "code",
   "execution_count": 2,
   "id": "36aac521",
   "metadata": {},
   "outputs": [],
   "source": [
    "import warnings\n",
    "warnings.filterwarnings('ignore')"
   ]
  },
  {
   "cell_type": "code",
   "execution_count": 3,
   "id": "6544261a",
   "metadata": {},
   "outputs": [
    {
     "name": "stdout",
     "output_type": "stream",
     "text": [
      "C:\\Users\\Lenovo\\OneDrive\\Documents\\python files\\Internship\n"
     ]
    }
   ],
   "source": [
    "import io\n",
    "%cd \"C:\\Users\\Lenovo\\OneDrive\\Documents\\python files\\Internship\""
   ]
  },
  {
   "cell_type": "code",
   "execution_count": 4,
   "id": "9cbfcba6",
   "metadata": {},
   "outputs": [],
   "source": [
    "medicdata=pd.read_csv(\"Medicare_Physician_Other_Practitioners_by_Geography_and_Service_2019.csv\",low_memory=False)"
   ]
  },
  {
   "cell_type": "code",
   "execution_count": 5,
   "id": "8cae7280",
   "metadata": {},
   "outputs": [
    {
     "data": {
      "text/plain": [
       "(273211, 15)"
      ]
     },
     "execution_count": 5,
     "metadata": {},
     "output_type": "execute_result"
    }
   ],
   "source": [
    "medicdata.shape"
   ]
  },
  {
   "cell_type": "code",
   "execution_count": 6,
   "id": "e4cf44ad",
   "metadata": {},
   "outputs": [
    {
     "name": "stdout",
     "output_type": "stream",
     "text": [
      "<class 'pandas.core.frame.DataFrame'>\n",
      "RangeIndex: 273211 entries, 0 to 273210\n",
      "Data columns (total 15 columns):\n",
      " #   Column                 Non-Null Count   Dtype \n",
      "---  ------                 --------------   ----- \n",
      " 0   Rndrng_Prvdr_Geo_Lvl   273211 non-null  object\n",
      " 1   Rndrng_Prvdr_Geo_Cd    260217 non-null  object\n",
      " 2   Rndrng_Prvdr_Geo_Desc  273211 non-null  object\n",
      " 3   HCPCS_Cd               273211 non-null  object\n",
      " 4   HCPCS_Desc             273211 non-null  object\n",
      " 5   HCPCS_Drug_Ind         273211 non-null  object\n",
      " 6   Place_Of_Srvc          273211 non-null  object\n",
      " 7   Tot_Rndrng_Prvdrs      273211 non-null  object\n",
      " 8   Tot_Benes              273211 non-null  object\n",
      " 9   Tot_Srvcs              273211 non-null  object\n",
      " 10  Tot_Bene_Day_Srvcs     273211 non-null  object\n",
      " 11  Avg_Sbmtd_Chrg         273211 non-null  object\n",
      " 12  Avg_Mdcr_Alowd_Amt     273211 non-null  object\n",
      " 13  Avg_Mdcr_Pymt_Amt      273211 non-null  object\n",
      " 14  Avg_Mdcr_Stdzd_Amt     273211 non-null  object\n",
      "dtypes: object(15)\n",
      "memory usage: 31.3+ MB\n"
     ]
    }
   ],
   "source": [
    "medicdata.info()"
   ]
  },
  {
   "cell_type": "code",
   "execution_count": 7,
   "id": "f80e9b38",
   "metadata": {},
   "outputs": [
    {
     "data": {
      "text/html": [
       "<div>\n",
       "<style scoped>\n",
       "    .dataframe tbody tr th:only-of-type {\n",
       "        vertical-align: middle;\n",
       "    }\n",
       "\n",
       "    .dataframe tbody tr th {\n",
       "        vertical-align: top;\n",
       "    }\n",
       "\n",
       "    .dataframe thead th {\n",
       "        text-align: right;\n",
       "    }\n",
       "</style>\n",
       "<table border=\"1\" class=\"dataframe\">\n",
       "  <thead>\n",
       "    <tr style=\"text-align: right;\">\n",
       "      <th></th>\n",
       "      <th>Rndrng_Prvdr_Geo_Lvl</th>\n",
       "      <th>Rndrng_Prvdr_Geo_Cd</th>\n",
       "      <th>Rndrng_Prvdr_Geo_Desc</th>\n",
       "      <th>HCPCS_Cd</th>\n",
       "      <th>HCPCS_Desc</th>\n",
       "      <th>HCPCS_Drug_Ind</th>\n",
       "      <th>Place_Of_Srvc</th>\n",
       "      <th>Tot_Rndrng_Prvdrs</th>\n",
       "      <th>Tot_Benes</th>\n",
       "      <th>Tot_Srvcs</th>\n",
       "      <th>Tot_Bene_Day_Srvcs</th>\n",
       "      <th>Avg_Sbmtd_Chrg</th>\n",
       "      <th>Avg_Mdcr_Alowd_Amt</th>\n",
       "      <th>Avg_Mdcr_Pymt_Amt</th>\n",
       "      <th>Avg_Mdcr_Stdzd_Amt</th>\n",
       "    </tr>\n",
       "  </thead>\n",
       "  <tbody>\n",
       "    <tr>\n",
       "      <th>count</th>\n",
       "      <td>273211</td>\n",
       "      <td>260217</td>\n",
       "      <td>273211</td>\n",
       "      <td>273211</td>\n",
       "      <td>273211</td>\n",
       "      <td>273211</td>\n",
       "      <td>273211</td>\n",
       "      <td>273211</td>\n",
       "      <td>273211</td>\n",
       "      <td>273211</td>\n",
       "      <td>273211</td>\n",
       "      <td>273211</td>\n",
       "      <td>273211</td>\n",
       "      <td>273211</td>\n",
       "      <td>273211</td>\n",
       "    </tr>\n",
       "    <tr>\n",
       "      <th>unique</th>\n",
       "      <td>2</td>\n",
       "      <td>61</td>\n",
       "      <td>62</td>\n",
       "      <td>8853</td>\n",
       "      <td>7818</td>\n",
       "      <td>2</td>\n",
       "      <td>2</td>\n",
       "      <td>5518</td>\n",
       "      <td>20954</td>\n",
       "      <td>30138</td>\n",
       "      <td>24732</td>\n",
       "      <td>152040</td>\n",
       "      <td>81023</td>\n",
       "      <td>71671</td>\n",
       "      <td>71160</td>\n",
       "    </tr>\n",
       "    <tr>\n",
       "      <th>top</th>\n",
       "      <td>State</td>\n",
       "      <td>06</td>\n",
       "      <td>National</td>\n",
       "      <td>99214</td>\n",
       "      <td>Flow cytometry technique for DNA or cell analysis</td>\n",
       "      <td>N</td>\n",
       "      <td>F</td>\n",
       "      <td>11</td>\n",
       "      <td>11</td>\n",
       "      <td>15</td>\n",
       "      <td>13</td>\n",
       "      <td>$50.00</td>\n",
       "      <td>$38.21</td>\n",
       "      <td>$38.21</td>\n",
       "      <td>$38.21</td>\n",
       "    </tr>\n",
       "    <tr>\n",
       "      <th>freq</th>\n",
       "      <td>260217</td>\n",
       "      <td>8893</td>\n",
       "      <td>12994</td>\n",
       "      <td>121</td>\n",
       "      <td>368</td>\n",
       "      <td>260701</td>\n",
       "      <td>149325</td>\n",
       "      <td>6637</td>\n",
       "      <td>6123</td>\n",
       "      <td>3325</td>\n",
       "      <td>3568</td>\n",
       "      <td>99</td>\n",
       "      <td>334</td>\n",
       "      <td>338</td>\n",
       "      <td>836</td>\n",
       "    </tr>\n",
       "  </tbody>\n",
       "</table>\n",
       "</div>"
      ],
      "text/plain": [
       "       Rndrng_Prvdr_Geo_Lvl Rndrng_Prvdr_Geo_Cd Rndrng_Prvdr_Geo_Desc  \\\n",
       "count                273211              260217                273211   \n",
       "unique                    2                  61                    62   \n",
       "top                   State                  06              National   \n",
       "freq                 260217                8893                 12994   \n",
       "\n",
       "       HCPCS_Cd                                         HCPCS_Desc  \\\n",
       "count    273211                                             273211   \n",
       "unique     8853                                               7818   \n",
       "top       99214  Flow cytometry technique for DNA or cell analysis   \n",
       "freq        121                                                368   \n",
       "\n",
       "       HCPCS_Drug_Ind Place_Of_Srvc Tot_Rndrng_Prvdrs Tot_Benes Tot_Srvcs  \\\n",
       "count          273211        273211            273211    273211    273211   \n",
       "unique              2             2              5518     20954     30138   \n",
       "top                 N             F                11        11        15   \n",
       "freq           260701        149325              6637      6123      3325   \n",
       "\n",
       "       Tot_Bene_Day_Srvcs Avg_Sbmtd_Chrg Avg_Mdcr_Alowd_Amt Avg_Mdcr_Pymt_Amt  \\\n",
       "count              273211         273211             273211            273211   \n",
       "unique              24732         152040              81023             71671   \n",
       "top                    13         $50.00             $38.21            $38.21   \n",
       "freq                 3568             99                334               338   \n",
       "\n",
       "       Avg_Mdcr_Stdzd_Amt  \n",
       "count              273211  \n",
       "unique              71160  \n",
       "top                $38.21  \n",
       "freq                  836  "
      ]
     },
     "execution_count": 7,
     "metadata": {},
     "output_type": "execute_result"
    }
   ],
   "source": [
    "medicdata.describe()"
   ]
  },
  {
   "cell_type": "code",
   "execution_count": 8,
   "id": "46e0db6d",
   "metadata": {},
   "outputs": [
    {
     "data": {
      "text/plain": [
       "Rndrng_Prvdr_Geo_Cd      12994\n",
       "Rndrng_Prvdr_Geo_Lvl         0\n",
       "Rndrng_Prvdr_Geo_Desc        0\n",
       "HCPCS_Cd                     0\n",
       "HCPCS_Desc                   0\n",
       "HCPCS_Drug_Ind               0\n",
       "Place_Of_Srvc                0\n",
       "Tot_Rndrng_Prvdrs            0\n",
       "Tot_Benes                    0\n",
       "Tot_Srvcs                    0\n",
       "Tot_Bene_Day_Srvcs           0\n",
       "Avg_Sbmtd_Chrg               0\n",
       "Avg_Mdcr_Alowd_Amt           0\n",
       "Avg_Mdcr_Pymt_Amt            0\n",
       "Avg_Mdcr_Stdzd_Amt           0\n",
       "dtype: int64"
      ]
     },
     "execution_count": 8,
     "metadata": {},
     "output_type": "execute_result"
    }
   ],
   "source": [
    "medicdata.isnull().sum().sort_values(ascending=False)"
   ]
  },
  {
   "cell_type": "code",
   "execution_count": 9,
   "id": "9e8e1bfb",
   "metadata": {},
   "outputs": [],
   "source": [
    "medicdata.Rndrng_Prvdr_Geo_Cd=medicdata.Rndrng_Prvdr_Geo_Cd.fillna(\"9999\")"
   ]
  },
  {
   "cell_type": "code",
   "execution_count": 10,
   "id": "0f9ded76",
   "metadata": {},
   "outputs": [],
   "source": [
    "floattype=medicdata[[\"Avg_Sbmtd_Chrg\",\"Avg_Mdcr_Alowd_Amt\",\"Avg_Mdcr_Pymt_Amt\",\"Avg_Mdcr_Stdzd_Amt\",\"Tot_Srvcs\"]]"
   ]
  },
  {
   "cell_type": "code",
   "execution_count": 11,
   "id": "4d9a0284",
   "metadata": {},
   "outputs": [],
   "source": [
    "inttype=medicdata[[\"Tot_Rndrng_Prvdrs\",\"Tot_Benes\",\"Tot_Bene_Day_Srvcs\"]]"
   ]
  },
  {
   "cell_type": "code",
   "execution_count": 12,
   "id": "044995cb",
   "metadata": {},
   "outputs": [],
   "source": [
    "floattype.Avg_Mdcr_Alowd_Amt=floattype.Avg_Mdcr_Alowd_Amt.str.replace(\"$\",\" \")"
   ]
  },
  {
   "cell_type": "code",
   "execution_count": 13,
   "id": "043b545f",
   "metadata": {},
   "outputs": [],
   "source": [
    "floattype.Avg_Mdcr_Alowd_Amt=floattype.Avg_Mdcr_Alowd_Amt.str.replace(\",\",\"\")"
   ]
  },
  {
   "cell_type": "code",
   "execution_count": 14,
   "id": "bc0821d1",
   "metadata": {},
   "outputs": [],
   "source": [
    "floattype.Avg_Mdcr_Pymt_Amt=floattype.Avg_Mdcr_Pymt_Amt.str.replace(\"$\",\" \")"
   ]
  },
  {
   "cell_type": "code",
   "execution_count": 15,
   "id": "8a99e273",
   "metadata": {},
   "outputs": [],
   "source": [
    "floattype.Avg_Mdcr_Pymt_Amt=floattype.Avg_Mdcr_Pymt_Amt.str.replace(\",\",\"\")"
   ]
  },
  {
   "cell_type": "code",
   "execution_count": 16,
   "id": "e59e2de0",
   "metadata": {},
   "outputs": [],
   "source": [
    "floattype.Avg_Mdcr_Stdzd_Amt=floattype.Avg_Mdcr_Stdzd_Amt.str.replace(\"$\",\" \")"
   ]
  },
  {
   "cell_type": "code",
   "execution_count": 17,
   "id": "d30aa025",
   "metadata": {},
   "outputs": [],
   "source": [
    "floattype.Avg_Mdcr_Stdzd_Amt=floattype.Avg_Mdcr_Stdzd_Amt.str.replace(\",\",\"\")"
   ]
  },
  {
   "cell_type": "code",
   "execution_count": 18,
   "id": "f923ef1c",
   "metadata": {},
   "outputs": [],
   "source": [
    "floattype.Avg_Sbmtd_Chrg=floattype.Avg_Sbmtd_Chrg.str.replace(\"$\",\" \")"
   ]
  },
  {
   "cell_type": "code",
   "execution_count": 19,
   "id": "78eea959",
   "metadata": {},
   "outputs": [],
   "source": [
    "floattype.Avg_Sbmtd_Chrg=floattype.Avg_Sbmtd_Chrg.str.replace(\",\",\"\")"
   ]
  },
  {
   "cell_type": "code",
   "execution_count": 20,
   "id": "caafad37",
   "metadata": {},
   "outputs": [],
   "source": [
    "floattype.Tot_Srvcs=floattype.Tot_Srvcs.str.replace(\",\",\"\")"
   ]
  },
  {
   "cell_type": "code",
   "execution_count": 21,
   "id": "c86cf139",
   "metadata": {},
   "outputs": [],
   "source": [
    "inttype.Tot_Bene_Day_Srvcs=inttype.Tot_Bene_Day_Srvcs.str.replace(\",\",\"\")"
   ]
  },
  {
   "cell_type": "code",
   "execution_count": 22,
   "id": "5b318fd6",
   "metadata": {},
   "outputs": [],
   "source": [
    "inttype.Tot_Benes=inttype.Tot_Benes.str.replace(\",\",\"\")"
   ]
  },
  {
   "cell_type": "code",
   "execution_count": 23,
   "id": "cc7369bb",
   "metadata": {},
   "outputs": [],
   "source": [
    "inttype.Tot_Rndrng_Prvdrs=inttype.Tot_Rndrng_Prvdrs.str.replace(\",\",\"\")"
   ]
  },
  {
   "cell_type": "code",
   "execution_count": 24,
   "id": "e5028622",
   "metadata": {},
   "outputs": [],
   "source": [
    "floattype.Avg_Mdcr_Alowd_Amt=floattype.Avg_Mdcr_Alowd_Amt.astype(\"float64\")"
   ]
  },
  {
   "cell_type": "code",
   "execution_count": 25,
   "id": "802098ee",
   "metadata": {},
   "outputs": [],
   "source": [
    "floattype.Avg_Mdcr_Pymt_Amt=floattype.Avg_Mdcr_Pymt_Amt.astype(\"float64\")"
   ]
  },
  {
   "cell_type": "code",
   "execution_count": 26,
   "id": "44148e04",
   "metadata": {},
   "outputs": [],
   "source": [
    "floattype.Avg_Mdcr_Stdzd_Amt=floattype.Avg_Mdcr_Stdzd_Amt.astype(\"float64\")"
   ]
  },
  {
   "cell_type": "code",
   "execution_count": 27,
   "id": "62488645",
   "metadata": {},
   "outputs": [],
   "source": [
    "floattype.Avg_Sbmtd_Chrg=floattype.Avg_Sbmtd_Chrg.astype(\"float64\")"
   ]
  },
  {
   "cell_type": "code",
   "execution_count": 28,
   "id": "d568a2ad",
   "metadata": {},
   "outputs": [],
   "source": [
    "floattype.Tot_Srvcs=floattype.Tot_Srvcs.astype(\"float64\")"
   ]
  },
  {
   "cell_type": "code",
   "execution_count": 29,
   "id": "ec4f8a76",
   "metadata": {},
   "outputs": [],
   "source": [
    "inttype.Tot_Bene_Day_Srvcs=inttype.Tot_Bene_Day_Srvcs.astype(\"int32\")"
   ]
  },
  {
   "cell_type": "code",
   "execution_count": 30,
   "id": "c08db719",
   "metadata": {},
   "outputs": [],
   "source": [
    "inttype.Tot_Benes=inttype.Tot_Benes.astype(\"int32\")"
   ]
  },
  {
   "cell_type": "code",
   "execution_count": 31,
   "id": "1a19bf3f",
   "metadata": {},
   "outputs": [],
   "source": [
    "inttype.Tot_Rndrng_Prvdrs=inttype.Tot_Rndrng_Prvdrs.astype(\"int32\")"
   ]
  },
  {
   "cell_type": "code",
   "execution_count": 32,
   "id": "6f36b8e5",
   "metadata": {},
   "outputs": [
    {
     "data": {
      "text/plain": [
       "<AxesSubplot:ylabel='Frequency'>"
      ]
     },
     "execution_count": 32,
     "metadata": {},
     "output_type": "execute_result"
    },
    {
     "data": {
      "image/png": "[encoded data removed]",
      "text/plain": [
       "<Figure size 432x288 with 1 Axes>"
      ]
     },
     "metadata": {
      "needs_background": "light"
     },
     "output_type": "display_data"
    }
   ],
   "source": [
    "floattype.plot(kind='hist')"
   ]
  },
  {
   "cell_type": "code",
   "execution_count": 33,
   "id": "2a8546b2",
   "metadata": {},
   "outputs": [
    {
     "data": {
      "text/plain": [
       "<AxesSubplot:>"
      ]
     },
     "execution_count": 33,
     "metadata": {},
     "output_type": "execute_result"
    },
    {
     "data": {
      "image/png": "[encoded data removed]",
      "text/plain": [
       "<Figure size 432x288 with 1 Axes>"
      ]
     },
     "metadata": {
      "needs_background": "light"
     },
     "output_type": "display_data"
    }
   ],
   "source": [
    "floattype.plot(kind='box',vert=False)"
   ]
  },
  {
   "cell_type": "code",
   "execution_count": 34,
   "id": "6aa1fb84",
   "metadata": {},
   "outputs": [
    {
     "data": {
      "text/plain": [
       "<AxesSubplot:ylabel='Density'>"
      ]
     },
     "execution_count": 34,
     "metadata": {},
     "output_type": "execute_result"
    },
    {
     "data": {
      "image/png": "[encoded data removed]",
      "text/plain": [
       "<Figure size 432x288 with 1 Axes>"
      ]
     },
     "metadata": {
      "needs_background": "light"
     },
     "output_type": "display_data"
    }
   ],
   "source": [
    "floattype.plot(kind='density')"
   ]
  },
  {
   "cell_type": "code",
   "execution_count": 35,
   "id": "dad41c02",
   "metadata": {},
   "outputs": [
    {
     "data": {
      "text/plain": [
       "<AxesSubplot:ylabel='Density'>"
      ]
     },
     "execution_count": 35,
     "metadata": {},
     "output_type": "execute_result"
    },
    {
     "data": {
      "image/png": "[encoded data removed]",
      "text/plain": [
       "<Figure size 432x288 with 1 Axes>"
      ]
     },
     "metadata": {
      "needs_background": "light"
     },
     "output_type": "display_data"
    }
   ],
   "source": [
    "floattype.Avg_Mdcr_Pymt_Amt.plot(kind='density')"
   ]
  },
  {
   "cell_type": "code",
   "execution_count": 36,
   "id": "32b66a9e",
   "metadata": {},
   "outputs": [
    {
     "data": {
      "text/plain": [
       "0"
      ]
     },
     "execution_count": 36,
     "metadata": {},
     "output_type": "execute_result"
    }
   ],
   "source": [
    "np.isinf(floattype.Avg_Mdcr_Pymt_Amt).sum()"
   ]
  },
  {
   "cell_type": "code",
   "execution_count": 37,
   "id": "7d0bd574",
   "metadata": {},
   "outputs": [
    {
     "data": {
      "text/plain": [
       "<AxesSubplot:ylabel='Frequency'>"
      ]
     },
     "execution_count": 37,
     "metadata": {},
     "output_type": "execute_result"
    },
    {
     "data": {
      "image/png": "[encoded data removed]",
      "text/plain": [
       "<Figure size 432x288 with 1 Axes>"
      ]
     },
     "metadata": {
      "needs_background": "light"
     },
     "output_type": "display_data"
    }
   ],
   "source": [
    "np.log(inttype).plot(kind='hist')"
   ]
  },
  {
   "cell_type": "code",
   "execution_count": 38,
   "id": "4d13c6db",
   "metadata": {},
   "outputs": [
    {
     "data": {
      "text/plain": [
       "<AxesSubplot:ylabel='Frequency'>"
      ]
     },
     "execution_count": 38,
     "metadata": {},
     "output_type": "execute_result"
    },
    {
     "data": {
      "image/png": "[encoded data removed]",
      "text/plain": [
       "<Figure size 432x288 with 1 Axes>"
      ]
     },
     "metadata": {
      "needs_background": "light"
     },
     "output_type": "display_data"
    }
   ],
   "source": [
    "np.log(inttype).Tot_Benes.plot(kind='hist')"
   ]
  },
  {
   "cell_type": "code",
   "execution_count": 39,
   "id": "d70ec5ce",
   "metadata": {},
   "outputs": [],
   "source": [
    "import seaborn as sns"
   ]
  },
  {
   "cell_type": "code",
   "execution_count": 40,
   "id": "a6e3bd6b",
   "metadata": {},
   "outputs": [
    {
     "data": {
      "text/plain": [
       "<AxesSubplot:>"
      ]
     },
     "execution_count": 40,
     "metadata": {},
     "output_type": "execute_result"
    },
    {
     "data": {
      "image/png": "[encoded data removed]",
      "text/plain": [
       "<Figure size 720x576 with 2 Axes>"
      ]
     },
     "metadata": {
      "needs_background": "light"
     },
     "output_type": "display_data"
    }
   ],
   "source": [
    "plt.figure(figsize=(10,8))\n",
    "sns.heatmap(floattype.corr(),annot=True)"
   ]
  },
  {
   "cell_type": "code",
   "execution_count": 41,
   "id": "c4dbce0c",
   "metadata": {},
   "outputs": [],
   "source": [
    "floattype=floattype.drop(['Avg_Mdcr_Pymt_Amt','Avg_Mdcr_Alowd_Amt'],axis=1)"
   ]
  },
  {
   "cell_type": "code",
   "execution_count": 42,
   "id": "fddb10cf",
   "metadata": {},
   "outputs": [],
   "source": [
    "obj=medicdata[[\"Rndrng_Prvdr_Geo_Lvl\",\"Rndrng_Prvdr_Geo_Cd\",\"Rndrng_Prvdr_Geo_Desc\",\"HCPCS_Cd\",\"HCPCS_Desc\",\n",
    "              \"Place_Of_Srvc\"]]"
   ]
  },
  {
   "cell_type": "code",
   "execution_count": 43,
   "id": "2d321a99",
   "metadata": {},
   "outputs": [],
   "source": [
    "dep=medicdata['HCPCS_Drug_Ind']"
   ]
  },
  {
   "cell_type": "code",
   "execution_count": 44,
   "id": "8fe85d83",
   "metadata": {},
   "outputs": [],
   "source": [
    "from sklearn.preprocessing import LabelEncoder"
   ]
  },
  {
   "cell_type": "code",
   "execution_count": 45,
   "id": "e54ab60d",
   "metadata": {},
   "outputs": [],
   "source": [
    "le=LabelEncoder()"
   ]
  },
  {
   "cell_type": "code",
   "execution_count": 46,
   "id": "d42886de",
   "metadata": {},
   "outputs": [],
   "source": [
    "objdum=obj.apply(le.fit_transform)"
   ]
  },
  {
   "cell_type": "code",
   "execution_count": 47,
   "id": "0f737a95",
   "metadata": {},
   "outputs": [],
   "source": [
    "total=pd.concat([floattype,objdum,inttype,dep],axis=1)"
   ]
  },
  {
   "cell_type": "code",
   "execution_count": 48,
   "id": "54b35f76",
   "metadata": {},
   "outputs": [
    {
     "name": "stdout",
     "output_type": "stream",
     "text": [
      "<class 'pandas.core.frame.DataFrame'>\n",
      "RangeIndex: 273211 entries, 0 to 273210\n",
      "Data columns (total 13 columns):\n",
      " #   Column                 Non-Null Count   Dtype  \n",
      "---  ------                 --------------   -----  \n",
      " 0   Avg_Sbmtd_Chrg         273211 non-null  float64\n",
      " 1   Avg_Mdcr_Stdzd_Amt     273211 non-null  float64\n",
      " 2   Tot_Srvcs              273211 non-null  float64\n",
      " 3   Rndrng_Prvdr_Geo_Lvl   273211 non-null  int32  \n",
      " 4   Rndrng_Prvdr_Geo_Cd    273211 non-null  int32  \n",
      " 5   Rndrng_Prvdr_Geo_Desc  273211 non-null  int32  \n",
      " 6   HCPCS_Cd               273211 non-null  int32  \n",
      " 7   HCPCS_Desc             273211 non-null  int32  \n",
      " 8   Place_Of_Srvc          273211 non-null  int32  \n",
      " 9   Tot_Rndrng_Prvdrs      273211 non-null  int32  \n",
      " 10  Tot_Benes              273211 non-null  int32  \n",
      " 11  Tot_Bene_Day_Srvcs     273211 non-null  int32  \n",
      " 12  HCPCS_Drug_Ind         273211 non-null  object \n",
      "dtypes: float64(3), int32(9), object(1)\n",
      "memory usage: 17.7+ MB\n"
     ]
    }
   ],
   "source": [
    "total.info()"
   ]
  },
  {
   "cell_type": "code",
   "execution_count": 49,
   "id": "71b53c20",
   "metadata": {},
   "outputs": [
    {
     "data": {
      "text/html": [
       "<div>\n",
       "<style scoped>\n",
       "    .dataframe tbody tr th:only-of-type {\n",
       "        vertical-align: middle;\n",
       "    }\n",
       "\n",
       "    .dataframe tbody tr th {\n",
       "        vertical-align: top;\n",
       "    }\n",
       "\n",
       "    .dataframe thead th {\n",
       "        text-align: right;\n",
       "    }\n",
       "</style>\n",
       "<table border=\"1\" class=\"dataframe\">\n",
       "  <thead>\n",
       "    <tr style=\"text-align: right;\">\n",
       "      <th></th>\n",
       "      <th>Avg_Sbmtd_Chrg</th>\n",
       "      <th>Avg_Mdcr_Stdzd_Amt</th>\n",
       "      <th>Tot_Srvcs</th>\n",
       "      <th>Rndrng_Prvdr_Geo_Lvl</th>\n",
       "      <th>Rndrng_Prvdr_Geo_Cd</th>\n",
       "      <th>Rndrng_Prvdr_Geo_Desc</th>\n",
       "      <th>HCPCS_Cd</th>\n",
       "      <th>HCPCS_Desc</th>\n",
       "      <th>Place_Of_Srvc</th>\n",
       "      <th>Tot_Rndrng_Prvdrs</th>\n",
       "      <th>Tot_Benes</th>\n",
       "      <th>Tot_Bene_Day_Srvcs</th>\n",
       "    </tr>\n",
       "  </thead>\n",
       "  <tbody>\n",
       "    <tr>\n",
       "      <th>count</th>\n",
       "      <td>273211.000000</td>\n",
       "      <td>273211.000000</td>\n",
       "      <td>2.732110e+05</td>\n",
       "      <td>273211.000000</td>\n",
       "      <td>273211.000000</td>\n",
       "      <td>273211.000000</td>\n",
       "      <td>273211.000000</td>\n",
       "      <td>273211.000000</td>\n",
       "      <td>273211.000000</td>\n",
       "      <td>273211.000000</td>\n",
       "      <td>2.732110e+05</td>\n",
       "      <td>2.732110e+05</td>\n",
       "    </tr>\n",
       "    <tr>\n",
       "      <th>mean</th>\n",
       "      <td>1251.172998</td>\n",
       "      <td>234.769057</td>\n",
       "      <td>2.372581e+04</td>\n",
       "      <td>0.952440</td>\n",
       "      <td>26.672557</td>\n",
       "      <td>31.387404</td>\n",
       "      <td>4606.456900</td>\n",
       "      <td>3869.121657</td>\n",
       "      <td>0.453444</td>\n",
       "      <td>267.382433</td>\n",
       "      <td>5.582857e+03</td>\n",
       "      <td>1.096098e+04</td>\n",
       "    </tr>\n",
       "    <tr>\n",
       "      <th>std</th>\n",
       "      <td>2316.386139</td>\n",
       "      <td>607.611636</td>\n",
       "      <td>6.566590e+05</td>\n",
       "      <td>0.212834</td>\n",
       "      <td>15.964892</td>\n",
       "      <td>16.545636</td>\n",
       "      <td>2603.645083</td>\n",
       "      <td>2346.748908</td>\n",
       "      <td>0.497829</td>\n",
       "      <td>3149.869990</td>\n",
       "      <td>1.180026e+05</td>\n",
       "      <td>3.415823e+05</td>\n",
       "    </tr>\n",
       "    <tr>\n",
       "      <th>min</th>\n",
       "      <td>0.010000</td>\n",
       "      <td>0.010000</td>\n",
       "      <td>1.100000e+01</td>\n",
       "      <td>0.000000</td>\n",
       "      <td>0.000000</td>\n",
       "      <td>0.000000</td>\n",
       "      <td>0.000000</td>\n",
       "      <td>0.000000</td>\n",
       "      <td>0.000000</td>\n",
       "      <td>1.000000</td>\n",
       "      <td>1.100000e+01</td>\n",
       "      <td>1.100000e+01</td>\n",
       "    </tr>\n",
       "    <tr>\n",
       "      <th>25%</th>\n",
       "      <td>128.180000</td>\n",
       "      <td>29.230000</td>\n",
       "      <td>4.000000e+01</td>\n",
       "      <td>1.000000</td>\n",
       "      <td>13.000000</td>\n",
       "      <td>19.000000</td>\n",
       "      <td>2295.000000</td>\n",
       "      <td>1751.000000</td>\n",
       "      <td>0.000000</td>\n",
       "      <td>12.000000</td>\n",
       "      <td>3.100000e+01</td>\n",
       "      <td>3.800000e+01</td>\n",
       "    </tr>\n",
       "    <tr>\n",
       "      <th>50%</th>\n",
       "      <td>446.530000</td>\n",
       "      <td>91.380000</td>\n",
       "      <td>1.620000e+02</td>\n",
       "      <td>1.000000</td>\n",
       "      <td>26.000000</td>\n",
       "      <td>32.000000</td>\n",
       "      <td>5114.000000</td>\n",
       "      <td>3891.000000</td>\n",
       "      <td>0.000000</td>\n",
       "      <td>30.000000</td>\n",
       "      <td>1.090000e+02</td>\n",
       "      <td>1.440000e+02</td>\n",
       "    </tr>\n",
       "    <tr>\n",
       "      <th>75%</th>\n",
       "      <td>1570.305000</td>\n",
       "      <td>267.500000</td>\n",
       "      <td>1.083000e+03</td>\n",
       "      <td>1.000000</td>\n",
       "      <td>40.000000</td>\n",
       "      <td>45.000000</td>\n",
       "      <td>7006.000000</td>\n",
       "      <td>5861.000000</td>\n",
       "      <td>1.000000</td>\n",
       "      <td>98.000000</td>\n",
       "      <td>6.060000e+02</td>\n",
       "      <td>8.505000e+02</td>\n",
       "    </tr>\n",
       "    <tr>\n",
       "      <th>max</th>\n",
       "      <td>93181.060000</td>\n",
       "      <td>49501.500000</td>\n",
       "      <td>1.345132e+08</td>\n",
       "      <td>1.000000</td>\n",
       "      <td>61.000000</td>\n",
       "      <td>61.000000</td>\n",
       "      <td>8852.000000</td>\n",
       "      <td>7817.000000</td>\n",
       "      <td>1.000000</td>\n",
       "      <td>564937.000000</td>\n",
       "      <td>2.359469e+07</td>\n",
       "      <td>9.799789e+07</td>\n",
       "    </tr>\n",
       "  </tbody>\n",
       "</table>\n",
       "</div>"
      ],
      "text/plain": [
       "       Avg_Sbmtd_Chrg  Avg_Mdcr_Stdzd_Amt     Tot_Srvcs  Rndrng_Prvdr_Geo_Lvl  \\\n",
       "count   273211.000000       273211.000000  2.732110e+05         273211.000000   \n",
       "mean      1251.172998          234.769057  2.372581e+04              0.952440   \n",
       "std       2316.386139          607.611636  6.566590e+05              0.212834   \n",
       "min          0.010000            0.010000  1.100000e+01              0.000000   \n",
       "25%        128.180000           29.230000  4.000000e+01              1.000000   \n",
       "50%        446.530000           91.380000  1.620000e+02              1.000000   \n",
       "75%       1570.305000          267.500000  1.083000e+03              1.000000   \n",
       "max      93181.060000        49501.500000  1.345132e+08              1.000000   \n",
       "\n",
       "       Rndrng_Prvdr_Geo_Cd  Rndrng_Prvdr_Geo_Desc       HCPCS_Cd  \\\n",
       "count        273211.000000          273211.000000  273211.000000   \n",
       "mean             26.672557              31.387404    4606.456900   \n",
       "std              15.964892              16.545636    2603.645083   \n",
       "min               0.000000               0.000000       0.000000   \n",
       "25%              13.000000              19.000000    2295.000000   \n",
       "50%              26.000000              32.000000    5114.000000   \n",
       "75%              40.000000              45.000000    7006.000000   \n",
       "max              61.000000              61.000000    8852.000000   \n",
       "\n",
       "          HCPCS_Desc  Place_Of_Srvc  Tot_Rndrng_Prvdrs     Tot_Benes  \\\n",
       "count  273211.000000  273211.000000      273211.000000  2.732110e+05   \n",
       "mean     3869.121657       0.453444         267.382433  5.582857e+03   \n",
       "std      2346.748908       0.497829        3149.869990  1.180026e+05   \n",
       "min         0.000000       0.000000           1.000000  1.100000e+01   \n",
       "25%      1751.000000       0.000000          12.000000  3.100000e+01   \n",
       "50%      3891.000000       0.000000          30.000000  1.090000e+02   \n",
       "75%      5861.000000       1.000000          98.000000  6.060000e+02   \n",
       "max      7817.000000       1.000000      564937.000000  2.359469e+07   \n",
       "\n",
       "       Tot_Bene_Day_Srvcs  \n",
       "count        2.732110e+05  \n",
       "mean         1.096098e+04  \n",
       "std          3.415823e+05  \n",
       "min          1.100000e+01  \n",
       "25%          3.800000e+01  \n",
       "50%          1.440000e+02  \n",
       "75%          8.505000e+02  \n",
       "max          9.799789e+07  "
      ]
     },
     "execution_count": 49,
     "metadata": {},
     "output_type": "execute_result"
    }
   ],
   "source": [
    "total.describe()"
   ]
  },
  {
   "cell_type": "code",
   "execution_count": 50,
   "id": "5b9f5e3a",
   "metadata": {},
   "outputs": [],
   "source": [
    "from scipy.stats import ttest_ind"
   ]
  },
  {
   "cell_type": "code",
   "execution_count": 51,
   "id": "8bdbf62b",
   "metadata": {},
   "outputs": [
    {
     "data": {
      "text/plain": [
       "HCPCS_Drug_Ind\n",
       "N    5593.064745\n",
       "Y    5370.140448\n",
       "Name: Tot_Benes, dtype: float64"
      ]
     },
     "execution_count": 51,
     "metadata": {},
     "output_type": "execute_result"
    }
   ],
   "source": [
    "total.Tot_Benes.groupby(total.HCPCS_Drug_Ind).mean()"
   ]
  },
  {
   "cell_type": "code",
   "execution_count": 52,
   "id": "ac99e29d",
   "metadata": {},
   "outputs": [
    {
     "data": {
      "text/plain": [
       "HCPCS_Drug_Ind\n",
       "N    1.425359e+10\n",
       "Y    7.069448e+09\n",
       "Name: Tot_Benes, dtype: float64"
      ]
     },
     "execution_count": 52,
     "metadata": {},
     "output_type": "execute_result"
    }
   ],
   "source": [
    "total.Tot_Benes.groupby(total.HCPCS_Drug_Ind).var()"
   ]
  },
  {
   "cell_type": "code",
   "execution_count": 53,
   "id": "9cda6eac",
   "metadata": {},
   "outputs": [],
   "source": [
    "N=total[total.HCPCS_Drug_Ind=='N']\n",
    "Y=total[total.HCPCS_Drug_Ind=='Y']"
   ]
  },
  {
   "cell_type": "code",
   "execution_count": 54,
   "id": "49f8333f",
   "metadata": {},
   "outputs": [
    {
     "data": {
      "text/plain": [
       "Ttest_indResult(statistic=0.2831648833347577, pvalue=0.7770543434158412)"
      ]
     },
     "execution_count": 54,
     "metadata": {},
     "output_type": "execute_result"
    }
   ],
   "source": [
    "ttest_ind(N.Tot_Benes,Y.Tot_Benes,equal_var=False)"
   ]
  },
  {
   "cell_type": "code",
   "execution_count": 55,
   "id": "e020993e",
   "metadata": {},
   "outputs": [
    {
     "data": {
      "text/plain": [
       "HCPCS_Drug_Ind\n",
       "N    11080.844109\n",
       "Y     8463.153557\n",
       "Name: Tot_Bene_Day_Srvcs, dtype: float64"
      ]
     },
     "execution_count": 55,
     "metadata": {},
     "output_type": "execute_result"
    }
   ],
   "source": [
    "total.Tot_Bene_Day_Srvcs.groupby(total.HCPCS_Drug_Ind).mean()"
   ]
  },
  {
   "cell_type": "code",
   "execution_count": 56,
   "id": "18a341ee",
   "metadata": {},
   "outputs": [
    {
     "data": {
      "text/plain": [
       "HCPCS_Drug_Ind\n",
       "N    1.218215e+11\n",
       "Y    9.496618e+09\n",
       "Name: Tot_Bene_Day_Srvcs, dtype: float64"
      ]
     },
     "execution_count": 56,
     "metadata": {},
     "output_type": "execute_result"
    }
   ],
   "source": [
    "total.Tot_Bene_Day_Srvcs.groupby(total.HCPCS_Drug_Ind).var()"
   ]
  },
  {
   "cell_type": "code",
   "execution_count": 57,
   "id": "9425cbd3",
   "metadata": {},
   "outputs": [],
   "source": [
    "N1=total[total.HCPCS_Drug_Ind=='N']\n",
    "Y1=total[total.HCPCS_Drug_Ind=='Y']"
   ]
  },
  {
   "cell_type": "code",
   "execution_count": 58,
   "id": "9ac61a41",
   "metadata": {},
   "outputs": [
    {
     "data": {
      "text/plain": [
       "Ttest_indResult(statistic=0.8372855551939118, pvalue=0.4024328090948559)"
      ]
     },
     "execution_count": 58,
     "metadata": {},
     "output_type": "execute_result"
    }
   ],
   "source": [
    "ttest_ind(N1.Tot_Bene_Day_Srvcs,Y1.Tot_Bene_Day_Srvcs)"
   ]
  },
  {
   "cell_type": "code",
   "execution_count": 59,
   "id": "8d65324f",
   "metadata": {},
   "outputs": [],
   "source": [
    "from scipy.stats import chi2_contingency"
   ]
  },
  {
   "cell_type": "code",
   "execution_count": 60,
   "id": "f6587a67",
   "metadata": {},
   "outputs": [
    {
     "data": {
      "text/html": [
       "<div>\n",
       "<style scoped>\n",
       "    .dataframe tbody tr th:only-of-type {\n",
       "        vertical-align: middle;\n",
       "    }\n",
       "\n",
       "    .dataframe tbody tr th {\n",
       "        vertical-align: top;\n",
       "    }\n",
       "\n",
       "    .dataframe thead th {\n",
       "        text-align: right;\n",
       "    }\n",
       "</style>\n",
       "<table border=\"1\" class=\"dataframe\">\n",
       "  <thead>\n",
       "    <tr style=\"text-align: right;\">\n",
       "      <th>Place_Of_Srvc</th>\n",
       "      <th>0</th>\n",
       "      <th>1</th>\n",
       "    </tr>\n",
       "    <tr>\n",
       "      <th>HCPCS_Drug_Ind</th>\n",
       "      <th></th>\n",
       "      <th></th>\n",
       "    </tr>\n",
       "  </thead>\n",
       "  <tbody>\n",
       "    <tr>\n",
       "      <th>N</th>\n",
       "      <td>148877</td>\n",
       "      <td>111824</td>\n",
       "    </tr>\n",
       "    <tr>\n",
       "      <th>Y</th>\n",
       "      <td>448</td>\n",
       "      <td>12062</td>\n",
       "    </tr>\n",
       "  </tbody>\n",
       "</table>\n",
       "</div>"
      ],
      "text/plain": [
       "Place_Of_Srvc        0       1\n",
       "HCPCS_Drug_Ind                \n",
       "N               148877  111824\n",
       "Y                  448   12062"
      ]
     },
     "execution_count": 60,
     "metadata": {},
     "output_type": "execute_result"
    }
   ],
   "source": [
    "pd.crosstab(total.HCPCS_Drug_Ind,total.Place_Of_Srvc)"
   ]
  },
  {
   "cell_type": "code",
   "execution_count": 61,
   "id": "5a963368",
   "metadata": {},
   "outputs": [
    {
     "data": {
      "text/plain": [
       "(13797.277058344007,\n",
       " 0.0,\n",
       " 1,\n",
       " array([[142487.58953702, 118213.41046298],\n",
       "        [  6837.41046298,   5672.58953702]]))"
      ]
     },
     "execution_count": 61,
     "metadata": {},
     "output_type": "execute_result"
    }
   ],
   "source": [
    "chi2_contingency(pd.crosstab(total.HCPCS_Drug_Ind,total.Place_Of_Srvc))"
   ]
  },
  {
   "cell_type": "code",
   "execution_count": 62,
   "id": "8b97bac9",
   "metadata": {},
   "outputs": [
    {
     "data": {
      "text/html": [
       "<div>\n",
       "<style scoped>\n",
       "    .dataframe tbody tr th:only-of-type {\n",
       "        vertical-align: middle;\n",
       "    }\n",
       "\n",
       "    .dataframe tbody tr th {\n",
       "        vertical-align: top;\n",
       "    }\n",
       "\n",
       "    .dataframe thead th {\n",
       "        text-align: right;\n",
       "    }\n",
       "</style>\n",
       "<table border=\"1\" class=\"dataframe\">\n",
       "  <thead>\n",
       "    <tr style=\"text-align: right;\">\n",
       "      <th>HCPCS_Drug_Ind</th>\n",
       "      <th>N</th>\n",
       "      <th>Y</th>\n",
       "    </tr>\n",
       "    <tr>\n",
       "      <th>Rndrng_Prvdr_Geo_Lvl</th>\n",
       "      <th></th>\n",
       "      <th></th>\n",
       "    </tr>\n",
       "  </thead>\n",
       "  <tbody>\n",
       "    <tr>\n",
       "      <th>0</th>\n",
       "      <td>12421</td>\n",
       "      <td>573</td>\n",
       "    </tr>\n",
       "    <tr>\n",
       "      <th>1</th>\n",
       "      <td>248280</td>\n",
       "      <td>11937</td>\n",
       "    </tr>\n",
       "  </tbody>\n",
       "</table>\n",
       "</div>"
      ],
      "text/plain": [
       "HCPCS_Drug_Ind             N      Y\n",
       "Rndrng_Prvdr_Geo_Lvl               \n",
       "0                      12421    573\n",
       "1                     248280  11937"
      ]
     },
     "execution_count": 62,
     "metadata": {},
     "output_type": "execute_result"
    }
   ],
   "source": [
    "pd.crosstab(total.Rndrng_Prvdr_Geo_Lvl,total.HCPCS_Drug_Ind)"
   ]
  },
  {
   "cell_type": "code",
   "execution_count": 63,
   "id": "d5c4c850",
   "metadata": {},
   "outputs": [
    {
     "data": {
      "text/plain": [
       "(0.8532253009977158,\n",
       " 0.3556415141576682,\n",
       " 1,\n",
       " array([[ 12399.02051528,    594.97948472],\n",
       "        [248301.97948472,  11915.02051528]]))"
      ]
     },
     "execution_count": 63,
     "metadata": {},
     "output_type": "execute_result"
    }
   ],
   "source": [
    "chi2_contingency(pd.crosstab(total.Rndrng_Prvdr_Geo_Lvl,total.HCPCS_Drug_Ind))"
   ]
  },
  {
   "cell_type": "code",
   "execution_count": 64,
   "id": "39b2a377",
   "metadata": {},
   "outputs": [],
   "source": [
    "from scipy.stats import f_oneway"
   ]
  },
  {
   "cell_type": "code",
   "execution_count": 65,
   "id": "3d97131f",
   "metadata": {},
   "outputs": [],
   "source": [
    "N=total[total.HCPCS_Drug_Ind=='N']\n",
    "Y=total[total.HCPCS_Drug_Ind=='Y']"
   ]
  },
  {
   "cell_type": "code",
   "execution_count": 66,
   "id": "f677b32b",
   "metadata": {},
   "outputs": [
    {
     "data": {
      "text/plain": [
       "F_onewayResult(statistic=11.084731395378494, pvalue=0.0008705293728514848)"
      ]
     },
     "execution_count": 66,
     "metadata": {},
     "output_type": "execute_result"
    }
   ],
   "source": [
    "f_oneway(N.Tot_Rndrng_Prvdrs,Y.Tot_Rndrng_Prvdrs)"
   ]
  },
  {
   "cell_type": "code",
   "execution_count": 67,
   "id": "b0561da1",
   "metadata": {},
   "outputs": [],
   "source": [
    "N2=total[total.HCPCS_Drug_Ind=='N']\n",
    "Y2=total[total.HCPCS_Drug_Ind=='Y']"
   ]
  },
  {
   "cell_type": "code",
   "execution_count": 68,
   "id": "817743ee",
   "metadata": {},
   "outputs": [
    {
     "data": {
      "text/plain": [
       "F_onewayResult(statistic=0.0426022089918076, pvalue=0.836476261470385)"
      ]
     },
     "execution_count": 68,
     "metadata": {},
     "output_type": "execute_result"
    }
   ],
   "source": [
    "f_oneway(N2.Tot_Benes,Y2.Tot_Benes)"
   ]
  },
  {
   "cell_type": "code",
   "execution_count": 69,
   "id": "a012393e",
   "metadata": {},
   "outputs": [],
   "source": [
    "y=total.HCPCS_Drug_Ind"
   ]
  },
  {
   "cell_type": "code",
   "execution_count": 70,
   "id": "4f01591f",
   "metadata": {},
   "outputs": [],
   "source": [
    "x=total.drop(['HCPCS_Drug_Ind'],axis=1)"
   ]
  },
  {
   "cell_type": "markdown",
   "id": "2552763a",
   "metadata": {},
   "source": [
    "## In this data i have taken dependent variable as HCPCS_Drug_Ind and it has imbalance data so here i have done oversampling by using smote technique"
   ]
  },
  {
   "cell_type": "code",
   "execution_count": 71,
   "id": "cd6108a8",
   "metadata": {},
   "outputs": [
    {
     "data": {
      "text/plain": [
       "N    260701\n",
       "Y     12510\n",
       "Name: HCPCS_Drug_Ind, dtype: int64"
      ]
     },
     "execution_count": 71,
     "metadata": {},
     "output_type": "execute_result"
    }
   ],
   "source": [
    "total.HCPCS_Drug_Ind.value_counts()"
   ]
  },
  {
   "cell_type": "code",
   "execution_count": 72,
   "id": "b10ed421",
   "metadata": {},
   "outputs": [],
   "source": [
    "from imblearn.over_sampling import SMOTE"
   ]
  },
  {
   "cell_type": "code",
   "execution_count": 73,
   "id": "c7d10663",
   "metadata": {},
   "outputs": [],
   "source": [
    "smote=SMOTE(random_state=42)"
   ]
  },
  {
   "cell_type": "code",
   "execution_count": 74,
   "id": "bc4e0937",
   "metadata": {},
   "outputs": [],
   "source": [
    "x_smote,y_smote=smote.fit_resample(x,y)"
   ]
  },
  {
   "cell_type": "code",
   "execution_count": 75,
   "id": "9943e335",
   "metadata": {},
   "outputs": [
    {
     "name": "stdout",
     "output_type": "stream",
     "text": [
      "HCPCS_Drug_Ind\n",
      "N                 260701\n",
      "Y                  12510\n",
      "dtype: int64\n",
      "HCPCS_Drug_Ind\n",
      "N                 260701\n",
      "Y                 260701\n",
      "dtype: int64\n"
     ]
    }
   ],
   "source": [
    "print(pd.DataFrame(y).value_counts())\n",
    "print(pd.DataFrame(y_smote).value_counts())"
   ]
  },
  {
   "cell_type": "code",
   "execution_count": 76,
   "id": "ba1974ab",
   "metadata": {},
   "outputs": [],
   "source": [
    "from sklearn.linear_model import LogisticRegression"
   ]
  },
  {
   "cell_type": "code",
   "execution_count": 77,
   "id": "da11bf30",
   "metadata": {},
   "outputs": [],
   "source": [
    "lr=LogisticRegression(max_iter=400)"
   ]
  },
  {
   "cell_type": "code",
   "execution_count": 78,
   "id": "d9f9c1a5",
   "metadata": {},
   "outputs": [],
   "source": [
    "logitsmote=lr.fit(x_smote,y_smote)"
   ]
  },
  {
   "cell_type": "code",
   "execution_count": 79,
   "id": "c96d0844",
   "metadata": {},
   "outputs": [
    {
     "data": {
      "text/plain": [
       "0.840796544700634"
      ]
     },
     "execution_count": 79,
     "metadata": {},
     "output_type": "execute_result"
    }
   ],
   "source": [
    "logitsmote.score(x_smote,y_smote)"
   ]
  },
  {
   "cell_type": "code",
   "execution_count": 80,
   "id": "cfefe1da",
   "metadata": {},
   "outputs": [],
   "source": [
    "smotepredlog=logitsmote.predict(x_smote)"
   ]
  },
  {
   "cell_type": "code",
   "execution_count": 81,
   "id": "36a3a2e6",
   "metadata": {},
   "outputs": [
    {
     "data": {
      "text/html": [
       "<div>\n",
       "<style scoped>\n",
       "    .dataframe tbody tr th:only-of-type {\n",
       "        vertical-align: middle;\n",
       "    }\n",
       "\n",
       "    .dataframe tbody tr th {\n",
       "        vertical-align: top;\n",
       "    }\n",
       "\n",
       "    .dataframe thead th {\n",
       "        text-align: right;\n",
       "    }\n",
       "</style>\n",
       "<table border=\"1\" class=\"dataframe\">\n",
       "  <thead>\n",
       "    <tr style=\"text-align: right;\">\n",
       "      <th>col_0</th>\n",
       "      <th>N</th>\n",
       "      <th>Y</th>\n",
       "    </tr>\n",
       "    <tr>\n",
       "      <th>HCPCS_Drug_Ind</th>\n",
       "      <th></th>\n",
       "      <th></th>\n",
       "    </tr>\n",
       "  </thead>\n",
       "  <tbody>\n",
       "    <tr>\n",
       "      <th>N</th>\n",
       "      <td>194754</td>\n",
       "      <td>65947</td>\n",
       "    </tr>\n",
       "    <tr>\n",
       "      <th>Y</th>\n",
       "      <td>17062</td>\n",
       "      <td>243639</td>\n",
       "    </tr>\n",
       "  </tbody>\n",
       "</table>\n",
       "</div>"
      ],
      "text/plain": [
       "col_0                N       Y\n",
       "HCPCS_Drug_Ind                \n",
       "N               194754   65947\n",
       "Y                17062  243639"
      ]
     },
     "execution_count": 81,
     "metadata": {},
     "output_type": "execute_result"
    }
   ],
   "source": [
    "pd.crosstab(y_smote,smotepredlog)"
   ]
  },
  {
   "cell_type": "code",
   "execution_count": 82,
   "id": "d822c107",
   "metadata": {},
   "outputs": [],
   "source": [
    "from sklearn.model_selection import cross_val_score"
   ]
  },
  {
   "cell_type": "code",
   "execution_count": 83,
   "id": "6b0ddf77",
   "metadata": {},
   "outputs": [
    {
     "data": {
      "text/plain": [
       "array([0.73931972, 0.78426559, 0.83657461, 0.85674147, 0.83830073])"
      ]
     },
     "execution_count": 83,
     "metadata": {},
     "output_type": "execute_result"
    }
   ],
   "source": [
    "cross_val_score(logitsmote,x_smote,y_smote)"
   ]
  },
  {
   "cell_type": "code",
   "execution_count": 84,
   "id": "9756d4c7",
   "metadata": {},
   "outputs": [
    {
     "data": {
      "text/plain": [
       "0.8110404227362624"
      ]
     },
     "execution_count": 84,
     "metadata": {},
     "output_type": "execute_result"
    }
   ],
   "source": [
    "np.mean(cross_val_score(logitsmote,x_smote,y_smote))"
   ]
  },
  {
   "cell_type": "code",
   "execution_count": 85,
   "id": "b7b541f7",
   "metadata": {},
   "outputs": [],
   "source": [
    "from sklearn.metrics import classification_report"
   ]
  },
  {
   "cell_type": "code",
   "execution_count": 86,
   "id": "f8abe93d",
   "metadata": {},
   "outputs": [
    {
     "name": "stdout",
     "output_type": "stream",
     "text": [
      "              precision    recall  f1-score   support\n",
      "\n",
      "           N       0.92      0.75      0.82    260701\n",
      "           Y       0.79      0.93      0.85    260701\n",
      "\n",
      "    accuracy                           0.84    521402\n",
      "   macro avg       0.85      0.84      0.84    521402\n",
      "weighted avg       0.85      0.84      0.84    521402\n",
      "\n"
     ]
    }
   ],
   "source": [
    "print(classification_report(y_smote,smotepredlog))"
   ]
  },
  {
   "cell_type": "code",
   "execution_count": 87,
   "id": "a6a04c60",
   "metadata": {},
   "outputs": [],
   "source": [
    "from sklearn.metrics import plot_roc_curve"
   ]
  },
  {
   "cell_type": "code",
   "execution_count": 88,
   "id": "b8b28069",
   "metadata": {},
   "outputs": [
    {
     "data": {
      "text/plain": [
       "<sklearn.metrics._plot.roc_curve.RocCurveDisplay at 0x2abee4dc9a0>"
      ]
     },
     "execution_count": 88,
     "metadata": {},
     "output_type": "execute_result"
    },
    {
     "data": {
      "image/png": "[encoded data removed]",
      "text/plain": [
       "<Figure size 432x288 with 1 Axes>"
      ]
     },
     "metadata": {
      "needs_background": "light"
     },
     "output_type": "display_data"
    }
   ],
   "source": [
    "plot_roc_curve(logitsmote,x_smote,y_smote)"
   ]
  },
  {
   "cell_type": "code",
   "execution_count": 89,
   "id": "27782501",
   "metadata": {},
   "outputs": [],
   "source": [
    "from sklearn.tree import DecisionTreeClassifier"
   ]
  },
  {
   "cell_type": "code",
   "execution_count": 90,
   "id": "5cf2c11a",
   "metadata": {},
   "outputs": [],
   "source": [
    "dtreesmote=DecisionTreeClassifier(max_depth=4)"
   ]
  },
  {
   "cell_type": "code",
   "execution_count": 91,
   "id": "fd6d229f",
   "metadata": {},
   "outputs": [],
   "source": [
    "dtmodel=dtreesmote.fit(x_smote,y_smote)"
   ]
  },
  {
   "cell_type": "code",
   "execution_count": 92,
   "id": "58b9a14f",
   "metadata": {},
   "outputs": [
    {
     "data": {
      "text/plain": [
       "0.9866897326822682"
      ]
     },
     "execution_count": 92,
     "metadata": {},
     "output_type": "execute_result"
    }
   ],
   "source": [
    "dtmodel.score(x_smote,y_smote)"
   ]
  },
  {
   "cell_type": "code",
   "execution_count": 93,
   "id": "7c14879b",
   "metadata": {},
   "outputs": [],
   "source": [
    "dtpredict=dtmodel.predict(x_smote)"
   ]
  },
  {
   "cell_type": "code",
   "execution_count": 94,
   "id": "7456bf15",
   "metadata": {},
   "outputs": [
    {
     "data": {
      "text/html": [
       "<div>\n",
       "<style scoped>\n",
       "    .dataframe tbody tr th:only-of-type {\n",
       "        vertical-align: middle;\n",
       "    }\n",
       "\n",
       "    .dataframe tbody tr th {\n",
       "        vertical-align: top;\n",
       "    }\n",
       "\n",
       "    .dataframe thead th {\n",
       "        text-align: right;\n",
       "    }\n",
       "</style>\n",
       "<table border=\"1\" class=\"dataframe\">\n",
       "  <thead>\n",
       "    <tr style=\"text-align: right;\">\n",
       "      <th>col_0</th>\n",
       "      <th>N</th>\n",
       "      <th>Y</th>\n",
       "    </tr>\n",
       "    <tr>\n",
       "      <th>HCPCS_Drug_Ind</th>\n",
       "      <th></th>\n",
       "      <th></th>\n",
       "    </tr>\n",
       "  </thead>\n",
       "  <tbody>\n",
       "    <tr>\n",
       "      <th>N</th>\n",
       "      <td>258341</td>\n",
       "      <td>2360</td>\n",
       "    </tr>\n",
       "    <tr>\n",
       "      <th>Y</th>\n",
       "      <td>4580</td>\n",
       "      <td>256121</td>\n",
       "    </tr>\n",
       "  </tbody>\n",
       "</table>\n",
       "</div>"
      ],
      "text/plain": [
       "col_0                N       Y\n",
       "HCPCS_Drug_Ind                \n",
       "N               258341    2360\n",
       "Y                 4580  256121"
      ]
     },
     "execution_count": 94,
     "metadata": {},
     "output_type": "execute_result"
    }
   ],
   "source": [
    "pd.crosstab(y_smote,dtpredict)"
   ]
  },
  {
   "cell_type": "code",
   "execution_count": 95,
   "id": "28acc39c",
   "metadata": {},
   "outputs": [
    {
     "name": "stdout",
     "output_type": "stream",
     "text": [
      "              precision    recall  f1-score   support\n",
      "\n",
      "           N       0.98      0.99      0.99    260701\n",
      "           Y       0.99      0.98      0.99    260701\n",
      "\n",
      "    accuracy                           0.99    521402\n",
      "   macro avg       0.99      0.99      0.99    521402\n",
      "weighted avg       0.99      0.99      0.99    521402\n",
      "\n"
     ]
    }
   ],
   "source": [
    "print(classification_report(y_smote,dtpredict))"
   ]
  },
  {
   "cell_type": "code",
   "execution_count": 96,
   "id": "76829dd4",
   "metadata": {},
   "outputs": [
    {
     "data": {
      "text/plain": [
       "array([0.98599937, 0.98601855, 0.98702532, 0.98716916, 0.98717875])"
      ]
     },
     "execution_count": 96,
     "metadata": {},
     "output_type": "execute_result"
    }
   ],
   "source": [
    "cross_val_score(dtreesmote,x_smote,y_smote)"
   ]
  },
  {
   "cell_type": "code",
   "execution_count": 97,
   "id": "5f31fa32",
   "metadata": {},
   "outputs": [
    {
     "data": {
      "text/plain": [
       "0.9866782278137454"
      ]
     },
     "execution_count": 97,
     "metadata": {},
     "output_type": "execute_result"
    }
   ],
   "source": [
    "np.mean(cross_val_score(dtreesmote,x_smote,y_smote))"
   ]
  },
  {
   "cell_type": "code",
   "execution_count": 98,
   "id": "8f7315af",
   "metadata": {},
   "outputs": [
    {
     "data": {
      "text/plain": [
       "<sklearn.metrics._plot.roc_curve.RocCurveDisplay at 0x2abef7f3250>"
      ]
     },
     "execution_count": 98,
     "metadata": {},
     "output_type": "execute_result"
    },
    {
     "data": {
      "image/png": "[encoded data removed]",
      "text/plain": [
       "<Figure size 432x288 with 1 Axes>"
      ]
     },
     "metadata": {
      "needs_background": "light"
     },
     "output_type": "display_data"
    }
   ],
   "source": [
    "plot_roc_curve(dtreesmote,x_smote,y_smote)"
   ]
  },
  {
   "cell_type": "code",
   "execution_count": 99,
   "id": "f847b176",
   "metadata": {},
   "outputs": [],
   "source": [
    "from sklearn.ensemble import RandomForestClassifier"
   ]
  },
  {
   "cell_type": "code",
   "execution_count": 100,
   "id": "68820376",
   "metadata": {},
   "outputs": [],
   "source": [
    "rfsmote=RandomForestClassifier(max_depth=4,n_estimators=3)"
   ]
  },
  {
   "cell_type": "code",
   "execution_count": 101,
   "id": "f98513df",
   "metadata": {},
   "outputs": [],
   "source": [
    "rfmodel=rfsmote.fit(x_smote,y_smote)"
   ]
  },
  {
   "cell_type": "code",
   "execution_count": 102,
   "id": "bd28a180",
   "metadata": {},
   "outputs": [
    {
     "data": {
      "text/plain": [
       "0.9729536902428453"
      ]
     },
     "execution_count": 102,
     "metadata": {},
     "output_type": "execute_result"
    }
   ],
   "source": [
    "rfmodel.score(x_smote,y_smote)"
   ]
  },
  {
   "cell_type": "code",
   "execution_count": 103,
   "id": "e5ee74d8",
   "metadata": {},
   "outputs": [],
   "source": [
    "rfpre=rfmodel.predict(x_smote)"
   ]
  },
  {
   "cell_type": "code",
   "execution_count": 104,
   "id": "7c3be034",
   "metadata": {},
   "outputs": [
    {
     "data": {
      "text/plain": [
       "array([0.75122026, 0.96048178, 0.98211546, 0.95347142, 0.93135788])"
      ]
     },
     "execution_count": 104,
     "metadata": {},
     "output_type": "execute_result"
    }
   ],
   "source": [
    "cross_val_score(rfmodel,x_smote,y_smote)"
   ]
  },
  {
   "cell_type": "code",
   "execution_count": 105,
   "id": "829ce0d4",
   "metadata": {},
   "outputs": [
    {
     "data": {
      "text/plain": [
       "0.9088726594173548"
      ]
     },
     "execution_count": 105,
     "metadata": {},
     "output_type": "execute_result"
    }
   ],
   "source": [
    "np.mean(cross_val_score(rfmodel,x_smote,y_smote))"
   ]
  },
  {
   "cell_type": "code",
   "execution_count": 106,
   "id": "0fef2fb7",
   "metadata": {},
   "outputs": [
    {
     "data": {
      "text/html": [
       "<div>\n",
       "<style scoped>\n",
       "    .dataframe tbody tr th:only-of-type {\n",
       "        vertical-align: middle;\n",
       "    }\n",
       "\n",
       "    .dataframe tbody tr th {\n",
       "        vertical-align: top;\n",
       "    }\n",
       "\n",
       "    .dataframe thead th {\n",
       "        text-align: right;\n",
       "    }\n",
       "</style>\n",
       "<table border=\"1\" class=\"dataframe\">\n",
       "  <thead>\n",
       "    <tr style=\"text-align: right;\">\n",
       "      <th>col_0</th>\n",
       "      <th>N</th>\n",
       "      <th>Y</th>\n",
       "    </tr>\n",
       "    <tr>\n",
       "      <th>HCPCS_Drug_Ind</th>\n",
       "      <th></th>\n",
       "      <th></th>\n",
       "    </tr>\n",
       "  </thead>\n",
       "  <tbody>\n",
       "    <tr>\n",
       "      <th>N</th>\n",
       "      <td>251298</td>\n",
       "      <td>9403</td>\n",
       "    </tr>\n",
       "    <tr>\n",
       "      <th>Y</th>\n",
       "      <td>4699</td>\n",
       "      <td>256002</td>\n",
       "    </tr>\n",
       "  </tbody>\n",
       "</table>\n",
       "</div>"
      ],
      "text/plain": [
       "col_0                N       Y\n",
       "HCPCS_Drug_Ind                \n",
       "N               251298    9403\n",
       "Y                 4699  256002"
      ]
     },
     "execution_count": 106,
     "metadata": {},
     "output_type": "execute_result"
    }
   ],
   "source": [
    "pd.crosstab(y_smote,rfpre)"
   ]
  },
  {
   "cell_type": "code",
   "execution_count": 107,
   "id": "0b65b2cb",
   "metadata": {},
   "outputs": [
    {
     "name": "stdout",
     "output_type": "stream",
     "text": [
      "              precision    recall  f1-score   support\n",
      "\n",
      "           N       0.98      0.96      0.97    260701\n",
      "           Y       0.96      0.98      0.97    260701\n",
      "\n",
      "    accuracy                           0.97    521402\n",
      "   macro avg       0.97      0.97      0.97    521402\n",
      "weighted avg       0.97      0.97      0.97    521402\n",
      "\n"
     ]
    }
   ],
   "source": [
    "print(classification_report(y_smote,rfpre))"
   ]
  },
  {
   "cell_type": "code",
   "execution_count": 108,
   "id": "c99f0675",
   "metadata": {},
   "outputs": [
    {
     "data": {
      "text/plain": [
       "<sklearn.metrics._plot.roc_curve.RocCurveDisplay at 0x2ab8003a4f0>"
      ]
     },
     "execution_count": 108,
     "metadata": {},
     "output_type": "execute_result"
    },
    {
     "data": {
      "image/png": "[encoded data removed]",
      "text/plain": [
       "<Figure size 432x288 with 1 Axes>"
      ]
     },
     "metadata": {
      "needs_background": "light"
     },
     "output_type": "display_data"
    }
   ],
   "source": [
    "plot_roc_curve(rfmodel,x_smote,y_smote)"
   ]
  },
  {
   "cell_type": "code",
   "execution_count": 109,
   "id": "fa3fc9f8",
   "metadata": {},
   "outputs": [],
   "source": [
    "from sklearn.ensemble import GradientBoostingClassifier"
   ]
  },
  {
   "cell_type": "code",
   "execution_count": 110,
   "id": "c6aa4e8c",
   "metadata": {},
   "outputs": [],
   "source": [
    "gbmsmote=GradientBoostingClassifier()"
   ]
  },
  {
   "cell_type": "code",
   "execution_count": 111,
   "id": "7964352f",
   "metadata": {},
   "outputs": [],
   "source": [
    "gbmmodel=gbmsmote.fit(x_smote,y_smote)"
   ]
  },
  {
   "cell_type": "code",
   "execution_count": 112,
   "id": "289910ca",
   "metadata": {},
   "outputs": [
    {
     "data": {
      "text/plain": [
       "0.9970003950886265"
      ]
     },
     "execution_count": 112,
     "metadata": {},
     "output_type": "execute_result"
    }
   ],
   "source": [
    "gbmmodel.score(x_smote,y_smote)"
   ]
  },
  {
   "cell_type": "code",
   "execution_count": 113,
   "id": "e6f4ffbb",
   "metadata": {},
   "outputs": [],
   "source": [
    "gbmpre=gbmmodel.predict(x_smote)"
   ]
  },
  {
   "cell_type": "code",
   "execution_count": 114,
   "id": "4993c76e",
   "metadata": {},
   "outputs": [
    {
     "data": {
      "text/plain": [
       "array([0.97691813, 0.996356  , 0.99722862, 0.9967875 , 0.99649022])"
      ]
     },
     "execution_count": 114,
     "metadata": {},
     "output_type": "execute_result"
    }
   ],
   "source": [
    "cross_val_score(gbmmodel,x_smote,y_smote)"
   ]
  },
  {
   "cell_type": "code",
   "execution_count": 181,
   "id": "fa4eda8f",
   "metadata": {},
   "outputs": [
    {
     "data": {
      "text/plain": [
       "0.992756094"
      ]
     },
     "execution_count": 181,
     "metadata": {},
     "output_type": "execute_result"
    }
   ],
   "source": [
    "np.mean([0.97691813, 0.996356  , 0.99722862, 0.9967875 , 0.99649022])"
   ]
  },
  {
   "cell_type": "code",
   "execution_count": 116,
   "id": "79866840",
   "metadata": {},
   "outputs": [
    {
     "data": {
      "text/html": [
       "<div>\n",
       "<style scoped>\n",
       "    .dataframe tbody tr th:only-of-type {\n",
       "        vertical-align: middle;\n",
       "    }\n",
       "\n",
       "    .dataframe tbody tr th {\n",
       "        vertical-align: top;\n",
       "    }\n",
       "\n",
       "    .dataframe thead th {\n",
       "        text-align: right;\n",
       "    }\n",
       "</style>\n",
       "<table border=\"1\" class=\"dataframe\">\n",
       "  <thead>\n",
       "    <tr style=\"text-align: right;\">\n",
       "      <th>col_0</th>\n",
       "      <th>N</th>\n",
       "      <th>Y</th>\n",
       "    </tr>\n",
       "    <tr>\n",
       "      <th>HCPCS_Drug_Ind</th>\n",
       "      <th></th>\n",
       "      <th></th>\n",
       "    </tr>\n",
       "  </thead>\n",
       "  <tbody>\n",
       "    <tr>\n",
       "      <th>N</th>\n",
       "      <td>259566</td>\n",
       "      <td>1135</td>\n",
       "    </tr>\n",
       "    <tr>\n",
       "      <th>Y</th>\n",
       "      <td>429</td>\n",
       "      <td>260272</td>\n",
       "    </tr>\n",
       "  </tbody>\n",
       "</table>\n",
       "</div>"
      ],
      "text/plain": [
       "col_0                N       Y\n",
       "HCPCS_Drug_Ind                \n",
       "N               259566    1135\n",
       "Y                  429  260272"
      ]
     },
     "execution_count": 116,
     "metadata": {},
     "output_type": "execute_result"
    }
   ],
   "source": [
    "pd.crosstab(y_smote,gbmpre)"
   ]
  },
  {
   "cell_type": "code",
   "execution_count": 117,
   "id": "83426854",
   "metadata": {},
   "outputs": [
    {
     "name": "stdout",
     "output_type": "stream",
     "text": [
      "              precision    recall  f1-score   support\n",
      "\n",
      "           N       1.00      1.00      1.00    260701\n",
      "           Y       1.00      1.00      1.00    260701\n",
      "\n",
      "    accuracy                           1.00    521402\n",
      "   macro avg       1.00      1.00      1.00    521402\n",
      "weighted avg       1.00      1.00      1.00    521402\n",
      "\n"
     ]
    }
   ],
   "source": [
    "print(classification_report(y_smote,gbmpre))"
   ]
  },
  {
   "cell_type": "code",
   "execution_count": 118,
   "id": "3cf90771",
   "metadata": {},
   "outputs": [
    {
     "data": {
      "text/plain": [
       "<sklearn.metrics._plot.roc_curve.RocCurveDisplay at 0x2ab804e87c0>"
      ]
     },
     "execution_count": 118,
     "metadata": {},
     "output_type": "execute_result"
    },
    {
     "data": {
      "image/png": "[encoded data removed]",
      "text/plain": [
       "<Figure size 432x288 with 1 Axes>"
      ]
     },
     "metadata": {
      "needs_background": "light"
     },
     "output_type": "display_data"
    }
   ],
   "source": [
    "plot_roc_curve(gbmmodel,x_smote,y_smote)"
   ]
  },
  {
   "cell_type": "markdown",
   "id": "ec8502ab",
   "metadata": {},
   "source": [
    "### After this three model predictions i have predicted the base values of all the reports based on the output values"
   ]
  },
  {
   "cell_type": "code",
   "execution_count": 120,
   "id": "31fe7a02",
   "metadata": {},
   "outputs": [],
   "source": [
    "textdata=medicdata.HCPCS_Desc"
   ]
  },
  {
   "cell_type": "code",
   "execution_count": 121,
   "id": "ec23fd6b",
   "metadata": {},
   "outputs": [
    {
     "data": {
      "text/plain": [
       "(273211,)"
      ]
     },
     "execution_count": 121,
     "metadata": {},
     "output_type": "execute_result"
    }
   ],
   "source": [
    "textdata.shape"
   ]
  },
  {
   "cell_type": "code",
   "execution_count": 122,
   "id": "2c583066",
   "metadata": {},
   "outputs": [],
   "source": [
    "import re"
   ]
  },
  {
   "cell_type": "code",
   "execution_count": 123,
   "id": "8de5e906",
   "metadata": {},
   "outputs": [],
   "source": [
    "def clean_tweet(text):\n",
    "    return ' '.join(re.sub(\"(@[A-Za-z0-9]+)|(#[A-Za-z0-9]+)|([^0-9A-Za-z \\t])|(\\w+:\\/\\/\\s+)|([0-9])\",\" \",text).split())"
   ]
  },
  {
   "cell_type": "code",
   "execution_count": 124,
   "id": "4bf43419",
   "metadata": {},
   "outputs": [],
   "source": [
    "medictext=[str(clean_tweet(text)) for text in textdata]"
   ]
  },
  {
   "cell_type": "code",
   "execution_count": 125,
   "id": "2a570b40",
   "metadata": {},
   "outputs": [
    {
     "data": {
      "text/plain": [
       "['Liver disease ten biochemical assays alt a macroglobulin apolipoprotein a total bilirubin ggt haptoglobin ast glucose total cholesterol and triglycerides utilizing serum prognostic algorithm reported as quantitative scores for fibrosis stea',\n",
       " 'Test for detecting genes associated with prostate cancer in urine',\n",
       " 'Anesthesia for procedure on salivary gland with biopsy',\n",
       " 'Anesthesia for procedure on salivary gland with biopsy',\n",
       " 'Anesthesia for procedure to repair lip defect present at birth',\n",
       " 'Anesthesia for procedure on eyelid',\n",
       " 'Anesthesia for procedure on eyelid',\n",
       " 'Anesthesia for electric shock treatment',\n",
       " 'Anesthesia for electric shock treatment',\n",
       " 'Anesthesia for biopsy of external middle and inner ear',\n",
       " 'Anesthesia for biopsy of external middle and inner ear',\n",
       " 'Anesthesia for examination and biopsy of external middle and inner ear using an endoscope',\n",
       " 'Anesthesia for examination and biopsy of external middle and inner ear using an endoscope',\n",
       " 'Anesthesia for incision of ear drum',\n",
       " 'Anesthesia for incision of ear drum',\n",
       " 'Anesthesia for procedure on eye',\n",
       " 'Anesthesia for procedure on eye',\n",
       " 'Anesthesia for lens surgery',\n",
       " 'Anesthesia for lens surgery',\n",
       " 'Anesthesia for procedure on eye for corneal transplant',\n",
       " 'Anesthesia for procedure on eye for corneal transplant',\n",
       " 'Anesthesia for retinal surgery',\n",
       " 'Anesthesia for retinal surgery',\n",
       " 'Anesthesia for procedure on eye for removal of iris',\n",
       " 'Anesthesia for procedure on eye for removal of iris',\n",
       " 'Anesthesia for eye examination using an endoscope',\n",
       " 'Anesthesia for eye examination using an endoscope',\n",
       " 'Anesthesia for procedure on nose and sinus',\n",
       " 'Anesthesia for procedure on nose and sinus',\n",
       " 'Anesthesia for surgery of nose and sinus',\n",
       " 'Anesthesia for soft tissue biopsy on nose and sinus',\n",
       " 'Anesthesia for procedure on mouth including biopsy',\n",
       " 'Anesthesia for procedure on mouth including biopsy',\n",
       " 'Anesthesia for procedure on mouth to repair palate deformity',\n",
       " 'Anesthesia for procedure on mouth to repair palate deformity',\n",
       " 'Anesthesia for procedure on throat for removal of tumor',\n",
       " 'Anesthesia for surgery on mouth',\n",
       " 'Test for detecting gene abnormality associated with blood and lymphatic system cancer in blood or bone marrow',\n",
       " 'MicroRNA gene analysis of thyroid nodule tissue',\n",
       " 'Anesthesia for procedure on facial bones or skull',\n",
       " 'Anesthesia for procedure on facial bones or skull',\n",
       " 'Anesthesia for surgery of facial bones or skull',\n",
       " 'Anesthesia for surgery of facial bones or skull',\n",
       " 'Anesthesia for procedure on brain',\n",
       " 'Anesthesia for procedure to remove blood collection in brain',\n",
       " 'Anesthesia for procedure to remove fluid in brain',\n",
       " 'Anesthesia for procedure to create holes in skull including X ray imaging',\n",
       " 'Anesthesia for procedure to repair skull or skull fracture',\n",
       " 'Anesthesia for procedure on blood vessel in brain',\n",
       " 'Anesthesia for procedure on brain patient in sitting position',\n",
       " 'Anesthesia for procedure to drain brain and spinal cord fluid',\n",
       " 'Anesthesia for procedure on nerve in brain',\n",
       " 'DNA and RNA gene analysis for non small cell lung cancer',\n",
       " 'DNA gene analysis for acute myelogenous leukemia',\n",
       " 'Measurement of glycosylated acute phase proteins',\n",
       " 'Gene analysis Janus kinase of targeted sequence exons',\n",
       " 'Anesthesia for procedure on esophagus and neck',\n",
       " 'Anesthesia for procedure on esophagus and neck',\n",
       " 'Gene analysis of targeted sequences for warfarin drug response',\n",
       " 'Gene analysis cytochrome P family subfamily A member for common variants',\n",
       " 'Anesthesia for procedure on esophagus and neck age year or older',\n",
       " 'Anesthesia for procedure on esophagus and neck age year or older',\n",
       " 'Anesthesia for needle biopsy of thyroid',\n",
       " 'Anesthesia for needle biopsy of thyroid',\n",
       " 'Gene analysis catechol O methyltransferase for c G A rs variant',\n",
       " 'Gene analysis hydroxytryptamine receptor A for common variants',\n",
       " 'Anesthesia for procedure on major blood vessels of neck',\n",
       " 'Anesthesia for procedure on major blood vessels of neck',\n",
       " 'Anesthesia for tying procedure on major blood vessels of neck',\n",
       " 'Anesthesia for tying procedure on major blood vessels of neck',\n",
       " 'DNA gene analysis of genes in solid organ tumor tissue',\n",
       " 'Measurement of vitamin D in serum',\n",
       " 'Anesthesia for procedure on skin of arms legs or trunk',\n",
       " 'Anesthesia for procedure on skin of arms legs or trunk',\n",
       " 'Anesthesia for breast reconstruction',\n",
       " 'Anesthesia for breast reconstruction',\n",
       " 'Anesthesia for removal of breast',\n",
       " 'Anesthesia for removal of breast',\n",
       " 'Anesthesia for removal of breast and lymph nodes',\n",
       " 'Anesthesia for procedure to correct abnormal heart rhythm',\n",
       " 'Anesthesia for procedure to correct abnormal heart rhythm',\n",
       " 'Computed tomography CT of brain blood flow volume and timing of flow analysis with contrast',\n",
       " 'Anesthesia for procedure on collar bone and shoulder blade',\n",
       " 'Anesthesia for procedure on collar bone and shoulder blade',\n",
       " 'Anesthesia for biopsy of collar bone',\n",
       " 'mRNA gene analysis of genes in breast ductal carcinoma in situ tumor tissue',\n",
       " 'Anesthesia for partial removal of rib',\n",
       " 'Anesthesia for partial removal of rib and chest wall repair',\n",
       " 'Anesthesia for partial removal of rib and chest wall reconstruction',\n",
       " 'mRNA gene analysis of genes in prostate tumor tissue',\n",
       " 'Anesthesia for procedure on esophagus',\n",
       " 'Testing for presence of prescription drugs in urine',\n",
       " 'Anesthesia for closed procedure in chest',\n",
       " 'Anesthesia for closed procedure in chest',\n",
       " 'Anesthesia for closed needle biopsy of lung',\n",
       " 'Anesthesia for closed needle biopsy of lung',\n",
       " 'Anesthesia for closed drainage of lung fluid',\n",
       " 'Anesthesia for closed diagnostic examination of chest using an endoscope',\n",
       " 'Anesthesia for closed diagnostic examination of chest using an endoscope with lung ventilation',\n",
       " 'Measurement of all five major lipoprotein classes and subclasses in blood',\n",
       " 'Anesthesia for insertion of permanent heart pacemaker',\n",
       " 'Anesthesia for insertion of permanent heart pacemaker',\n",
       " 'Anesthesia for central vein access',\n",
       " 'Anesthesia for central vein access',\n",
       " 'Anesthesia for insertion or replace of pacing heart defibrillator',\n",
       " 'Anesthesia for insertion or replace of pacing heart defibrillator',\n",
       " 'Anesthesia for procedure on heart to correct abnormal rhythm',\n",
       " 'Anesthesia for procedure on heart to correct abnormal rhythm',\n",
       " 'Anesthesia for reconstruction of windpipe and lung airway',\n",
       " 'Anesthesia for procedure in chest',\n",
       " 'Anesthesia for procedure in chest with lung ventilation',\n",
       " 'Anesthesia for removal of lung lining',\n",
       " 'Anesthesia for lung removal and chest wall repair',\n",
       " 'Anesthesia for procedure on windpipe and lung airway',\n",
       " 'Computer assisted fluoroscopic image guided musculoskeletal surgical navigational orthopedic operation',\n",
       " 'Measurement of or more drug classes in capillary blood',\n",
       " 'Anesthesia for removal of breast bone tissue',\n",
       " 'Musculoskeletal surgical navigational orthopedic operation using imaging guidance',\n",
       " 'Anesthesia for procedure on heart and great blood vessels',\n",
       " 'Anesthesia for procedure on heart and great blood vessels on heart lung machine age year or older or re operation more than month after original procedure',\n",
       " 'Anesthesia for procedure on heart and great blood vessels on heart lung machine',\n",
       " 'Anesthesia for heart artery bypass grafting',\n",
       " 'Anesthesia for heart artery bypass grafting on heart lung machine',\n",
       " 'Anesthesia for heart or heart lung transplant',\n",
       " 'Measurement of antibodies to Merkel cell polyoma virus oncoprotein in serum',\n",
       " 'Test for presence of antibodies to Merkel cell polyoma virus oncoprotein in serum',\n",
       " 'Anesthesia for procedure on upper spine and spinal cord',\n",
       " 'Anesthesia for procedure on upper spine and spinal cord',\n",
       " 'Anesthesia for procedure on spine and spinal cord patient in sitting position',\n",
       " 'Spatial frequency domain imaging of skin',\n",
       " 'Anesthesia for procedure on middle spine and spinal cord',\n",
       " 'Anesthesia for procedure on middle spine and spinal cord',\n",
       " 'Anesthesia for procedure on middle spine and spinal cord',\n",
       " 'Anesthesia for procedure on middle spine and spinal cord with lung ventilation',\n",
       " 'Anesthesia for procedure on lower spine',\n",
       " 'Anesthesia for procedure on lower spine',\n",
       " 'Anesthesia for removal of nerves in lower spine',\n",
       " 'Anesthesia for spinal tap',\n",
       " 'Anesthesia for spinal tap',\n",
       " 'Anesthesia for closed manipulation of spine',\n",
       " 'Anesthesia for closed manipulation of spine',\n",
       " 'Non antibody testing for syphilis',\n",
       " 'Anesthesia for procedure on spine and spinal cord',\n",
       " 'Anesthesia for procedure on spine and spinal cord',\n",
       " 'Anesthesia for procedure on upper front abdominal wall',\n",
       " 'Anesthesia for procedure on upper front abdominal wall',\n",
       " 'Anesthesia for liver biopsy accessed through the skin',\n",
       " 'Anesthesia for liver biopsy accessed through the skin',\n",
       " 'Anesthesia for procedure on upper rear abdominal wall',\n",
       " 'Anesthesia for procedure on upper rear abdominal wall',\n",
       " 'Anesthesia for procedure on esophagus stomach and or upper small bowel using an endoscope',\n",
       " 'Anesthesia for procedure on esophagus stomach and or upper small bowel using an endoscope',\n",
       " 'Anesthesia for diagnostic examination of gallbladder and pancreatic liver and bile ducts using an endoscope',\n",
       " 'Anesthesia for diagnostic examination of gallbladder and pancreatic liver and bile ducts using an endoscope',\n",
       " 'Anesthesia for procedure to repair upper abdominal hernia',\n",
       " 'Anesthesia for procedure to repair upper abdominal hernia',\n",
       " 'Anesthesia for procedure to repair upper abdominal incisional hernia and or wound opening',\n",
       " 'Anesthesia for procedure to repair upper abdominal incisional hernia and or wound opening',\n",
       " 'Anesthesia for procedure to repair upper abdominal hernia present at birth',\n",
       " 'Anesthesia for procedure to repair abdominal hernia',\n",
       " 'Insertion of stents into vertebral artery via catheter open or accessed through the skin including radiologic supervision and interpretation',\n",
       " 'Anesthesia for procedure on major abdominal blood vessels',\n",
       " 'Anesthesia for procedure on major abdominal blood vessels',\n",
       " 'Anesthesia for procedure in upper abdomen including use of an endoscope',\n",
       " 'Anesthesia for procedure in upper abdomen including use of an endoscope',\n",
       " 'Anesthesia for partial removal of liver or management of bleeding including use of an endoscope',\n",
       " 'Anesthesia for removal of pancreas including use of an endoscope',\n",
       " 'Anesthesia for liver transplant recipient including use of an endoscope',\n",
       " 'Anesthesia for procedure on stomach for obesity including use of an endoscope',\n",
       " 'Anesthesia for procedure on lower front abdominal wall',\n",
       " 'Anesthesia for procedure on lower front abdominal wall',\n",
       " 'Anesthesia for removal of excess tissue on lower abdominal wall',\n",
       " 'Anesthesia for removal of excess tissue on lower abdominal wall',\n",
       " 'Analysis of galectin binding protein and scavenger receptor cysteine rich type protein M in plasma with clinical risk factors to evaluate probability of lung cancer',\n",
       " 'Anesthesia for procedure on large bowel using an endoscope',\n",
       " 'Anesthesia for procedure on large bowel using an endoscope',\n",
       " 'Anesthesia for diagnostic examination of large bowel using an endoscope',\n",
       " 'Anesthesia for diagnostic examination of large bowel using an endoscope',\n",
       " 'Anesthesia for procedure on esophagus stomach small bowel and or large bowel using an endoscope',\n",
       " 'Anesthesia for procedure on esophagus stomach small bowel and or large bowel using an endoscope',\n",
       " 'Oncology uveal melanoma mrna gene expression profiling by real time rt pcr of genes content and housekeeping genes utilizing fine needle aspirate or formalin fixed paraffin embedded tissue algorithm reported as risk of metastasis',\n",
       " 'Anesthesia for procedure on lower rear abdominal wall',\n",
       " 'Anesthesia for procedure on lower rear abdominal wall',\n",
       " 'Anesthesia for lower abdominal hernia repair',\n",
       " 'Anesthesia for lower abdominal hernia repair',\n",
       " 'Anesthesia for middle or incisional abdominal hernia repair',\n",
       " 'Anesthesia for middle or incisional abdominal hernia repair',\n",
       " 'Anesthesia for procedure in lower abdominal cavity including use of an endoscope',\n",
       " 'Anesthesia for procedure in lower abdominal cavity including use of an endoscope',\n",
       " 'Anesthesia for procedure in lower abdominal cavity and rectum including use of an endoscope',\n",
       " 'Anesthesia for removal of uterus including use of an endoscope',\n",
       " 'Anesthesia for removal of uterus including use of an endoscope',\n",
       " 'Anesthesia for removal of pelvic organs including use of an endoscope',\n",
       " 'Anesthesia for tying or incision of fallopian tubes using an endoscope',\n",
       " 'Anesthesia for procedure in lower abdomen including urinary tract',\n",
       " 'Anesthesia for procedure in lower abdomen including urinary tract',\n",
       " 'Anesthesia for procedure on upper urinary duct ureter or removal of kidney for transplant',\n",
       " 'Anesthesia for procedure on upper urinary duct ureter or removal of kidney for transplant',\n",
       " 'Anesthesia for removal of urinary bladder',\n",
       " 'Anesthesia for removal of prostate',\n",
       " 'Anesthesia for removal of prostate',\n",
       " 'Anesthesia for removal of adrenal gland',\n",
       " 'Anesthesia for kidney transplant',\n",
       " 'Anesthesia for removal of urinary bladder stone',\n",
       " 'Anesthesia for shock wave therapy for urinary system stones',\n",
       " 'Anesthesia for shock wave therapy for urinary system stones',\n",
       " 'Anesthesia for shock wave therapy for urinary system stones',\n",
       " 'Anesthesia for procedure on major lower abdominal wall blood vessels',\n",
       " 'Anesthesia for procedure on major lower abdominal wall blood vessels',\n",
       " 'Anesthesia for tying of major vein in lower abdomen',\n",
       " 'Anesthesia for procedure on anus and rectum',\n",
       " 'Anesthesia for procedure on anus and rectum',\n",
       " 'Anesthesia for procedure on perineum',\n",
       " 'Anesthesia for procedure on perineum',\n",
       " 'Anesthesia for removal of external female genitalia',\n",
       " 'Anesthesia for removal of external female genitalia',\n",
       " 'Anesthesia for removal of prostate',\n",
       " 'mRNA gene expression profiling of genes in skin melanoma tissue sample',\n",
       " 'Anesthesia for procedure on urinary system including use of an endoscope',\n",
       " 'Anesthesia for procedure on urinary system including use of an endoscope',\n",
       " 'Anesthesia for removal of urinary bladder tumors including use of an endoscope',\n",
       " 'Anesthesia for removal of urinary bladder tumors including use of an endoscope',\n",
       " 'Anesthesia for removal of prostate including use of an endoscope',\n",
       " 'Anesthesia for removal of prostate including use of an endoscope',\n",
       " 'Anesthesia for procedure to control urinary system bleeding including use of an endoscope',\n",
       " 'Anesthesia for procedure to control urinary system bleeding including use of an endoscope',\n",
       " 'Anesthesia for fragmenting manipulation and or removal of kidney stone including use of an endoscope',\n",
       " 'Anesthesia for fragmenting manipulation and or removal of kidney stone including use of an endoscope',\n",
       " 'Anesthesia for procedure on male genitalia',\n",
       " 'Anesthesia for procedure on male genitalia',\n",
       " 'Anesthesia for vasectomy',\n",
       " 'Anesthesia for vasectomy',\n",
       " 'Anesthesia for procedure on male genitalia glands',\n",
       " 'Anesthesia for repair of undescended testicle',\n",
       " 'Anesthesia for removal of testicle through groin',\n",
       " 'Anesthesia for removal of testicle through groin',\n",
       " 'Anesthesia for removal of testicle through abdomen',\n",
       " 'Anesthesia for relocation of undescended testicle into scrotum',\n",
       " 'Anesthesia for removal of penis',\n",
       " 'Anesthesia for removal of penis and lymph nodes on both sides of groin',\n",
       " 'Anesthesia for insertion of penile prosthesis',\n",
       " 'Anesthesia for insertion of penile prosthesis',\n",
       " 'Anesthesia for vaginal biopsy of cervix uterine lining or external genitalia',\n",
       " 'Anesthesia for vaginal biopsy of cervix uterine lining or external genitalia',\n",
       " 'Anesthesia for repair or removal of vagina and urinary procedure',\n",
       " 'Anesthesia for repair or removal of vagina and urinary procedure',\n",
       " 'Anesthesia for vaginal removal of uterus',\n",
       " 'Anesthesia for vaginal removal of uterus',\n",
       " 'Anesthesia for suture closure of cervix',\n",
       " 'Anesthesia for examination of cervix using an endoscope',\n",
       " 'Anesthesia for examination of uterus using an endoscope',\n",
       " 'Anesthesia for examination of uterus using an endoscope',\n",
       " 'Test for detection of gastrointestinal disease causing organism using amplified probe',\n",
       " 'Test for detection of respiratory disease causing organism using amplified probe target organisms',\n",
       " 'Test for detection of respiratory disease causing organism using amplified probe target organisms adenovirus coronavirus E coronavirus HKU coronavirus coronavirus OC human metapneumovirus influenza A influenza A subtype influenza A subty',\n",
       " 'Test for detection of respiratory disease causing organism using amplified probe target organisms adenovirus coronavirus E coronavirus HKU coronavirus NL coronavirus OC human metapneumovirus human rhinovirus enterovirus influenza A inc',\n",
       " 'Antigen test for detection of Clostridium difficile toxin in stool',\n",
       " 'Anesthesia for bone marrow aspiration and or biopsy at pelvic bone',\n",
       " 'Anesthesia for bone marrow aspiration and or biopsy at pelvic bone',\n",
       " 'Anesthesia for procedure on pelvic bone',\n",
       " 'Anesthesia for procedure on pelvic bone',\n",
       " 'Anesthesia for amputation of leg including pelvic bone',\n",
       " 'Anesthesia for removal of pelvic bone tumor',\n",
       " 'Anesthesia for procedure on pubic bone or sacroiliac joint',\n",
       " 'Anesthesia for procedure on pubic bone or sacroiliac joint',\n",
       " 'Anesthesia for open procedure on pubic bone or sacroiliac joint',\n",
       " 'Anesthesia for open repair of pelvic fracture',\n",
       " 'Measurement of ceramides for assessment of heart disease risk',\n",
       " 'Anesthesia for closed procedure on hip joint',\n",
       " 'Anesthesia for closed procedure on hip joint',\n",
       " 'Anesthesia for procedure on hip joint using an endoscope',\n",
       " 'Anesthesia for procedure on hip joint using an endoscope',\n",
       " 'Anesthesia for open surgical procedure on hip joint',\n",
       " 'Anesthesia for open surgical procedure on hip joint',\n",
       " 'Anesthesia for open hip joint dislocation',\n",
       " 'Anesthesia for open total hip joint replacement',\n",
       " 'Anesthesia for open total hip joint replacement',\n",
       " 'Anesthesia for open revision of total hip joint replacement',\n",
       " 'Anesthesia for closed procedure on upper two thirds of thigh bone',\n",
       " 'Anesthesia for closed procedure on upper two thirds of thigh bone',\n",
       " 'Anesthesia for open procedure on upper two thirds of thigh bone',\n",
       " 'Anesthesia for open procedure on upper two thirds of thigh bone',\n",
       " 'Anesthesia for open amputation at upper two thirds of thigh bone',\n",
       " 'Anesthesia for open removal of muscle or tissue at upper two thirds of thigh bone',\n",
       " 'Anesthesia for procedure on nerves muscles tendons fascia and bursae of upper leg',\n",
       " 'Anesthesia for procedure on nerves muscles tendons fascia and bursae of upper leg',\n",
       " 'Anesthesia for procedure on veins of upper leg',\n",
       " 'Anesthesia for procedure on veins of upper leg',\n",
       " 'Anesthesia for procedure on arteries of upper leg',\n",
       " 'Anesthesia for procedure on arteries of upper leg',\n",
       " 'Anesthesia for groin artery bypass graft and tying of upper leg artery',\n",
       " 'Anesthesia for removal of groin artery blood clot',\n",
       " 'Anesthesia for procedure on nerves muscles tendons fascia and or bursae of knee',\n",
       " 'Anesthesia for procedure on nerves muscles tendons fascia and or bursae of knee',\n",
       " 'Anesthesia for closed procedure on lower one third of thigh bone',\n",
       " 'Anesthesia for open procedure on lower one third of thigh bone',\n",
       " 'Anesthesia for open procedure on lower one third of thigh bone',\n",
       " 'Anesthesia for closed procedure on knee joint',\n",
       " 'Anesthesia for closed procedure on knee joint',\n",
       " 'Anesthesia for diagnostic examination of knee joint using an endoscope',\n",
       " 'Anesthesia for closed procedure at kneecap and or upper foreleg bones',\n",
       " 'Anesthesia for open procedure at kneecap and upper foreleg bones',\n",
       " 'Anesthesia for open procedure at kneecap and upper foreleg bones',\n",
       " 'Anesthesia for open or endoscopic procedure on knee including',\n",
       " 'Anesthesia for open or endoscopic procedure on knee including',\n",
       " 'Anesthesia for open or endoscopic total knee joint replacement',\n",
       " 'Anesthesia for open or endoscopic total knee joint replacement',\n",
       " 'Anesthesia for open or endoscopic procedure of dislocated knee',\n",
       " 'Anesthesia for knee joint cast application removal or repair',\n",
       " 'Anesthesia for procedure on knee veins',\n",
       " 'Anesthesia for repair of abnormal artery vein formation of knee',\n",
       " 'Anesthesia for procedure on knee arteries',\n",
       " 'Anesthesia for procedure on knee arteries',\n",
       " 'Anesthesia for removal of blood clot in artery behind knee',\n",
       " 'Anesthesia for removal of blood clot in artery behind knee',\n",
       " 'Anesthesia for repair of bulging aneurysm defect in knee artery',\n",
       " 'Anesthesia for closed procedure on lower leg ankle and foot',\n",
       " 'Anesthesia for closed procedure on lower leg ankle and foot',\n",
       " 'Anesthesia for procedure on ankle and or foot using an endoscope',\n",
       " 'Anesthesia for procedure on ankle and or foot using an endoscope',\n",
       " 'Anesthesia for procedure on nerves muscles tendons and fascia of lower leg ankle and foot',\n",
       " 'Anesthesia for procedure on nerves muscles tendons and fascia of lower leg ankle and foot',\n",
       " 'Anesthesia for procedure to repair calf muscle tendon',\n",
       " 'Anesthesia for procedure to repair calf muscle tendon',\n",
       " 'Anesthesia for procedure to repair calf muscle',\n",
       " 'Anesthesia for procedure to repair calf muscle',\n",
       " 'Anesthesia for open procedure on bones of lower leg ankle and foot',\n",
       " 'Anesthesia for open procedure on bones of lower leg ankle and foot',\n",
       " 'Anesthesia for open amputation below the knee',\n",
       " 'Anesthesia for open reconstruction of lower leg ankle and or foot bone',\n",
       " 'Anesthesia for open total ankle joint replacement',\n",
       " 'Anesthesia for lower leg cast application removal or repair',\n",
       " 'Anesthesia for procedure on arteries of lower leg including bypass graft',\n",
       " 'Anesthesia for procedure on arteries of lower leg including bypass graft',\n",
       " 'Anesthesia for lower leg artery bypass graft or blood clot removal',\n",
       " 'Anesthesia for procedure on veins of lower leg',\n",
       " 'Anesthesia for procedure on veins of lower leg',\n",
       " 'Anesthesia for removal of lower leg vein obstruction',\n",
       " 'Anesthesia for procedure on nerves muscles tendons fascia and bursae of shoulder and underarm',\n",
       " 'Anesthesia for procedure on nerves muscles tendons fascia and bursae of shoulder and underarm',\n",
       " 'Anesthesia for closed procedure on upper arm bone and shoulder joint',\n",
       " 'Anesthesia for closed procedure on upper arm bone and shoulder joint',\n",
       " 'Anesthesia for diagnostic examination of shoulder joint using an endoscope',\n",
       " 'Anesthesia for diagnostic examination of shoulder joint using an endoscope',\n",
       " 'Anesthesia for open or endoscopic procedure at upper arm and shoulder joint including',\n",
       " 'Anesthesia for open or endoscopic procedure at upper arm and shoulder joint including',\n",
       " 'Anesthesia for open or endoscopic procedure of dislocated shoulder joint',\n",
       " 'Anesthesia for open or endoscopic amputation of arm shoulder blade and collar bone',\n",
       " 'Anesthesia for open or endoscopic total shoulder joint replacement',\n",
       " 'Anesthesia for open or endoscopic total shoulder joint replacement',\n",
       " 'Anesthesia for procedure on arteries of shoulder and underarm',\n",
       " 'Anesthesia for repair of bulging aneurysm defect in upper arm artery',\n",
       " 'Anesthesia for bypass graft in shoulder or underarm artery',\n",
       " 'Anesthesia for bypass graft from groin artery to shoulder or underarm artery',\n",
       " 'Anesthesia for procedure on veins of shoulder and underarm',\n",
       " 'Anesthesia for cast application removal or repair',\n",
       " 'Anesthesia for procedure on nerves muscles tendons fascia and bursae of upper arm and elbow',\n",
       " 'Anesthesia for procedure on nerves muscles tendons fascia and bursae of upper arm and elbow',\n",
       " 'Anesthesia for open incision of elbow to shoulder tendon',\n",
       " 'Anesthesia for open incision of elbow to shoulder tendon',\n",
       " 'Anesthesia for repair of elbow to shoulder tendon',\n",
       " 'Anesthesia for suture of upper arm and elbow tendon to bone',\n",
       " 'Anesthesia for suture of upper arm and elbow tendon to bone',\n",
       " 'Anesthesia for closed procedure on upper arm and elbow',\n",
       " 'Anesthesia for closed procedure on upper arm and elbow',\n",
       " 'Anesthesia for diagnostic examination of elbow joint using an endoscope',\n",
       " 'Anesthesia for open or endoscopic procedure on elbow',\n",
       " 'Anesthesia for open or endoscopic procedure on elbow',\n",
       " 'Anesthesia for open or endoscopic procedure at upper arm bone',\n",
       " 'Anesthesia for open or endoscopic repair of non healed fracture of upper arm bone',\n",
       " 'Anesthesia for open or endoscopic surgical procedure on elbow',\n",
       " 'Anesthesia for open or endoscopic surgical procedure on elbow',\n",
       " 'Anesthesia for open or endoscopic removal cyst or tumor of upper arm',\n",
       " 'Anesthesia for open or endoscopic total elbow joint replacement',\n",
       " 'Anesthesia for procedure on arteries of upper arm and elbow',\n",
       " 'Anesthesia for procedure on arteries of upper arm and elbow',\n",
       " 'Anesthesia for removal of blood clot from upper arm or elbow artery',\n",
       " 'Anesthesia for procedure on veins of upper arm and elbow',\n",
       " 'Anesthesia for suture of upper arm or elbow vein',\n",
       " 'Anesthesia for procedure on nerves muscles tendons fascia and bursae of forearm wrist and hand',\n",
       " 'Anesthesia for procedure on nerves muscles tendons fascia and bursae of forearm wrist and hand',\n",
       " 'Anesthesia for closed procedure on bones of forearm wrist or hand',\n",
       " 'Anesthesia for closed procedure on bones of forearm wrist or hand',\n",
       " 'Anesthesia for diagnostic examination of the wrist using an endoscope',\n",
       " 'Anesthesia for open or endoscopic procedure on bones of forearm wrist or hand',\n",
       " 'Anesthesia for open or endoscopic procedure on bones of forearm wrist or hand',\n",
       " 'Anesthesia for open or endoscopic total wrist joint replacement',\n",
       " 'Anesthesia for procedure on arteries of forearm wrist and hand',\n",
       " 'Anesthesia for procedure on arteries of forearm wrist and hand',\n",
       " 'Anesthesia for removal of blood clot from forearm wrist or hand artery',\n",
       " 'Anesthesia for placement or revision of blood flow shunt',\n",
       " 'Anesthesia for placement or revision of blood flow shunt',\n",
       " 'Removal of rectal tumor using an endoscope',\n",
       " 'Anesthesia for procedure on veins of forearm wrist and hand',\n",
       " 'Anesthesia for procedure on veins of forearm wrist and hand',\n",
       " 'Anesthesia for suture of forearm wrist or hand vein',\n",
       " 'Anesthesia for forearm wrist or hand cast application removal or repair',\n",
       " 'Anesthesia for diagnostic X ray procedure on arteries or veins',\n",
       " 'Anesthesia for diagnostic X ray procedure on arteries or veins',\n",
       " 'Internal insertion of eye fluid drainage device',\n",
       " 'Internal insertion of eye fluid drainage device',\n",
       " 'Anesthesia for procedure on heart vessels and chambers',\n",
       " 'Anesthesia for procedure on heart vessels and chambers',\n",
       " 'Anesthesia for X ray or radiation therapy',\n",
       " 'Anesthesia for X ray or radiation therapy',\n",
       " 'Anesthesia for X ray procedure on arteries',\n",
       " 'Anesthesia for X ray procedure on arteries',\n",
       " 'Anesthesia for X ray procedure on neck or heart artery',\n",
       " 'Anesthesia for X ray procedure on neck or heart artery',\n",
       " 'Anesthesia for X ray procedure on artery in brain heart or major vessel of chest aorta',\n",
       " 'Anesthesia for X ray procedure on artery in brain heart or major vessel of chest aorta',\n",
       " 'Anesthesia for X ray procedure on vein or lymph system',\n",
       " 'Anesthesia for X ray procedure on vein or lymph system',\n",
       " 'Anesthesia for X ray procedure on liver vein',\n",
       " 'Anesthesia for X ray procedure on liver vein',\n",
       " 'Anesthesia for X ray procedure on chest or neck vein',\n",
       " 'Anesthesia for X ray procedure on chest or neck vein',\n",
       " 'Anesthesia for X ray procedure on brain vein',\n",
       " 'Anesthesia for diagnostic X ray procedure accessed through the skin on spine and spinal cord',\n",
       " 'Anesthesia for diagnostic X ray procedure accessed through the skin on spine and spinal cord',\n",
       " 'Anesthesia for X ray procedure accessed through the skin on spine and spinal cord',\n",
       " 'Anesthesia for X ray procedure accessed through the skin on spine and spinal cord',\n",
       " 'Anesthesia for treatment of second and third degree burn less than total body surface',\n",
       " 'Anesthesia for treatment of second and third degree burn between and total body surface area',\n",
       " 'Anesthesia for treatment of second and third degree burn',\n",
       " 'Anesthesia for vaginal delivery',\n",
       " 'Anesthesia for cesarean delivery',\n",
       " 'Anesthesia for procedure to remove uterus following delivery',\n",
       " 'Anesthesia for cesarean removal of uterus',\n",
       " 'Anesthesia for incomplete or missed abortion',\n",
       " 'Anesthesia for induced abortion',\n",
       " 'Anesthesia for labor during planned vaginal delivery',\n",
       " 'Anesthesia for cesarean delivery following labor',\n",
       " 'Physiological support for harvesting of organs',\n",
       " 'Anesthesia for nerve block and injection procedure',\n",
       " 'Anesthesia for nerve block and injection procedure',\n",
       " 'Anesthesia for nerve block and injection procedure prone position',\n",
       " 'Anesthesia for nerve block and injection procedure prone position',\n",
       " 'Daily hospital management of continuous spinal drug administration',\n",
       " 'Anesthesia procedure',\n",
       " 'Injections of one side of sacrum for enlargement or more needles accessed through the skin',\n",
       " 'Injections of one side of sacrum for enlargement or more needles accessed through the skin',\n",
       " 'Injections of both sides of sacrum for enlargement or more needles accessed through the skin',\n",
       " 'Injections of both sides of sacrum for enlargement or more needles accessed through the skin',\n",
       " 'Suturing hemorrhoids using ultrasound guidance',\n",
       " 'Repair of artery bifurcation of one groin with prosthesis',\n",
       " 'Removal of bone from lower spine for decompression of nerve tissue using imaging guidance accessed through the skin',\n",
       " 'Removal of bone from lower spine for decompression of nerve tissue using imaging guidance accessed through the skin',\n",
       " 'External EKG recording for more than hours up to days with analysis report review and interpretation',\n",
       " 'External EKG recording for more than hours up to days with analysis report review and interpretation',\n",
       " 'External EKG recording for more than hours up to days',\n",
       " 'External EKG recording for more than hours up to days',\n",
       " 'Analysis and report of external EKG recording for more than hours up to days',\n",
       " 'Analysis and report of external EKG recording for more than hours up to days',\n",
       " 'Review and interpretation of external EKG recording for more than hours up to days',\n",
       " 'Review and interpretation of external EKG recording for more than hours up to days',\n",
       " 'Insertion of eye drainage device',\n",
       " 'Insertion of eye drainage device',\n",
       " 'Technical component for assessment of field of vision with concurrent data analysis and data storage with patient initiated data transmitted to a remote surveillance center for up to days',\n",
       " 'High dose rate electronic brachytherapy',\n",
       " 'High dose rate electronic brachytherapy',\n",
       " 'Destruction of tissue of brain using MRI guidance',\n",
       " 'Collagen cross linking treatment of disease of cornea',\n",
       " 'Insertion or replacement of pulse generator and electrodes of heart contractility modulator system',\n",
       " 'Insertion of aqueous fluid drainage device into eye',\n",
       " 'Insertion of aqueous fluid drainage device into eye',\n",
       " 'Insertion of breathing sensor electrode or electrode array into chest wall',\n",
       " 'Insertion of drainage device and creation of fluid reservoir in front chamber of eye',\n",
       " 'Laser destruction of scar tissue',\n",
       " 'Laser destruction of scar tissue',\n",
       " 'Laser destruction of scar tissue',\n",
       " 'Measurement of blood flow in heart muscle at rest and under stress',\n",
       " 'Measurement of blood flow in heart muscle at rest and under stress',\n",
       " 'Insertion of artificial valve between left heart chambers accessed through the skin',\n",
       " 'Insertion of artificial valve between left heart chambers open chest procedure',\n",
       " 'Analysis of data from CT study of heart blood vessels to assess severity of heart artery disease with interpretation and report',\n",
       " 'Analysis of data from CT study of heart blood vessels to assess severity of heart artery disease',\n",
       " 'Analysis of data from CT study of heart blood vessels to assess severity of heart artery disease',\n",
       " 'Analysis of data from CT study of heart blood vessels to assess severity of heart artery disease',\n",
       " 'Analysis of data from CT study of heart blood vessels to assess severity of heart artery disease',\n",
       " 'Near infrared dual imaging of tear glands with interpretation and report',\n",
       " 'Pattern recording of retinal electrical responses to external stimuli with interpretation and report',\n",
       " 'Visual axis identification using patient fixation during operation',\n",
       " 'Measurement fractional flow reserve in arteries of heart with D functional mapping during procedure',\n",
       " 'Administration of blood derived T white blood cells T lymphocytes for chimeric antigen receptor T cell therapy',\n",
       " 'Radiofrequency spectroscopy evaluation of surgical margins during partial mastectomy with report',\n",
       " 'Insertion of balloon continence device on both sides of urethra including examination of bladder using endoscope and fluoroscopic imaging',\n",
       " 'Adjustment of fluid volume in balloon continence device beside urethra',\n",
       " 'Fine needle aspiration of additional lesion',\n",
       " 'Fine needle aspiration of additional lesion',\n",
       " 'Fine needle aspiration of first lesion using ultrasound guidance',\n",
       " 'Fine needle aspiration of first lesion using ultrasound guidance',\n",
       " 'Fine needle aspiration of additional lesion using ultrasound guidance',\n",
       " 'Fine needle aspiration of additional lesion using ultrasound guidance',\n",
       " 'Fine needle aspiration of first lesion using fluoroscopice guidance',\n",
       " 'Fine needle aspiration of first lesion using fluoroscopice guidance',\n",
       " 'Fine needle aspiration of additional lesion using fluoroscopice guidance',\n",
       " 'Fine needle aspiration of first lesion using CT guidance',\n",
       " 'Fine needle aspiration of first lesion using CT guidance',\n",
       " 'Fine needle aspiration of additional lesion using CT guidance',\n",
       " 'Fine needle aspiration of first lesion using MR guidance',\n",
       " 'Fine needle aspiration of additional lesion using MR guidance',\n",
       " 'Fine needle aspiration of first lesion',\n",
       " 'Fine needle aspiration of first lesion',\n",
       " 'Fluid collection drainage by catheter using imaging guidance accessed through the skin',\n",
       " 'Fluid collection drainage by catheter using imaging guidance accessed through the skin',\n",
       " 'Placement of soft tissue localization device accessed through the skin with imaging guidance first lesion',\n",
       " 'Placement of soft tissue localization device accessed through the skin with imaging guidance first lesion',\n",
       " 'Placement of soft tissue localization device accessed through the skin with imaging guidance',\n",
       " 'Placement of soft tissue localization device accessed through the skin with imaging guidance',\n",
       " 'Acne surgery',\n",
       " 'Acne surgery',\n",
       " 'Drainage of abscess',\n",
       " 'Drainage of abscess',\n",
       " 'Drainage of multiple abscess',\n",
       " 'Drainage of multiple abscess',\n",
       " 'Drainage of tailbone cyst',\n",
       " 'Drainage of tailbone cyst',\n",
       " 'Drainage of tailbone cyst',\n",
       " 'Drainage of tailbone cyst',\n",
       " 'Removal of foreign body from tissue accessed beneath the skin',\n",
       " 'Removal of foreign body from tissue accessed beneath the skin',\n",
       " 'Removal of foreign body from tissue accessed beneath the skin',\n",
       " 'Removal of foreign body from tissue accessed beneath the skin',\n",
       " 'Drainage of blood or fluid accumulation',\n",
       " 'Drainage of blood or fluid accumulation',\n",
       " 'Aspiration of abscess blood accumulation blister or cyst',\n",
       " 'Aspiration of abscess blood accumulation blister or cyst',\n",
       " 'Drainage of wound infection after surgery',\n",
       " 'Drainage of wound infection after surgery',\n",
       " 'Removal of inflamed or infected skin up to of body surface',\n",
       " 'Removal of inflamed or infected skin up to of body surface',\n",
       " 'Removal of inflamed or infected skin',\n",
       " 'Removal of inflamed or infected skin',\n",
       " 'Removal of infected skin tissue or muscle of genitals',\n",
       " 'Removal of infected skin tissue or muscle of genitals',\n",
       " 'Removal of infected skin tissue or muscle of abdomen',\n",
       " 'Removal of infected skin tissue or muscle of abdomen',\n",
       " 'Removal of infected skin tissue or muscle of genitals perineum or abdomen',\n",
       " 'Removal of infected skin tissue or muscle of genitals perineum or abdomen',\n",
       " 'Removal of infected artificial material or mesh from abdomen',\n",
       " 'Removal of infected artificial material or mesh from abdomen',\n",
       " 'Removal of foreign material from skin and tissue at open fracture and or dislocation',\n",
       " 'Removal of foreign material from skin and tissue at open fracture and or dislocation',\n",
       " 'Removal of foreign material from skin tissue and muscle at open fracture and or dislocation',\n",
       " 'Removal of foreign material from skin tissue and muscle at open fracture and or dislocation',\n",
       " 'Removal of foreign material from skin tissue muscle and bone at open fracture and or dislocation',\n",
       " 'Removal of foreign material from skin tissue muscle and bone at open fracture and or dislocation',\n",
       " 'Removal of skin and tissue first sq cm or less',\n",
       " 'Removal of skin and tissue first sq cm or less',\n",
       " 'Removal of skin and or muscle first sq cm or less',\n",
       " 'Removal of skin and or muscle first sq cm or less',\n",
       " 'Removal of skin and bone first sq cm or less',\n",
       " 'Removal of skin and bone first sq cm or less',\n",
       " 'Removal of skin and tissue',\n",
       " 'Removal of skin and tissue',\n",
       " 'Removal of skin and or muscle',\n",
       " 'Removal of skin and or muscle',\n",
       " 'Removal of skin and bone',\n",
       " 'Removal of skin and bone',\n",
       " 'Removal of single thickened skin growth',\n",
       " 'Removal of single thickened skin growth',\n",
       " 'Removal of to thickened skin growths',\n",
       " 'Removal of to thickened skin growths',\n",
       " 'Removal of more than thickened skin growths',\n",
       " 'Removal of more than thickened skin growths',\n",
       " 'Tangential biopsy of single skin lesion',\n",
       " 'Tangential biopsy of single skin lesion',\n",
       " 'Tangential biopsy of additional skin lesion',\n",
       " 'Tangential biopsy of additional skin lesion',\n",
       " 'Punch biopsy of single skin lesion',\n",
       " 'Punch biopsy of single skin lesion',\n",
       " 'Punch biopsy of additional skin lesion',\n",
       " 'Punch biopsy of additional skin lesion',\n",
       " 'Incisional biopsy of single skin lesion',\n",
       " 'Incisional biopsy of single skin lesion',\n",
       " 'Incisional biopsy of additional skin lesion',\n",
       " 'Incisional biopsy of additional skin lesion',\n",
       " 'Removal of up to and including skin tags',\n",
       " 'Removal of up to and including skin tags',\n",
       " 'Removal of skin tags',\n",
       " 'Removal of skin tags',\n",
       " 'Shaving of centimeters or less skin growth of the trunk arms or legs',\n",
       " 'Shaving of centimeters or less skin growth of the trunk arms or legs',\n",
       " 'Shaving of centimeters to centimeters skin growth of the trunk arms or legs',\n",
       " 'Shaving of centimeters to centimeters skin growth of the trunk arms or legs',\n",
       " 'Shaving of to centimeters skin growth of the trunk arms or legs',\n",
       " 'Shaving of to centimeters skin growth of the trunk arms or legs',\n",
       " 'Shaving of over centimeters skin growth of the trunk arms or legs',\n",
       " 'Shaving of over centimeters skin growth of the trunk arms or legs',\n",
       " 'Shaving of centimeters or less skin growth of scalp neck hands feet or genitals',\n",
       " 'Shaving of centimeters or less skin growth of scalp neck hands feet or genitals',\n",
       " 'Shaving of centimeters to centimeters skin growth of scalp neck hands feet or genitals',\n",
       " 'Shaving of centimeters to centimeters skin growth of scalp neck hands feet or genitals',\n",
       " 'Shaving of to centimeters skin growth of scalp neck hands feet or genitals',\n",
       " 'Shaving of to centimeters skin growth of scalp neck hands feet or genitals',\n",
       " 'Shaving of over centimeters skin growth of scalp neck hands feet or genitals',\n",
       " 'Shaving of over centimeters skin growth of scalp neck hands feet or genitals',\n",
       " 'Shaving of centimeters or less skin growth of face ears eyelids nose lips or mouth',\n",
       " 'Shaving of centimeters or less skin growth of face ears eyelids nose lips or mouth',\n",
       " 'Shaving of centimeters to centimeters skin growth of face ears eyelids nose lips or mouth',\n",
       " 'Shaving of centimeters to centimeters skin growth of face ears eyelids nose lips or mouth',\n",
       " 'Shaving of to centimeters skin growth of face ears eyelids nose lips or mouth',\n",
       " 'Shaving of to centimeters skin growth of face ears eyelids nose lips or mouth',\n",
       " 'Shaving of over centimeters skin growth of face ears eyelids nose lips or mouth',\n",
       " 'Shaving of over centimeters skin growth of face ears eyelids nose lips or mouth',\n",
       " 'Removal of growth centimeters or less of the trunk arms or legs',\n",
       " 'Removal of growth centimeters or less of the trunk arms or legs',\n",
       " 'Removal of growth to centimeters of the trunk arms or legs',\n",
       " 'Removal of growth to centimeters of the trunk arms or legs',\n",
       " 'Removal of growth to centimeters of the trunk arms or legs',\n",
       " 'Removal of growth to centimeters of the trunk arms or legs',\n",
       " 'Removal of growth to centimeters of the trunk arms or legs',\n",
       " 'Removal of growth to centimeters of the trunk arms or legs',\n",
       " 'Removal of growth to centimeters of the trunk arms or legs',\n",
       " 'Removal of growth to centimeters of the trunk arms or legs',\n",
       " 'Removal of growth centimeters of the trunk arms or legs',\n",
       " 'Removal of growth centimeters of the trunk arms or legs',\n",
       " 'Removal of growth centimeters or less of the scalp neck hands feet or genitals',\n",
       " 'Removal of growth centimeters or less of the scalp neck hands feet or genitals',\n",
       " 'Removal of growth to centimeters of the scalp neck hands feet or genitals',\n",
       " 'Removal of growth to centimeters of the scalp neck hands feet or genitals',\n",
       " 'Removal of growth to centimeters of the scalp neck hands feet or genitals',\n",
       " 'Removal of growth to centimeters of the scalp neck hands feet or genitals',\n",
       " 'Removal of growth to centimeters of the scalp neck hands feet or genitals',\n",
       " 'Removal of growth to centimeters of the scalp neck hands feet or genitals',\n",
       " 'Removal of growth to centimeters of the scalp neck hands feet or genitals',\n",
       " 'Removal of growth to centimeters of the scalp neck hands feet or genitals',\n",
       " 'Removal of growth over centimeters of the scalp neck hands feet or genitals',\n",
       " 'Removal of growth over centimeters of the scalp neck hands feet or genitals',\n",
       " 'Removal of growth centimeters or less of the face ears eyelids nose lips or mouth',\n",
       " 'Removal of growth centimeters or less of the face ears eyelids nose lips or mouth',\n",
       " 'Removal of growth to centimeters of the face ears eyelids nose lips or mouth',\n",
       " 'Removal of growth to centimeters of the face ears eyelids nose lips or mouth',\n",
       " 'Removal of growth to centimeters of the face ears eyelids nose lips or mouth',\n",
       " 'Removal of growth to centimeters of the face ears eyelids nose lips or mouth',\n",
       " 'Removal of growth to centimeters of face ears eyelids nose lips or mouth',\n",
       " 'Removal of growth to centimeters of face ears eyelids nose lips or mouth',\n",
       " 'Removal to centimeters growth of face ears eyelids nose lips or mouth',\n",
       " 'Removal to centimeters growth of face ears eyelids nose lips or mouth',\n",
       " 'Removal over centimeters growth of the face ears eyelids nose lips or mouth',\n",
       " 'Removal over centimeters growth of the face ears eyelids nose lips or mouth',\n",
       " 'Removal of skin and tissue beneath the skin of underarms for excessive sweating',\n",
       " 'Removal of skin and tissue beneath the skin of underarms for excessive sweating',\n",
       " 'Removal of skin and tissue beneath the skin of underarms for excessive sweating',\n",
       " 'Removal of skin and tissue beneath the skin of underarms for excessive sweating',\n",
       " 'Removal of skin and tissue beneath the skin of groin for excessive sweating',\n",
       " 'Removal of skin and tissue beneath the skin of groin for excessive sweating',\n",
       " 'Removal of skin and tissue beneath the skin of groin for excessive sweating',\n",
       " 'Removal of skin and tissue beneath the skin of groin for excessive sweating',\n",
       " 'Removal of skin and tissue beneath the skin of anus or navel for excessive sweating',\n",
       " 'Removal of skin and tissue beneath the skin of anus or navel for excessive sweating',\n",
       " 'Removal of skin and tissue beneath the skin of anus or navel for excessive sweating',\n",
       " 'Removal of malignant growth centimeters or less of the trunk arms or legs',\n",
       " 'Removal of malignant growth centimeters or less of the trunk arms or legs',\n",
       " 'Removal of malignant growth to centimeters of the trunk arms or legs',\n",
       " 'Removal of malignant growth to centimeters of the trunk arms or legs',\n",
       " 'Removal of malignant growth to centimeters of the trunk arms or legs',\n",
       " 'Removal of malignant growth to centimeters of the trunk arms or legs',\n",
       " 'Removal of malignant growth to centimeters of the trunk arms or legs',\n",
       " 'Removal of malignant growth to centimeters of the trunk arms or legs',\n",
       " 'Removal of malignant growth to centimeters of the trunk arms or legs',\n",
       " 'Removal of malignant growth to centimeters of the trunk arms or legs',\n",
       " 'Removal of malignant growth over centimeters of the trunk arms or legs',\n",
       " 'Removal of malignant growth over centimeters of the trunk arms or legs',\n",
       " 'Removal of malignant growth centimeters or less of the scalp neck hands feet or genitals',\n",
       " 'Removal of malignant growth centimeters or less of the scalp neck hands feet or genitals',\n",
       " 'Removal of malignant growth to centimeters of the scalp neck hands feet or genitals',\n",
       " 'Removal of malignant growth to centimeters of the scalp neck hands feet or genitals',\n",
       " 'Removal of malignant growth to centimeters of the scalp neck hands feet or genitals',\n",
       " 'Removal of malignant growth to centimeters of the scalp neck hands feet or genitals',\n",
       " 'Removal of malignant growth to centimeters of the scalp neck hands feet or genitals',\n",
       " 'Removal of malignant growth to centimeters of the scalp neck hands feet or genitals',\n",
       " 'Removal of malignant growth to centimeters of the scalp neck hands feet or genitals',\n",
       " 'Removal of malignant growth to centimeters of the scalp neck hands feet or genitals',\n",
       " 'Removal of malignant growth over centimeters of the scalp neck hands feet or genitals',\n",
       " 'Removal of malignant growth over centimeters of the scalp neck hands feet or genitals',\n",
       " 'Removal of malignant growth centimeters or less of the face ears eyelids nose or lips',\n",
       " 'Removal of malignant growth centimeters or less of the face ears eyelids nose or lips',\n",
       " 'Removal of malignant growth to centimeters of the face ears eyelids nose or lips',\n",
       " 'Removal of malignant growth to centimeters of the face ears eyelids nose or lips',\n",
       " 'Removal of malignant growth to centimeters of the face ears eyelids nose or lips',\n",
       " 'Removal of malignant growth to centimeters of the face ears eyelids nose or lips',\n",
       " 'Removal of malignant growth to centimeters of the face ears eyelids nose or lips',\n",
       " 'Removal of malignant growth to centimeters of the face ears eyelids nose or lips',\n",
       " 'Removal of malignant growth to centimeters of the face ears eyelids nose or lips',\n",
       " 'Removal of malignant growth to centimeters of the face ears eyelids nose or lips',\n",
       " 'Removal of malignant growth over centimeters of the face ears eyelids nose or lips',\n",
       " 'Removal of malignant growth over centimeters of the face ears eyelids nose or lips',\n",
       " 'Trimming of fingernails or toenails',\n",
       " 'Trimming of fingernails or toenails',\n",
       " 'Removal of tissue from to finger or toe nails',\n",
       " 'Removal of tissue from to finger or toe nails',\n",
       " 'Removal of tissue from or more finger or toe nails',\n",
       " 'Removal of tissue from or more finger or toe nails',\n",
       " 'Separation of nail plate from nail bed',\n",
       " 'Separation of nail plate from nail bed',\n",
       " 'Separation of nail plate from nail bed',\n",
       " 'Separation of nail plate from nail bed',\n",
       " 'Removal of blood accumulation between nail and nail bed',\n",
       " 'Removal of blood accumulation between nail and nail bed',\n",
       " 'Removal of nail',\n",
       " 'Removal of nail',\n",
       " 'Biopsy of finger or toe nail',\n",
       " 'Biopsy of finger or toe nail',\n",
       " 'Repair of finger or toe nail bed',\n",
       " 'Repair of finger or toe nail bed',\n",
       " 'Repair of finger or toe nail bed with graft',\n",
       " 'Repair of finger or toe nail bed with graft',\n",
       " 'Removal of skin of finger or toe nail',\n",
       " 'Removal of skin of finger or toe nail',\n",
       " 'Removal of tailbone cyst',\n",
       " 'Removal of tailbone cyst',\n",
       " 'Removal of tailbone cyst',\n",
       " 'Removal of tailbone cyst',\n",
       " 'Removal of tailbone cyst',\n",
       " 'Removal of tailbone cyst',\n",
       " 'Injection of up to skin growths',\n",
       " 'Injection of up to skin growths',\n",
       " 'Injection of more than skin growths',\n",
       " 'Injection of more than skin growths',\n",
       " 'Introduction of pigment into skin sq cm or less to correct color defect',\n",
       " 'Introduction of pigment into skin sq cm or less to correct color defect',\n",
       " 'Introduction of pigment into skin to sq cm to correct color defect',\n",
       " 'Introduction of pigment into skin to sq cm to correct color defect',\n",
       " 'Introduction of pigment into skin to correct color defect',\n",
       " 'Introduction of pigment into skin to correct color defect',\n",
       " 'Injection of over cc filling material beneath the skin',\n",
       " 'Insertion of tissue expanders',\n",
       " 'Insertion of tissue expanders',\n",
       " 'Replacement of tissue expander with permanent prosthesis',\n",
       " 'Replacement of tissue expander with permanent prosthesis',\n",
       " 'Removal of tissue expanders',\n",
       " 'Removal of tissue expanders',\n",
       " 'Insertion of hormone pellets beneath the skin',\n",
       " 'Insertion of hormone pellets beneath the skin',\n",
       " 'Insertion of drug delivery implant into tissue',\n",
       " 'Insertion of drug delivery implant into tissue',\n",
       " 'Removal of drug delivery implant from tissue',\n",
       " 'Removal of drug delivery implant from tissue',\n",
       " 'Removal with reinsertion of drug delivery implant into tissue',\n",
       " 'Removal with reinsertion of drug delivery implant into tissue',\n",
       " 'Repair of wound centimeters or less of the scalp neck underarms trunk arms and or legs',\n",
       " 'Repair of wound centimeters or less of the scalp neck underarms trunk arms and or legs',\n",
       " 'Repair of wound to centimeters of the scalp neck underarms genitals trunk arms and or legs',\n",
       " 'Repair of wound to centimeters of the scalp neck underarms genitals trunk arms and or legs',\n",
       " 'Repair of wound to centimeters of the scalp neck underarms genitals trunk arms and or legs',\n",
       " 'Repair of wound to centimeters of the scalp neck underarms genitals trunk arms and or legs',\n",
       " 'Repair of wound to centimeters of the scalp neck underarms genitals trunk arms and or legs',\n",
       " 'Repair of wound to centimeters of the scalp neck underarms genitals trunk arms and or legs',\n",
       " 'Repair of wound to centimeters of the scalp neck underarms genitals trunk arms and or legs',\n",
       " 'Repair of wound to centimeters of the scalp neck underarms genitals trunk arms and or legs',\n",
       " 'Repair of wound over centimeters of the scalp neck underarms genitals trunk arms and or legs',\n",
       " 'Repair of wound over centimeters of the scalp neck underarms genitals trunk arms and or legs',\n",
       " 'Repair of wound centimeters or less of the face ears eyelids nose lips and or mucous membranes',\n",
       " 'Repair of wound centimeters or less of the face ears eyelids nose lips and or mucous membranes',\n",
       " 'Repair of wound to centimeters of the face ears eyelids nose lips and or mucous membranes',\n",
       " 'Repair of wound to centimeters of the face ears eyelids nose lips and or mucous membranes',\n",
       " 'Repair of wound to centimeters of the face ears eyelids nose lips and or mucous membranes',\n",
       " 'Repair of wound to centimeters of the face ears eyelids nose lips and or mucous membranes',\n",
       " 'Repair of wound to centimeters of the face ears eyelids nose lips and or mucous membranes',\n",
       " 'Repair of wound to centimeters of the face ears eyelids nose lips and or mucous membranes',\n",
       " 'Repair of wound to centimeters of the face ears eyelids nose lips and or mucous membranes',\n",
       " 'Repair of wound to centimeters of the face ears eyelids nose lips and or mucous membranes',\n",
       " 'Repair of wound to centimeters of the face ears eyelids nose lips and or mucous membranes',\n",
       " 'Repair of wound to centimeters of the face ears eyelids nose lips and or mucous membranes',\n",
       " 'Repair of wound over centimeters of the face ears eyelids nose lips and or mucous membranes',\n",
       " 'Repair of separation of wound closure',\n",
       " 'Repair of separation of wound closure',\n",
       " 'Repair of separation of wound closure with insertion of packing',\n",
       " 'Repair of separation of wound closure with insertion of packing',\n",
       " 'Repair of wound centimeters or less of the scalp underarms trunk arms and or legs',\n",
       " 'Repair of wound centimeters or less of the scalp underarms trunk arms and or legs',\n",
       " 'Repair of wound to centimeters of the scalp underarms trunk arms and or legs',\n",
       " 'Repair of wound to centimeters of the scalp underarms trunk arms and or legs',\n",
       " 'Repair of wound to centimeters of the scalp underarms trunk arms and or legs',\n",
       " 'Repair of wound to centimeters of the scalp underarms trunk arms and or legs',\n",
       " 'Repair of wound to centimeters of the scalp underarms trunk arms and or legs',\n",
       " 'Repair of wound to centimeters of the scalp underarms trunk arms and or legs',\n",
       " 'Repair of wound to centimeters of the scalp underarms trunk arms and or legs',\n",
       " 'Repair of wound to centimeters of the scalp underarms trunk arms and or legs',\n",
       " 'Repair of wound over centimeters of the scalp underarms trunk arms and or legs',\n",
       " 'Repair of wound over centimeters of the scalp underarms trunk arms and or legs',\n",
       " 'Repair of wound centimeters or less of neck hands feet and or genitals',\n",
       " 'Repair of wound centimeters or less of neck hands feet and or genitals',\n",
       " 'Repair of wound to centimeters of neck hands feet and or genitals',\n",
       " 'Repair of wound to centimeters of neck hands feet and or genitals',\n",
       " 'Repair of wound to centimeters of neck hands feet and or genitals',\n",
       " 'Repair of wound to centimeters of neck hands feet and or genitals',\n",
       " 'Repair of wound to centimeters of neck hands feet and or genitals',\n",
       " 'Repair of wound to centimeters of neck hands feet and or genitals',\n",
       " 'Repair of wound to centimeters of neck hands feet and or genitals',\n",
       " 'Repair of wound over centimeters of neck hands feet and or genitals',\n",
       " 'Repair of wound centimeters or less of face ears eyelids nose lips and or mouth',\n",
       " 'Repair of wound centimeters or less of face ears eyelids nose lips and or mouth',\n",
       " 'Repair of wound to centimeters of face ears eyelids nose lips and or mouth',\n",
       " 'Repair of wound to centimeters of face ears eyelids nose lips and or mouth',\n",
       " 'Repair of wound to centimeters of face ears eyelids nose lips and or mouth',\n",
       " 'Repair of wound to centimeters of face ears eyelids nose lips and or mouth',\n",
       " 'Repair of wound to centimeters of face ears eyelids nose lips and or mouth',\n",
       " 'Repair of wound to centimeters of face ears eyelids nose lips and or mouth',\n",
       " 'Repair of wound to centimeters of face ears eyelids nose lips and or mouth',\n",
       " 'Repair of wound to centimeters of face ears eyelids nose lips and or mouth',\n",
       " 'Repair of wound to centimeters of face ears eyelids nose lips and or mouth',\n",
       " 'Repair of wound over centimeters of face ears eyelids nose lips and or mouth',\n",
       " 'Repair of wound to centimeters of trunk',\n",
       " 'Repair of wound to centimeters of trunk',\n",
       " 'Repair of wound to centimeters of trunk',\n",
       " 'Repair of wound to centimeters of trunk',\n",
       " 'Repair of wound of trunk',\n",
       " 'Repair of wound of trunk',\n",
       " 'Repair of wound to centimeters of scalp arms and or legs',\n",
       " 'Repair of wound to centimeters of scalp arms and or legs',\n",
       " 'Repair of wound to centimeters of scalp arms and or legs',\n",
       " 'Repair of wound to centimeters of scalp arms and or legs',\n",
       " 'Repair of wound of scalp arms and or legs',\n",
       " 'Repair of wound of scalp arms and or legs',\n",
       " 'Repair of wound to centimeters of forehead cheeks chin mouth neck underarms genitals hands and or feet',\n",
       " 'Repair of wound to centimeters of forehead cheeks chin mouth neck underarms genitals hands and or feet',\n",
       " 'Repair of wound to centimeters of forehead cheeks chin mouth neck underarms genitals hands and or feet',\n",
       " 'Repair of wound to centimeters of forehead cheeks chin mouth neck underarms genitals hands and or feet',\n",
       " 'Repair of wound of forehead cheeks chin mouth neck underarms genitals hands and or feet',\n",
       " 'Repair of wound of forehead cheeks chin mouth neck underarms genitals hands and or feet',\n",
       " 'Repair of wound to centimeters of eyelids nose ears and or lips',\n",
       " 'Repair of wound to centimeters of eyelids nose ears and or lips',\n",
       " 'Repair of wound to centimeters of eyelids nose ears and or lips',\n",
       " 'Repair of wound to centimeters of eyelids nose ears and or lips',\n",
       " 'Repair of wound of eyelids nose ears and or lips',\n",
       " 'Repair of wound of eyelids nose ears and or lips',\n",
       " 'Second repair of surgical wound',\n",
       " 'Second repair of surgical wound',\n",
       " 'Tissue transfer repair of wound sq centimeters or less of the trunk',\n",
       " 'Tissue transfer repair of wound sq centimeters or less of the trunk',\n",
       " 'Tissue transfer repair of wound to sq centimeters of the trunk',\n",
       " 'Tissue transfer repair of wound to sq centimeters of the trunk',\n",
       " 'Tissue transfer repair of wound sq centimeters or less of the scalp arms and or legs',\n",
       " 'Tissue transfer repair of wound sq centimeters or less of the scalp arms and or legs',\n",
       " 'Tissue transfer repair of wound to sq centimeters of the scalp arms and or legs',\n",
       " 'Tissue transfer repair of wound to sq centimeters of the scalp arms and or legs',\n",
       " 'Tissue transfer repair of wound sq centimeters or less of the forehead cheeks chin mouth neck underarms genitals hands and or feet',\n",
       " 'Tissue transfer repair of wound sq centimeters or less of the forehead cheeks chin mouth neck underarms genitals hands and or feet',\n",
       " 'Tissue transfer repair of wound to sq centimeters of the forehead cheeks chin mouth neck underarms genitals hands and or feet',\n",
       " 'Tissue transfer repair of wound to sq centimeters of the forehead cheeks chin mouth neck underarms genitals hands and or feet',\n",
       " 'Tissue transfer repair of wound sq centimeters or less of eyelids nose ears and or lips',\n",
       " 'Tissue transfer repair of wound sq centimeters or less of eyelids nose ears and or lips',\n",
       " 'Tissue transfer repair of wound to sq centimeters of eyelids nose ears and or lips',\n",
       " 'Tissue transfer repair of wound to sq centimeters of eyelids nose ears and or lips',\n",
       " 'Tissue transfer repair of wound to sq centimeters',\n",
       " 'Tissue transfer repair of wound to sq centimeters',\n",
       " 'Tissue transfer repair of wound sq centimeters',\n",
       " 'Tissue transfer repair of wound sq centimeters',\n",
       " 'Repair of tissue loss of finger or toe',\n",
       " 'Repair of tissue loss of finger or toe',\n",
       " 'Preparation of graft site at trunk arms or legs first sq cm or body area infants and children',\n",
       " 'Preparation of graft site at trunk arms or legs first sq cm or body area infants and children',\n",
       " 'Preparation of graft site at trunk arms or legs',\n",
       " 'Preparation of graft site at trunk arms or legs',\n",
       " 'Preparation of graft site of face scalp eyelids mouth neck ears eye region genitals hands feet and or multiple fingers or toes first sq cm or body area of infants and children',\n",
       " 'Preparation of graft site of face scalp eyelids mouth neck ears eye region genitals hands feet and or multiple fingers or toes first sq cm or body area of infants and children',\n",
       " 'Preparation of graft site of face scalp eyelids mouth neck ears eye region genitals hands feet and or multiple fingers or toes',\n",
       " 'Preparation of graft site of face scalp eyelids mouth neck ears eye region genitals hands feet and or multiple fingers or toes',\n",
       " 'Relocation of skin sq cm or less for tissue cultured graft',\n",
       " 'Relocation of skin sq cm or less for tissue cultured graft',\n",
       " 'Skin graft centimeters to tip of finger or toe',\n",
       " 'Skin graft centimeters to tip of finger or toe',\n",
       " 'Skin graft at trunk arms or legs first sq cm or less or body are of infants and children',\n",
       " 'Skin graft at trunk arms or legs first sq cm or less or body are of infants and children',\n",
       " 'Skin graft at trunk arms or legs',\n",
       " 'Skin graft at trunk arms or legs',\n",
       " 'Skin graft at trunk arms or legs first sq cm or less or body area of infants and children',\n",
       " 'Skin graft at trunk arms or legs first sq cm or less or body area of infants and children',\n",
       " 'Skin graft at trunk arms or legs',\n",
       " 'Skin graft of face scalp eyelids mouth neck ears eye region genitals hands feet and or multiple fingers or toes first sq cm or less or body area of infants and children',\n",
       " 'Skin graft of face scalp eyelids mouth neck ears eye region genitals hands feet and or multiple fingers or toes first sq cm or less or body area of infants and children',\n",
       " 'Skin graft of face scalp eyelids mouth neck ears eye region genitals hands feet and or multiple fingers or toes',\n",
       " 'Skin graft of face scalp eyelids mouth neck ears eye region genitals hands feet and or multiple fingers or toes first sq cm or less or body area of infants and children',\n",
       " 'Skin graft of face scalp eyelids mouth neck ears eye region genitals hands feet and or multiple fingers or toes first sq cm or less or body area of infants and children',\n",
       " 'Skin graft of face scalp eyelids mouth neck ears eye region genitals hands feet and or multiple fingers or toes',\n",
       " 'Skin graft at trunk arms or legs first sq cm or less or body area of infants and children',\n",
       " 'Skin graft at trunk arms or legs',\n",
       " 'Skin graft of face scalp eyelids mouth neck ears eye region genitals hands feet and or multiple fingers or toes first sq cm or less or body area of infants and children',\n",
       " 'Skin graft of face scalp eyelids mouth neck ears eye region genitals hands feet and or multiple fingers or toes first sq cm or less or body area of infants and children',\n",
       " 'Skin graft at trunk arms or legs first sq centimeters or less',\n",
       " 'Skin graft at trunk arms or legs first sq centimeters or less',\n",
       " 'Skin graft at trunk arms or legs',\n",
       " 'Skin graft of face scalp eyelids mouth neck ears eye region genitals hands feet and or multiple fingers or toes first sq centimeters or less',\n",
       " 'Skin graft of face scalp eyelids mouth neck ears eye region genitals hands feet and or multiple fingers or toes first sq centimeters or less',\n",
       " 'Relocation of patient skin sq centimeters or less to trunk',\n",
       " 'Relocation of patient skin sq centimeters or less to trunk',\n",
       " 'Relocation of patient skin to trunk',\n",
       " 'Relocation of patient skin to trunk',\n",
       " 'Relocation of patient skin sq centimeters or less to scalp arms and or legs',\n",
       " 'Relocation of patient skin sq centimeters or less to scalp arms and or legs',\n",
       " 'Relocation of patient skin to scalp arms and or legs',\n",
       " 'Relocation of patient skin to scalp arms and or legs',\n",
       " 'Relocation of patient skin to forehead cheeks chin mouth neck underarms genitals hands and or feet sq centimeters or less',\n",
       " 'Relocation of patient skin to forehead cheeks chin mouth neck underarms genitals hands and or feet sq centimeters or less',\n",
       " 'Relocation of patient skin to forehead cheeks chin mouth neck underarms genitals hands and or feet',\n",
       " 'Relocation of patient skin to forehead cheeks chin mouth neck underarms genitals hands and or feet',\n",
       " 'Relocation of patient skin to nose ears eyelids and or lips sq centimeters or less',\n",
       " 'Relocation of patient skin to nose ears eyelids and or lips sq centimeters or less',\n",
       " 'Relocation of patient skin to nose ears eyelids and or lips',\n",
       " 'Relocation of patient skin to nose ears eyelids and or lips',\n",
       " 'Application of skin substitute wound surface up to sq cm to trunk arms or legs first sq cm or less',\n",
       " 'Application of skin substitute wound surface up to sq cm to trunk arms or legs first sq cm or less',\n",
       " 'Application of skin substitute wound surface up to sq cm to trunk arms or legs',\n",
       " 'Application of skin substitute wound surface up to sq cm to trunk arms or legs',\n",
       " 'Application of skin substitute wound surface greater or equal to sq cm to trunk arms or legs first sq cm or body area of infants and children',\n",
       " 'Application of skin substitute wound surface greater or equal to sq cm to trunk arms or legs first sq cm or body area of infants and children',\n",
       " 'Application of skin substitute wound surface greater or equal to sq cm to trunk arms or legs',\n",
       " 'Application of skin substitute wound surface greater or equal to sq cm to trunk arms or legs',\n",
       " 'Application of skin substitute wound surface up to sq cm to face scalp eyelids mouth neck ears eye region genitals hands feet and or multiple fingers or toes first sq cm or less',\n",
       " 'Application of skin substitute wound surface up to sq cm to face scalp eyelids mouth neck ears eye region genitals hands feet and or multiple fingers or toes first sq cm or less',\n",
       " 'Application of skin substitute wound surface up to sq cm to face scalp eyelids mouth neck ears eye region genitals hands feet and or multiple fingers or toes',\n",
       " 'Application of skin substitute wound surface up to sq cm to face scalp eyelids mouth neck ears eye region genitals hands feet and or multiple fingers or toes',\n",
       " 'Application of skin substitute wound surface great than or equal to sq cm to face scalp eyelids mouth neck ears eye region genitals hands feet and or multiple fingers or toes first sq cm or body area of infants and children',\n",
       " 'Application of skin substitute wound surface great than or equal to sq cm to face scalp eyelids mouth neck ears eye region genitals hands feet and or multiple fingers or toes first sq cm or body area of infants and children',\n",
       " 'Application of skin substitute wound surface great than or equal to sq cm to face scalp eyelids mouth neck ears eye region genitals hands feet and or multiple fingers or toes',\n",
       " 'Application of skin substitute wound surface great than or equal to sq cm to face scalp eyelids mouth neck ears eye region genitals hands feet and or multiple fingers or toes',\n",
       " 'Creation of flap graft to trunk',\n",
       " 'Creation of flap graft to trunk',\n",
       " 'Creation of flap graft to scalp arms or legs',\n",
       " 'Creation of flap graft to scalp arms or legs',\n",
       " 'Creation of flap graft to forehead cheeks chin mouth neck underarms genitals hands or feet',\n",
       " 'Creation of flap graft to forehead cheeks chin mouth neck underarms genitals hands or feet',\n",
       " 'Creation of flap graft to eyelids nose ears lips or mouth',\n",
       " 'Creation of flap graft to eyelids nose ears lips or mouth',\n",
       " 'Transfer of skin flap to trunk',\n",
       " 'Transfer of skin flap to trunk',\n",
       " 'Transfer of skin flap to scalp arms or legs',\n",
       " 'Transfer of skin flap to scalp arms or legs',\n",
       " 'Transfer of skin flap to forehead cheeks chin neck underarms genitals hands or feet',\n",
       " 'Transfer of skin flap to forehead cheeks chin neck underarms genitals hands or feet',\n",
       " 'Transfer of skin flap to eyelids nose ears or lips',\n",
       " 'Transfer of skin flap to eyelids nose ears or lips',\n",
       " 'Transfer of skin flap',\n",
       " 'Transfer of skin flap',\n",
       " 'Creation of flap graft to midface',\n",
       " 'Creation of flap graft to midface',\n",
       " 'Creation of flap graft to nose forehead temple or scalp',\n",
       " 'Creation of flap graft to nose forehead temple or scalp',\n",
       " 'Creation of flap graft to head and or neck',\n",
       " 'Creation of flap graft to head and or neck',\n",
       " 'Muscle flap wound repair at trunk',\n",
       " 'Muscle flap wound repair at trunk',\n",
       " 'Muscle flap wound repair of arm',\n",
       " 'Muscle flap wound repair of arm',\n",
       " 'Muscle flap wound repair of leg',\n",
       " 'Muscle flap wound repair of leg',\n",
       " 'Creation of skin and tissue graft',\n",
       " 'Creation of skin and tissue graft',\n",
       " 'Creation of nerve and blood vessel skin graft',\n",
       " 'Creation of nerve and blood vessel skin graft',\n",
       " 'Creation of muscle and blood vessel skin graft',\n",
       " 'Creation of muscle and blood vessel skin graft',\n",
       " 'Creation of muscle and blood vessel skin graft',\n",
       " 'Creation of muscle and blood vessel skin graft',\n",
       " 'Creation of multiple tissue skin graft',\n",
       " 'Creation of multiple tissue skin graft',\n",
       " 'Creation of skin fat and muscle graft',\n",
       " 'Creation of skin fat and muscle graft',\n",
       " 'Implantation of biologic implant to soft tissue',\n",
       " 'Implantation of biologic implant to soft tissue',\n",
       " 'Scraping of skin of face',\n",
       " 'Scraping of skin of face',\n",
       " 'Scraping of skin of face',\n",
       " 'Scraping of skin',\n",
       " 'Scraping of skin growth',\n",
       " 'Scraping of skin growth',\n",
       " 'Scraping of multiple skin growths',\n",
       " 'Chemical peel of skin of face',\n",
       " 'Chemical peel of skin of face',\n",
       " 'Chemical peel of skin of face',\n",
       " 'Chemical peel of skin of face',\n",
       " 'Chemical peel of skin',\n",
       " 'Removal of excessive skin of lower eyelid',\n",
       " 'Removal of excessive skin of lower eyelid and fat around eye',\n",
       " 'Removal of excessive skin of lower eyelid and fat around eye',\n",
       " 'Removal of excessive skin of upper eyelid',\n",
       " 'Removal of excessive skin of upper eyelid',\n",
       " 'Removal of excessive skin and fat of upper eyelid',\n",
       " 'Removal of excessive skin and fat of upper eyelid',\n",
       " 'Incision stretching and suture of skin',\n",
       " 'Removal of excessive skin at cheek chin or neck',\n",
       " 'Removal of excessive skin and tissue beneath the skin of abdomen',\n",
       " 'Removal of excessive skin and tissue beneath the skin of abdomen',\n",
       " 'Removal of excessive skin and tissue beneath the skin of thigh',\n",
       " 'Removal of excessive skin and tissue beneath the skin of leg',\n",
       " 'Removal of excessive skin and tissue beneath the skin of hip',\n",
       " 'Removal of excessive skin and tissue beneath the skin of buttock',\n",
       " 'Removal of excessive skin and tissue beneath the skin of arm',\n",
       " 'Removal of excessive skin and tissue beneath the skin of lower arm or hand',\n",
       " 'Removal of excessive skin and tissue beneath the skin under chin',\n",
       " 'Removal of excessive skin and tissue beneath the skin',\n",
       " 'Removal of excessive skin and tissue beneath the skin',\n",
       " 'Graft to relieve or reactivate facial paralysis',\n",
       " 'Graft to relieve or reactivate facial paralysis',\n",
       " 'Graft to relieve or reactivate facial paralysis',\n",
       " 'Graft to relieve or reactivate facial paralysis',\n",
       " 'Graft to relieve or reactivate facial paralysis',\n",
       " ...]"
      ]
     },
     "execution_count": 125,
     "metadata": {},
     "output_type": "execute_result"
    }
   ],
   "source": [
    "medictext"
   ]
  },
  {
   "cell_type": "code",
   "execution_count": 126,
   "id": "e0107de6",
   "metadata": {},
   "outputs": [],
   "source": [
    "textdata=pd.DataFrame(textdata)"
   ]
  },
  {
   "cell_type": "code",
   "execution_count": 127,
   "id": "a3194777",
   "metadata": {},
   "outputs": [],
   "source": [
    "textdata.columns=['uday']"
   ]
  },
  {
   "cell_type": "code",
   "execution_count": 128,
   "id": "0940f051",
   "metadata": {},
   "outputs": [],
   "source": [
    "textdata.uday=textdata.uday.str.lower()"
   ]
  },
  {
   "cell_type": "code",
   "execution_count": 129,
   "id": "65ac1c5b",
   "metadata": {},
   "outputs": [],
   "source": [
    "from nltk.corpus import stopwords"
   ]
  },
  {
   "cell_type": "code",
   "execution_count": 130,
   "id": "44d901bd",
   "metadata": {},
   "outputs": [],
   "source": [
    "stop_words=set(stopwords.words('english'))"
   ]
  },
  {
   "cell_type": "code",
   "execution_count": 131,
   "id": "6e34d5f5",
   "metadata": {},
   "outputs": [],
   "source": [
    "textwords=textdata.uday.str.split()"
   ]
  },
  {
   "cell_type": "code",
   "execution_count": 132,
   "id": "2c137ff3",
   "metadata": {},
   "outputs": [],
   "source": [
    "textwords=textdata.uday.str.findall('\\w{3,}').str.join(' ')"
   ]
  },
  {
   "cell_type": "code",
   "execution_count": 133,
   "id": "b431bc44",
   "metadata": {},
   "outputs": [
    {
     "data": {
      "text/plain": [
       "0         liver disease ten biochemical assays alt macro...\n",
       "1         test for detecting genes associated with prost...\n",
       "2         anesthesia for procedure salivary gland with b...\n",
       "3         anesthesia for procedure salivary gland with b...\n",
       "4         anesthesia for procedure repair lip defect pre...\n",
       "                                ...                        \n",
       "273206    moderate sedation services provided the same p...\n",
       "273207                 injection ceftriaxone sodium per 250\n",
       "273208                 injection methylprednisolone acetate\n",
       "273209             injection dexamethasone sodium phosphate\n",
       "273210    injection triamcinolone acetonide not otherwis...\n",
       "Name: uday, Length: 273211, dtype: object"
      ]
     },
     "execution_count": 133,
     "metadata": {},
     "output_type": "execute_result"
    }
   ],
   "source": [
    "textwords"
   ]
  },
  {
   "cell_type": "code",
   "execution_count": 134,
   "id": "fbfbe90d",
   "metadata": {},
   "outputs": [
    {
     "name": "stdout",
     "output_type": "stream",
     "text": [
      "Requirement already satisfied: wordCloud in c:\\users\\lenovo\\anaconda3\\lib\\site-packages (1.8.1)\n",
      "Requirement already satisfied: numpy>=1.6.1 in c:\\users\\lenovo\\anaconda3\\lib\\site-packages (from wordCloud) (1.21.5)\n",
      "Requirement already satisfied: pillow in c:\\users\\lenovo\\anaconda3\\lib\\site-packages (from wordCloud) (9.0.1)\n",
      "Requirement already satisfied: matplotlib in c:\\users\\lenovo\\anaconda3\\lib\\site-packages (from wordCloud) (3.5.1)\n",
      "Requirement already satisfied: fonttools>=4.22.0 in c:\\users\\lenovo\\anaconda3\\lib\\site-packages (from matplotlib->wordCloud) (4.25.0)\n",
      "Requirement already satisfied: kiwisolver>=1.0.1 in c:\\users\\lenovo\\anaconda3\\lib\\site-packages (from matplotlib->wordCloud) (1.3.2)\n",
      "Requirement already satisfied: python-dateutil>=2.7 in c:\\users\\lenovo\\anaconda3\\lib\\site-packages (from matplotlib->wordCloud) (2.8.2)\n",
      "Requirement already satisfied: pyparsing>=2.2.1 in c:\\users\\lenovo\\anaconda3\\lib\\site-packages (from matplotlib->wordCloud) (3.0.4)\n",
      "Requirement already satisfied: cycler>=0.10 in c:\\users\\lenovo\\anaconda3\\lib\\site-packages (from matplotlib->wordCloud) (0.11.0)\n",
      "Requirement already satisfied: packaging>=20.0 in c:\\users\\lenovo\\anaconda3\\lib\\site-packages (from matplotlib->wordCloud) (21.3)\n",
      "Requirement already satisfied: six>=1.5 in c:\\users\\lenovo\\anaconda3\\lib\\site-packages (from python-dateutil>=2.7->matplotlib->wordCloud) (1.16.0)\n"
     ]
    }
   ],
   "source": [
    "!pip install wordCloud"
   ]
  },
  {
   "cell_type": "code",
   "execution_count": 135,
   "id": "cffe8483",
   "metadata": {},
   "outputs": [],
   "source": [
    "from wordcloud import WordCloud"
   ]
  },
  {
   "cell_type": "code",
   "execution_count": 136,
   "id": "a67a0754",
   "metadata": {},
   "outputs": [
    {
     "data": {
      "image/png": "[encoded data removed]",
      "text/plain": [
       "<Figure size 1080x720 with 1 Axes>"
      ]
     },
     "metadata": {
      "needs_background": "light"
     },
     "output_type": "display_data"
    }
   ],
   "source": [
    "wordcloud=WordCloud(width=1000,height=500,\n",
    "                   stopwords=stop_words,max_words=1000).generate(\n",
    "    str(textwords.values))\n",
    "plt.figure(figsize=(15,10))\n",
    "plt.imshow(wordcloud)\n",
    "plt.show()"
   ]
  },
  {
   "cell_type": "code",
   "execution_count": 137,
   "id": "f172a32f",
   "metadata": {},
   "outputs": [],
   "source": [
    "from sklearn.feature_extraction.text import CountVectorizer"
   ]
  },
  {
   "cell_type": "code",
   "execution_count": 138,
   "id": "a8cde520",
   "metadata": {},
   "outputs": [],
   "source": [
    "vectorizer=CountVectorizer(stop_words=stop_words,max_features=300)"
   ]
  },
  {
   "cell_type": "code",
   "execution_count": 139,
   "id": "d3943933",
   "metadata": {},
   "outputs": [],
   "source": [
    "final=vectorizer.fit_transform(textwords)"
   ]
  },
  {
   "cell_type": "code",
   "execution_count": 140,
   "id": "fd5299ab",
   "metadata": {},
   "outputs": [],
   "source": [
    "finaldata=pd.DataFrame(final.toarray(),columns=vectorizer.vocabulary_)"
   ]
  },
  {
   "cell_type": "code",
   "execution_count": 141,
   "id": "db760894",
   "metadata": {},
   "outputs": [
    {
     "data": {
      "text/plain": [
       "liver  total  test  prostate  cancer  urine  anesthesia  procedure  gland  biopsy  repair  defect  eyelid  treatment  external  middle  ear  examination  using  endoscope  incision  eye  lens  surgery  removal  nose  sinus  tissue  mouth  including  tumor  blood  system  bone  analysis  thyroid  bones  brain  fluid  ray  imaging  fracture  vessel  patient  spinal  cord  nerve  non  small  cell  lung  measurement  esophagus  neck  drug  age  older  needle  vessels  skin  arms  legs  trunk  breast  lymph  nodes  abnormal  heart  rhythm  flow  contrast  shoulder  partial  chest  wall  testing  closed  drainage  diagnostic  insertion  permanent  pacemaker  central  vein  defibrillator  lining  fluoroscopic  guidance  artery  bypass  virus  upper  spine  lower  nerves  manipulation  antibody  abdominal  accessed  stomach  bowel  bile  hernia  wound  opening  catheter  open  supervision  interpretation  abdomen  use  management  protein  large  cavity  rectum  uterus  pelvic  urinary  tract  duct  ureter  kidney  bladder  therapy  control  groin  relocation  prosthesis  vaginal  detection  aspiration  leg  joint  assessment  hip  replacement  revision  thigh  muscle  muscles  veins  arteries  graft  clot  knee  one  cast  application  ankle  foot  tendon  arm  elbow  cyst  forearm  wrist  hand  placement  device  radiation  aorta  less  body  surface  delivery  injection  hospital  administration  injections  side  ultrasound  ekg  recording  days  report  review  dose  electronic  destruction  mri  electrodes  creation  laser  valve  left  study  electrical  evaluation  balloon  urethra  additional  lesion  first  abscess  multiple  foreign  beneath  genitals  material  single  growth  growths  centimeters  scalp  hands  feet  face  ears  eyelids  lips  underarms  malignant  finger  toe  hormone  implant  transfer  preparation  100  greater  head  chemical  agent  pressure  microscopic  exploration  capsule  back  enzyme  nasal  stimulation  broken  release  fusion  approach  level  pelvis  anesthetic  air  dilation  voice  tube  years  stent  substance  new  implanted  venous  endovascular  radiological  arterial  diagnosis  infusion  peripheral  specimen  dialysis  function  per  session  neurostimulator  canal  studies  activity  care  monitoring  day  physician  sacral  retina  views  minimum  scan  technique  hour  limited  screening  nuclear  medicine  exercise  pathology  health  services  vaccine  minutes  visit  home  service  inpatient  outpatient  established  programming  qualified  professional  nursing  facility  typically  office  initial  subsequent\n",
       "0      0      0     0         0       0      0           0          0      0       0       0       0       0          0         0       0    0            0      0          0         0    0     0        0        0     0      0       0      0          0      0      0       0     0         0        0      0      0      0    0        0         0       0        0       0     0      0    0      0     0     0            0          0     0     0    0      0       0        0     0     0     0      0       0      0      0         0      0       0     0         0         0        0      0     0        0       0         0           0          0          0          0        0     0              0       0             0         0       0       0      0      0      0      0       0             0         0          0         0        0      0     0       0      0        0         0     0            0               0        0    0           0        0      0       0       0       0       0        0      0     0       0       0        0        0        0      0           0           0        0          0           0    0      0           0    0            1         0      0       0        0      0         0      0     0     0    0     0            0      0     0       0    0      0     0        0      0     0          0       0          0      0     0     0        0         0          0         0               0           0     0           0    0          0     0       0       0     0           0            0    0           0         0      0      0     0      0           0           0        0        0           0       0      0        0         0        0        0         0         0       0       0        0            0      0      0     0     0     0        0     0          0          0       0    0        0        0         0            0    0        0     0         0      0         0            0            0        0     0       0      0            0       0        0       0         0      0       0           0    0         0      0     0      0      0          0    0          0       0             0             0         0          0         0           0         0         0         0    0        0                0      0        0         0     0           0    0          0       0       0      0        0     0          0     0        0          0        0         0         0          0       0         0        0        0      0     0        0          0           0            0            0          0             0        0         0          0       0        0             7564\n",
       "                                                                                                                                                                                                                                                                                                                                                                                                                                                                                                                                                                                                                                                                                                                                                                                                                                                                                                                                                                                                                                                                                                                                                                                                   0         0      0       0        0      0         0      0     0     0    0     0            0      0     0       0    0      0     0        0      0     0          0       0          0      0     0     0        0         0          0         0               0           0     0           0    0          0     0       0       0     0           0            0    0           0         0      0      0     0      0           0           0        0        0           0       0      0        0         0        0        0         0         0       0       0        0            0      0      0     0     0     0        0     0          0          0       0    0        0        0         0            0    0        0     0         0      0         0            0            0        0     0       0      0            0       0        0       0         0      0       0           0    0         0      0     0      0      0          0    0          0       0             0             0         0          0         0           0         0         0         0    0        0                0      0        0         0     0           0    0          0       0       0      0        0     0          0     0        0          0        0         0         0          0       0         0        0        0      0     0        0          0           0            0            0          0             0        0         0          0       0        0             3974\n",
       "                                                                                                                                                                                                                                                                                                                                                                                                                                                                                                                                                                                                                                                                                                                                                                                                                                                                                                                                                                                                                                                                                                                                                                                                                                                                                                                           1      0     0        0      0     0          0       0          0      0     0     0        0         0          0         0               0           0     0           0    0          0     0       0       0     0           0            0    0           0         0      0      0     0      0           0           0        0        0           0       0      0        0         0        0        0         0         0       0       0        0            0      0      0     0     0     0        0     0          0          0       0    0        0        0         0            0    0        0     0         0      0         0            0            0        0     0       0      0            0       0        0       0         0      0       0           0    0         0      0     0      0      0          0    0          0       0             0             0         0          0         0           0         0         0         0    0        0                0      0        0         0     0           0    0          0       0       0      0        0     0          0     0        0          0        0         0         0          0       0         0        0        0      0     0        0          0           0            0            0          0             0        0         0          0       0        0             3601\n",
       "                                                                                                                                                                                                                                                                                                                                                                                                                                                                                                                                              1      0       0     0         0         0        0      0     0        0       0         0           0          0          0          0        0     0              0       0             0         0       0       0      0      0      0      0       0             0         0          0         0        0      0     0       0      0        0         0     0            0               0        0    0           0        0      0       0       0       0       0        0      0     0       0       0        0        0        0      0           0           0        0          0           0    0      0           0    0            0         0      0       0        0      0         0      0     0     0    0     0            0      0     0       0    0      0     0        0      0     0          0       0          0      0     0     0        0         0          0         0               0           0     0           0    0          0     0       0       0     0           0            0    0           0         0      0      0     0      0           0           0        0        0           0       0      0        0         0        0        0         0         0       0       0        0            0      0      0     0     0     0        0     0          0          0       0    0        0        0         0            0    0        0     0         0      0         0            0            0        0     0       0      0            0       0        0       0         0      0       0           0    0         0      0     0      0      0          0    0          0       0             0             0         0          0         0           0         0         0         0    1        0                0      0        0         0     0           0    0          0       0       0      0        0     0          0     0        0          0        0         0         0          0       0         0        0        0      0     0        0          0           0            0            0          0             0        0         0          0       0        0             1773\n",
       "                                                                                                   1       0          0         0       0    0            0      0          0         0    0     0        0        0     0      0       0      0          0      0      0       0     0         0        0      0      0      0    0        0         0       0        0       0     0      0    0      0     0     0            0          0     0     0    0      0       0        0     0     0     0      0       0      0      0         0      0       0     0         0         0        0      0     0        0       0         0           0          0          0          0        0     0              0       0             0         0       0       0      0      0      0      0       0             0         0          0         0        0      0     0       0      0        0         0     0            0               0        0    0           0        0      0       0       0       0       0        0      0     0       0       0        0        0        0      0           0           0        0          0           0    0      0           0    0            0         0      0       0        0      0         0      0     0     0    0     0            0      0     0       0    0      0     0        0      0     0          0       0          0      0     0     0        0         0          0         0               0           0     0           0    0          0     0       0       0     0           0            0    0           0         0      0      0     0      0           0           0        0        0           0       0      0        0         0        0        0         0         0       0       0        0            0      0      0     0     0     0        0     0          0          0       0    0        0        0         0            0    0        0     0         0      0         0            0            0        0     0       0      0            0       0        0       0         0      0       0           0    0         0      0     0      0      0          0    0          0       0             0             0         0          0         0           0         0         0         0    0        0                0      0        0         0     0           0    0          0       0       0      0        0     0          0     0        0          0        0         0         0          0       0         0        0        0      0     0        0          0           0            0            0          0             0        0         0          0       0        0             1394\n",
       "                                                                                                                                                                                                                                                                                                                                                                                                                                                                                                                                                                                                                                                                                                                                                                                                                                                                                                                                                                                                                                                                                                                                                                                                                                                                                                                                                                                                                                                                                                                                                                                                                                                                                                                                                                                                                                                                                                                                                                                                                                                                                                                                                                                                                                                                                                                                                                                                                                                                                                                                                                                                                                                                                                                  ... \n",
       "                                                                                                   0       0          0         0       0    0            0      0          0         0    0     0        0        0     0      0       0      0          0      0      0       0     0         1        0      0      0      0    1        0         0       0        0       0     0      0    0      0     0     0            0          0     0     0    0      0       0        0     0     0     0      0       0      0      0         0      0       0     0         0         0        0      0     0        0       0         0           0          0          0          0        0     0              0       0             0         0       0       0      0      0      0      0       0             0         0          0         0        0      0     0       0      0        0         0     0            0               0        0    0           0        1      0       0       0       0       0        0      0     0       0       0        0        0        0      0           0           0        0          0           0    0      0           0    0            0         0      0       0        0      0         0      0     0     0    0     0            0      0     0       0    0      0     0        0      0     0          0       0          0      0     0     0        0         0          0         0               0           0     0           0    0          0     0       0       0     0           0            0    0           0         0      0      0     0      0           0           0        0        0           1       0      0        0         0        0        0         0         0       0       0        0            0      0      0     0     0     0        0     0          0          0       0    0        0        0         0            0    0        0     0         0      0         0            0            0        0     0       0      0            0       0        0       0         0      0       0           0    0         0      0     0      0      0          0    0          0       0             0             0         0          0         0           0         0         0         0    0        0                0      0        0         0     0           0    0          0       1       0      0        0     0          0     0        0          0        0         0         0          0       0         0        0        0      0     0        0          0           0            0            0          0             0        0         0          0       0        0                1\n",
       "                                                                                                                                                                                                                                                                                                0        0      0      0      0    0        0         0       0        0       0     0      0    0      0     0     0            0          0     0     0    0      0       0        0     0     0     0      0       0      0      0         0      0       0     0         0         0        0      0     0        0       0         0           0          0          0          0        0     0              0       0             0         0       0       0      0      0      0      0       0             0         0          0         0        0      0     0       0      0        0         0     0            0               0        0    0           0        0      0       0       0       0       0        0      0     0       0       0        0        0        0      0           0           0        0          0           0    1      0           0    0            0         0      0       0        0      0         0      0     0     0    0     0            0      0     0       0    0      0     0        0      0     0          0       0          0      0     0     0        0         0          0         0               0           0     0           0    0          0     0       0       0     0           0            0    0           0         0      0      0     0      0           0           0        0        0           0       1      0        0         0        0        0         0         0       0       0        0            0      0      0     0     0     0        0     0          0          0       0    0        0        0         0            0    0        0     0         0      0         0            0            0        0     0       0      0            0       0        0       0         0      0       0           0    0         0      0     0      0      0          0    0          0       0             0             0         0          0         0           0         0         0         0    0        0                0      0        0         0     0           0    0          0       0       0      0        0     0          0     0        0          0        0         0         0          0       0         0        0        0      0     0        0          0           0            0            0          0             0        0         0          0       0        0                1\n",
       "                                                                                                                                                                                                                                                                                                                                                                                                                                                                                                                                                                                                                                                                                                    1              0       0             1         0       0       0      0      0      0      0       0             0         0          0         0        0      0     0       0      0        0         0     0            0               0        0    0           0        0      0       0       0       0       0        0      0     0       0       0        0        0        0      0           0           0        0          0           0    0      0           0    0            0         0      0       0        0      0         0      0     0     0    0     0            0      0     0       0    0      0     1        0      0     0          0       0          0      0     0     0        0         0          0         0               0           0     0           0    0          0     0       0       0     0           0            0    0           0         0      0      0     0      0           0           0        0        0           0       0      0        0         0        0        0         0         0       0       0        0            0      0      0     0     0     0        0     0          0          0       0    0        0        0         0            0    0        0     1         0      0         0            0            0        0     0       0      0            0       0        0       0         0      0       0           0    0         0      0     0      0      0          0    0          0       0             0             0         0          0         0           0         0         0         0    0        0                0      0        0         1     0           0    0          0       0       0      0        0     0          0     0        0          0        0         0         0          0       1         0        0        0      0     0        0          0           0            0            0          0             0        0         0          0       0        0                1\n",
       "                                                                                                                                                                                                                                                                                                1        0      0      0      0    1        0         0       0        0       0     0      0    0      0     0     0            0          0     0     0    0      0       0        0     0     0     0      0       0      0      0         0      0       0     0         0         0        0      0     0        0       0         0           0          0          0          0        0     0              0       0             0         0       0       0      0      0      1      0       0             0         0          0         0        0      0     0       0      0        0         0     0            0               0        0    0           0        0      0       0       0       0       0        0      0     0       0       0        0        0        0      0           0           0        0          0           0    0      0           0    0            0         0      0       0        0      0         0      0     0     0    0     0            0      0     0       0    0      0     0        0      0     0          0       0          0      0     0     0        0         0          0         0               0           0     0           0    0          0     0       0       0     0           0            0    0           0         0      0      0     0      0           0           0        0        0           1       0      0        0         0        0        0         0         0       0       0        0            0      1      0     0     0     0        0     0          0          0       0    0        0        0         0            0    0        0     0         0      0         0            0            0        0     0       0      0            0       0        0       0         0      0       0           0    0         0      0     0      0      0          0    0          0       0             0             0         0          0         0           0         0         0         0    0        0                0      0        0         0     0           0    0          0       1       0      0        0     0          0     0        0          0        0         0         0          0       0         0        0        0      0     0        0          0           0            0            0          0             0        0         0          0       0        0                1\n",
       "                                                                                                                                                                                                                                                                                                0        1      0      0      0    0        0         0       0        0       0     0      0    0      0     0     0            0          1     0     0    0      0       0        0     0     0     0      0       0      0      0         0      0       0     0         0         0        0      0     0        0       0         0           0          0          0          0        0     0              0       0             0         0       0       0      0      0      0      0       0             0         0          0         0        0      0     0       0      0        0         0     0            0               0        0    0           0        0      0       0       0       0       0        0      0     0       0       0        0        0        0      0           0           0        0          0           0    0      0           0    0            0         0      0       0        0      1         0      0     0     0    0     0            0      0     0       0    0      0     1        0      0     0          0       0          0      0     0     0        0         0          0         0               0           0     0           0    0          0     0       0       0     0           0            0    0           0         0      0      0     0      0           0           0        0        0           0       0      0        0         0        0        0         0         0       0       0        0            0      0      0     0     0     0        0     0          0          0       0    0        0        0         0            0    0        0     1         0      0         0            0            0        0     0       0      0            0       0        0       0         0      0       0           0    0         0      0     0      0      0          0    0          0       0             0             0         0          0         0           0         0         0         0    0        0                0      0        0         0     0           0    0          0       0       0      0        0     0          0     0        0          0        0         0         0          0       0         0        0        0      0     0        0          0           0            0            0          0             0        0         0          0       0        0                1\n",
       "Length: 5415, dtype: int64"
      ]
     },
     "execution_count": 141,
     "metadata": {},
     "output_type": "execute_result"
    }
   ],
   "source": [
    "finaldata.value_counts()"
   ]
  },
  {
   "cell_type": "code",
   "execution_count": 142,
   "id": "6b4667ee",
   "metadata": {},
   "outputs": [],
   "source": [
    "objdum=objdum.drop(['HCPCS_Desc'],axis=1)"
   ]
  },
  {
   "cell_type": "code",
   "execution_count": 143,
   "id": "2c6926a7",
   "metadata": {},
   "outputs": [
    {
     "data": {
      "text/plain": [
       "(273211, 5)"
      ]
     },
     "execution_count": 143,
     "metadata": {},
     "output_type": "execute_result"
    }
   ],
   "source": [
    "objdum.shape"
   ]
  },
  {
   "cell_type": "code",
   "execution_count": 144,
   "id": "99ca8c04",
   "metadata": {},
   "outputs": [],
   "source": [
    "nlptext=pd.concat([objdum,floattype,dep,finaldata],axis=1)"
   ]
  },
  {
   "cell_type": "code",
   "execution_count": 145,
   "id": "bf9f7e99",
   "metadata": {},
   "outputs": [
    {
     "name": "stdout",
     "output_type": "stream",
     "text": [
      "<class 'pandas.core.frame.DataFrame'>\n",
      "RangeIndex: 273211 entries, 0 to 273210\n",
      "Columns: 309 entries, Rndrng_Prvdr_Geo_Lvl to subsequent\n",
      "dtypes: float64(3), int32(5), int64(300), object(1)\n",
      "memory usage: 638.9+ MB\n"
     ]
    }
   ],
   "source": [
    "nlptext.info()"
   ]
  },
  {
   "cell_type": "code",
   "execution_count": 146,
   "id": "00660d8c",
   "metadata": {},
   "outputs": [
    {
     "data": {
      "text/html": [
       "<div>\n",
       "<style scoped>\n",
       "    .dataframe tbody tr th:only-of-type {\n",
       "        vertical-align: middle;\n",
       "    }\n",
       "\n",
       "    .dataframe tbody tr th {\n",
       "        vertical-align: top;\n",
       "    }\n",
       "\n",
       "    .dataframe thead th {\n",
       "        text-align: right;\n",
       "    }\n",
       "</style>\n",
       "<table border=\"1\" class=\"dataframe\">\n",
       "  <thead>\n",
       "    <tr style=\"text-align: right;\">\n",
       "      <th></th>\n",
       "      <th>Rndrng_Prvdr_Geo_Lvl</th>\n",
       "      <th>Rndrng_Prvdr_Geo_Cd</th>\n",
       "      <th>Rndrng_Prvdr_Geo_Desc</th>\n",
       "      <th>HCPCS_Cd</th>\n",
       "      <th>Place_Of_Srvc</th>\n",
       "      <th>Avg_Sbmtd_Chrg</th>\n",
       "      <th>Avg_Mdcr_Stdzd_Amt</th>\n",
       "      <th>Tot_Srvcs</th>\n",
       "      <th>liver</th>\n",
       "      <th>total</th>\n",
       "      <th>...</th>\n",
       "      <th>established</th>\n",
       "      <th>programming</th>\n",
       "      <th>qualified</th>\n",
       "      <th>professional</th>\n",
       "      <th>nursing</th>\n",
       "      <th>facility</th>\n",
       "      <th>typically</th>\n",
       "      <th>office</th>\n",
       "      <th>initial</th>\n",
       "      <th>subsequent</th>\n",
       "    </tr>\n",
       "  </thead>\n",
       "  <tbody>\n",
       "    <tr>\n",
       "      <th>count</th>\n",
       "      <td>273211.000000</td>\n",
       "      <td>273211.000000</td>\n",
       "      <td>273211.000000</td>\n",
       "      <td>273211.000000</td>\n",
       "      <td>273211.000000</td>\n",
       "      <td>273211.000000</td>\n",
       "      <td>273211.000000</td>\n",
       "      <td>2.732110e+05</td>\n",
       "      <td>273211.000000</td>\n",
       "      <td>273211.000000</td>\n",
       "      <td>...</td>\n",
       "      <td>273211.000000</td>\n",
       "      <td>273211.000000</td>\n",
       "      <td>273211.000000</td>\n",
       "      <td>273211.000000</td>\n",
       "      <td>273211.000000</td>\n",
       "      <td>273211.000000</td>\n",
       "      <td>273211.000000</td>\n",
       "      <td>273211.000000</td>\n",
       "      <td>273211.000000</td>\n",
       "      <td>273211.000000</td>\n",
       "    </tr>\n",
       "    <tr>\n",
       "      <th>mean</th>\n",
       "      <td>0.952440</td>\n",
       "      <td>26.672557</td>\n",
       "      <td>31.387404</td>\n",
       "      <td>4606.456900</td>\n",
       "      <td>0.453444</td>\n",
       "      <td>1251.172998</td>\n",
       "      <td>234.769057</td>\n",
       "      <td>2.372581e+04</td>\n",
       "      <td>0.005197</td>\n",
       "      <td>0.008755</td>\n",
       "      <td>...</td>\n",
       "      <td>0.011471</td>\n",
       "      <td>0.011628</td>\n",
       "      <td>0.026412</td>\n",
       "      <td>0.007441</td>\n",
       "      <td>0.014366</td>\n",
       "      <td>0.004191</td>\n",
       "      <td>0.004886</td>\n",
       "      <td>0.021939</td>\n",
       "      <td>0.009333</td>\n",
       "      <td>0.010227</td>\n",
       "    </tr>\n",
       "    <tr>\n",
       "      <th>std</th>\n",
       "      <td>0.212834</td>\n",
       "      <td>15.964892</td>\n",
       "      <td>16.545636</td>\n",
       "      <td>2603.645083</td>\n",
       "      <td>0.497829</td>\n",
       "      <td>2316.386139</td>\n",
       "      <td>607.611636</td>\n",
       "      <td>6.566590e+05</td>\n",
       "      <td>0.076158</td>\n",
       "      <td>0.093159</td>\n",
       "      <td>...</td>\n",
       "      <td>0.109704</td>\n",
       "      <td>0.107206</td>\n",
       "      <td>0.165036</td>\n",
       "      <td>0.094617</td>\n",
       "      <td>0.125580</td>\n",
       "      <td>0.064601</td>\n",
       "      <td>0.069731</td>\n",
       "      <td>0.146485</td>\n",
       "      <td>0.096234</td>\n",
       "      <td>0.100608</td>\n",
       "    </tr>\n",
       "    <tr>\n",
       "      <th>min</th>\n",
       "      <td>0.000000</td>\n",
       "      <td>0.000000</td>\n",
       "      <td>0.000000</td>\n",
       "      <td>0.000000</td>\n",
       "      <td>0.000000</td>\n",
       "      <td>0.010000</td>\n",
       "      <td>0.010000</td>\n",
       "      <td>1.100000e+01</td>\n",
       "      <td>0.000000</td>\n",
       "      <td>0.000000</td>\n",
       "      <td>...</td>\n",
       "      <td>0.000000</td>\n",
       "      <td>0.000000</td>\n",
       "      <td>0.000000</td>\n",
       "      <td>0.000000</td>\n",
       "      <td>0.000000</td>\n",
       "      <td>0.000000</td>\n",
       "      <td>0.000000</td>\n",
       "      <td>0.000000</td>\n",
       "      <td>0.000000</td>\n",
       "      <td>0.000000</td>\n",
       "    </tr>\n",
       "    <tr>\n",
       "      <th>25%</th>\n",
       "      <td>1.000000</td>\n",
       "      <td>13.000000</td>\n",
       "      <td>19.000000</td>\n",
       "      <td>2295.000000</td>\n",
       "      <td>0.000000</td>\n",
       "      <td>128.180000</td>\n",
       "      <td>29.230000</td>\n",
       "      <td>4.000000e+01</td>\n",
       "      <td>0.000000</td>\n",
       "      <td>0.000000</td>\n",
       "      <td>...</td>\n",
       "      <td>0.000000</td>\n",
       "      <td>0.000000</td>\n",
       "      <td>0.000000</td>\n",
       "      <td>0.000000</td>\n",
       "      <td>0.000000</td>\n",
       "      <td>0.000000</td>\n",
       "      <td>0.000000</td>\n",
       "      <td>0.000000</td>\n",
       "      <td>0.000000</td>\n",
       "      <td>0.000000</td>\n",
       "    </tr>\n",
       "    <tr>\n",
       "      <th>50%</th>\n",
       "      <td>1.000000</td>\n",
       "      <td>26.000000</td>\n",
       "      <td>32.000000</td>\n",
       "      <td>5114.000000</td>\n",
       "      <td>0.000000</td>\n",
       "      <td>446.530000</td>\n",
       "      <td>91.380000</td>\n",
       "      <td>1.620000e+02</td>\n",
       "      <td>0.000000</td>\n",
       "      <td>0.000000</td>\n",
       "      <td>...</td>\n",
       "      <td>0.000000</td>\n",
       "      <td>0.000000</td>\n",
       "      <td>0.000000</td>\n",
       "      <td>0.000000</td>\n",
       "      <td>0.000000</td>\n",
       "      <td>0.000000</td>\n",
       "      <td>0.000000</td>\n",
       "      <td>0.000000</td>\n",
       "      <td>0.000000</td>\n",
       "      <td>0.000000</td>\n",
       "    </tr>\n",
       "    <tr>\n",
       "      <th>75%</th>\n",
       "      <td>1.000000</td>\n",
       "      <td>40.000000</td>\n",
       "      <td>45.000000</td>\n",
       "      <td>7006.000000</td>\n",
       "      <td>1.000000</td>\n",
       "      <td>1570.305000</td>\n",
       "      <td>267.500000</td>\n",
       "      <td>1.083000e+03</td>\n",
       "      <td>0.000000</td>\n",
       "      <td>0.000000</td>\n",
       "      <td>...</td>\n",
       "      <td>0.000000</td>\n",
       "      <td>0.000000</td>\n",
       "      <td>0.000000</td>\n",
       "      <td>0.000000</td>\n",
       "      <td>0.000000</td>\n",
       "      <td>0.000000</td>\n",
       "      <td>0.000000</td>\n",
       "      <td>0.000000</td>\n",
       "      <td>0.000000</td>\n",
       "      <td>0.000000</td>\n",
       "    </tr>\n",
       "    <tr>\n",
       "      <th>max</th>\n",
       "      <td>1.000000</td>\n",
       "      <td>61.000000</td>\n",
       "      <td>61.000000</td>\n",
       "      <td>8852.000000</td>\n",
       "      <td>1.000000</td>\n",
       "      <td>93181.060000</td>\n",
       "      <td>49501.500000</td>\n",
       "      <td>1.345132e+08</td>\n",
       "      <td>2.000000</td>\n",
       "      <td>1.000000</td>\n",
       "      <td>...</td>\n",
       "      <td>2.000000</td>\n",
       "      <td>1.000000</td>\n",
       "      <td>2.000000</td>\n",
       "      <td>2.000000</td>\n",
       "      <td>2.000000</td>\n",
       "      <td>1.000000</td>\n",
       "      <td>1.000000</td>\n",
       "      <td>1.000000</td>\n",
       "      <td>2.000000</td>\n",
       "      <td>1.000000</td>\n",
       "    </tr>\n",
       "  </tbody>\n",
       "</table>\n",
       "<p>8 rows × 308 columns</p>\n",
       "</div>"
      ],
      "text/plain": [
       "       Rndrng_Prvdr_Geo_Lvl  Rndrng_Prvdr_Geo_Cd  Rndrng_Prvdr_Geo_Desc  \\\n",
       "count         273211.000000        273211.000000          273211.000000   \n",
       "mean               0.952440            26.672557              31.387404   \n",
       "std                0.212834            15.964892              16.545636   \n",
       "min                0.000000             0.000000               0.000000   \n",
       "25%                1.000000            13.000000              19.000000   \n",
       "50%                1.000000            26.000000              32.000000   \n",
       "75%                1.000000            40.000000              45.000000   \n",
       "max                1.000000            61.000000              61.000000   \n",
       "\n",
       "            HCPCS_Cd  Place_Of_Srvc  Avg_Sbmtd_Chrg  Avg_Mdcr_Stdzd_Amt  \\\n",
       "count  273211.000000  273211.000000   273211.000000       273211.000000   \n",
       "mean     4606.456900       0.453444     1251.172998          234.769057   \n",
       "std      2603.645083       0.497829     2316.386139          607.611636   \n",
       "min         0.000000       0.000000        0.010000            0.010000   \n",
       "25%      2295.000000       0.000000      128.180000           29.230000   \n",
       "50%      5114.000000       0.000000      446.530000           91.380000   \n",
       "75%      7006.000000       1.000000     1570.305000          267.500000   \n",
       "max      8852.000000       1.000000    93181.060000        49501.500000   \n",
       "\n",
       "          Tot_Srvcs          liver          total  ...    established  \\\n",
       "count  2.732110e+05  273211.000000  273211.000000  ...  273211.000000   \n",
       "mean   2.372581e+04       0.005197       0.008755  ...       0.011471   \n",
       "std    6.566590e+05       0.076158       0.093159  ...       0.109704   \n",
       "min    1.100000e+01       0.000000       0.000000  ...       0.000000   \n",
       "25%    4.000000e+01       0.000000       0.000000  ...       0.000000   \n",
       "50%    1.620000e+02       0.000000       0.000000  ...       0.000000   \n",
       "75%    1.083000e+03       0.000000       0.000000  ...       0.000000   \n",
       "max    1.345132e+08       2.000000       1.000000  ...       2.000000   \n",
       "\n",
       "         programming      qualified   professional        nursing  \\\n",
       "count  273211.000000  273211.000000  273211.000000  273211.000000   \n",
       "mean        0.011628       0.026412       0.007441       0.014366   \n",
       "std         0.107206       0.165036       0.094617       0.125580   \n",
       "min         0.000000       0.000000       0.000000       0.000000   \n",
       "25%         0.000000       0.000000       0.000000       0.000000   \n",
       "50%         0.000000       0.000000       0.000000       0.000000   \n",
       "75%         0.000000       0.000000       0.000000       0.000000   \n",
       "max         1.000000       2.000000       2.000000       2.000000   \n",
       "\n",
       "            facility      typically         office        initial  \\\n",
       "count  273211.000000  273211.000000  273211.000000  273211.000000   \n",
       "mean        0.004191       0.004886       0.021939       0.009333   \n",
       "std         0.064601       0.069731       0.146485       0.096234   \n",
       "min         0.000000       0.000000       0.000000       0.000000   \n",
       "25%         0.000000       0.000000       0.000000       0.000000   \n",
       "50%         0.000000       0.000000       0.000000       0.000000   \n",
       "75%         0.000000       0.000000       0.000000       0.000000   \n",
       "max         1.000000       1.000000       1.000000       2.000000   \n",
       "\n",
       "          subsequent  \n",
       "count  273211.000000  \n",
       "mean        0.010227  \n",
       "std         0.100608  \n",
       "min         0.000000  \n",
       "25%         0.000000  \n",
       "50%         0.000000  \n",
       "75%         0.000000  \n",
       "max         1.000000  \n",
       "\n",
       "[8 rows x 308 columns]"
      ]
     },
     "execution_count": 146,
     "metadata": {},
     "output_type": "execute_result"
    }
   ],
   "source": [
    "nlptext.describe()"
   ]
  },
  {
   "cell_type": "code",
   "execution_count": 147,
   "id": "79c33af4",
   "metadata": {},
   "outputs": [],
   "source": [
    "yy=nlptext.HCPCS_Drug_Ind"
   ]
  },
  {
   "cell_type": "code",
   "execution_count": 148,
   "id": "0fe18129",
   "metadata": {},
   "outputs": [],
   "source": [
    "xx=nlptext.drop(['HCPCS_Drug_Ind'],axis=1)"
   ]
  },
  {
   "cell_type": "code",
   "execution_count": 149,
   "id": "65ee90e0",
   "metadata": {},
   "outputs": [],
   "source": [
    "xx_smote,yy_smote=smote.fit_resample(xx,yy)"
   ]
  },
  {
   "cell_type": "code",
   "execution_count": 150,
   "id": "401c7268",
   "metadata": {},
   "outputs": [
    {
     "name": "stdout",
     "output_type": "stream",
     "text": [
      "HCPCS_Drug_Ind\n",
      "N                 260701\n",
      "Y                  12510\n",
      "dtype: int64\n",
      "HCPCS_Drug_Ind\n",
      "N                 260701\n",
      "Y                 260701\n",
      "dtype: int64\n"
     ]
    }
   ],
   "source": [
    "print(pd.DataFrame(yy).value_counts())\n",
    "print(pd.DataFrame(yy_smote).value_counts())"
   ]
  },
  {
   "cell_type": "code",
   "execution_count": 151,
   "id": "37a7221b",
   "metadata": {},
   "outputs": [],
   "source": [
    "logitnlp=lr.fit(xx_smote,yy_smote)"
   ]
  },
  {
   "cell_type": "code",
   "execution_count": 152,
   "id": "28838e88",
   "metadata": {},
   "outputs": [
    {
     "data": {
      "text/plain": [
       "0.837240747062727"
      ]
     },
     "execution_count": 152,
     "metadata": {},
     "output_type": "execute_result"
    }
   ],
   "source": [
    "logitnlp.score(xx_smote,yy_smote)"
   ]
  },
  {
   "cell_type": "code",
   "execution_count": 153,
   "id": "868a32bd",
   "metadata": {},
   "outputs": [],
   "source": [
    "logitnlppre=logitnlp.predict(xx_smote)"
   ]
  },
  {
   "cell_type": "code",
   "execution_count": 154,
   "id": "c6fc2a1b",
   "metadata": {},
   "outputs": [
    {
     "data": {
      "text/plain": [
       "array([0.70589081, 0.75160384, 0.80472766, 0.84190641, 0.8323552 ])"
      ]
     },
     "execution_count": 154,
     "metadata": {},
     "output_type": "execute_result"
    }
   ],
   "source": [
    "cross_val_score(logitnlp,xx_smote,yy_smote)"
   ]
  },
  {
   "cell_type": "code",
   "execution_count": 155,
   "id": "37db1682",
   "metadata": {},
   "outputs": [
    {
     "data": {
      "text/plain": [
       "0.787296784"
      ]
     },
     "execution_count": 155,
     "metadata": {},
     "output_type": "execute_result"
    }
   ],
   "source": [
    "np.mean([0.70589081, 0.75160384, 0.80472766, 0.84190641, 0.8323552 ])"
   ]
  },
  {
   "cell_type": "code",
   "execution_count": 156,
   "id": "610d78a6",
   "metadata": {},
   "outputs": [
    {
     "data": {
      "text/html": [
       "<div>\n",
       "<style scoped>\n",
       "    .dataframe tbody tr th:only-of-type {\n",
       "        vertical-align: middle;\n",
       "    }\n",
       "\n",
       "    .dataframe tbody tr th {\n",
       "        vertical-align: top;\n",
       "    }\n",
       "\n",
       "    .dataframe thead th {\n",
       "        text-align: right;\n",
       "    }\n",
       "</style>\n",
       "<table border=\"1\" class=\"dataframe\">\n",
       "  <thead>\n",
       "    <tr style=\"text-align: right;\">\n",
       "      <th>col_0</th>\n",
       "      <th>N</th>\n",
       "      <th>Y</th>\n",
       "    </tr>\n",
       "    <tr>\n",
       "      <th>HCPCS_Drug_Ind</th>\n",
       "      <th></th>\n",
       "      <th></th>\n",
       "    </tr>\n",
       "  </thead>\n",
       "  <tbody>\n",
       "    <tr>\n",
       "      <th>N</th>\n",
       "      <td>183705</td>\n",
       "      <td>76996</td>\n",
       "    </tr>\n",
       "    <tr>\n",
       "      <th>Y</th>\n",
       "      <td>7867</td>\n",
       "      <td>252834</td>\n",
       "    </tr>\n",
       "  </tbody>\n",
       "</table>\n",
       "</div>"
      ],
      "text/plain": [
       "col_0                N       Y\n",
       "HCPCS_Drug_Ind                \n",
       "N               183705   76996\n",
       "Y                 7867  252834"
      ]
     },
     "execution_count": 156,
     "metadata": {},
     "output_type": "execute_result"
    }
   ],
   "source": [
    "pd.crosstab(yy_smote,logitnlppre)"
   ]
  },
  {
   "cell_type": "code",
   "execution_count": 157,
   "id": "f8a1ab40",
   "metadata": {},
   "outputs": [
    {
     "data": {
      "text/plain": [
       "<sklearn.metrics._plot.roc_curve.RocCurveDisplay at 0x2ab9f2c24f0>"
      ]
     },
     "execution_count": 157,
     "metadata": {},
     "output_type": "execute_result"
    },
    {
     "data": {
      "image/png": "[encoded data removed]",
      "text/plain": [
       "<Figure size 432x288 with 1 Axes>"
      ]
     },
     "metadata": {
      "needs_background": "light"
     },
     "output_type": "display_data"
    }
   ],
   "source": [
    "plot_roc_curve(logitnlp,xx_smote,yy_smote)"
   ]
  },
  {
   "cell_type": "code",
   "execution_count": 158,
   "id": "2d9e136c",
   "metadata": {},
   "outputs": [],
   "source": [
    "dtnlp=dtreesmote.fit(xx_smote,yy_smote)"
   ]
  },
  {
   "cell_type": "code",
   "execution_count": 159,
   "id": "c6727cd9",
   "metadata": {},
   "outputs": [
    {
     "data": {
      "text/plain": [
       "0.989033413757523"
      ]
     },
     "execution_count": 159,
     "metadata": {},
     "output_type": "execute_result"
    }
   ],
   "source": [
    "dtnlp.score(xx_smote,yy_smote)"
   ]
  },
  {
   "cell_type": "code",
   "execution_count": 160,
   "id": "eb1cf614",
   "metadata": {},
   "outputs": [],
   "source": [
    "dtnlppre=dtnlp.predict(xx_smote)"
   ]
  },
  {
   "cell_type": "code",
   "execution_count": 161,
   "id": "4c2467a3",
   "metadata": {},
   "outputs": [
    {
     "data": {
      "text/plain": [
       "array([0.98845427, 0.98874196, 0.98924051, 0.9890583 , 0.98909666])"
      ]
     },
     "execution_count": 161,
     "metadata": {},
     "output_type": "execute_result"
    }
   ],
   "source": [
    "cross_val_score(dtnlp,xx_smote,yy_smote)"
   ]
  },
  {
   "cell_type": "code",
   "execution_count": 162,
   "id": "36c28727",
   "metadata": {},
   "outputs": [
    {
     "data": {
      "text/plain": [
       "0.98891834"
      ]
     },
     "execution_count": 162,
     "metadata": {},
     "output_type": "execute_result"
    }
   ],
   "source": [
    "np.mean([0.98845427, 0.98874196, 0.98924051, 0.9890583 , 0.98909666])"
   ]
  },
  {
   "cell_type": "code",
   "execution_count": 163,
   "id": "5c051d73",
   "metadata": {},
   "outputs": [
    {
     "data": {
      "text/html": [
       "<div>\n",
       "<style scoped>\n",
       "    .dataframe tbody tr th:only-of-type {\n",
       "        vertical-align: middle;\n",
       "    }\n",
       "\n",
       "    .dataframe tbody tr th {\n",
       "        vertical-align: top;\n",
       "    }\n",
       "\n",
       "    .dataframe thead th {\n",
       "        text-align: right;\n",
       "    }\n",
       "</style>\n",
       "<table border=\"1\" class=\"dataframe\">\n",
       "  <thead>\n",
       "    <tr style=\"text-align: right;\">\n",
       "      <th>col_0</th>\n",
       "      <th>N</th>\n",
       "      <th>Y</th>\n",
       "    </tr>\n",
       "    <tr>\n",
       "      <th>HCPCS_Drug_Ind</th>\n",
       "      <th></th>\n",
       "      <th></th>\n",
       "    </tr>\n",
       "  </thead>\n",
       "  <tbody>\n",
       "    <tr>\n",
       "      <th>N</th>\n",
       "      <td>259219</td>\n",
       "      <td>1482</td>\n",
       "    </tr>\n",
       "    <tr>\n",
       "      <th>Y</th>\n",
       "      <td>4236</td>\n",
       "      <td>256465</td>\n",
       "    </tr>\n",
       "  </tbody>\n",
       "</table>\n",
       "</div>"
      ],
      "text/plain": [
       "col_0                N       Y\n",
       "HCPCS_Drug_Ind                \n",
       "N               259219    1482\n",
       "Y                 4236  256465"
      ]
     },
     "execution_count": 163,
     "metadata": {},
     "output_type": "execute_result"
    }
   ],
   "source": [
    "pd.crosstab(yy_smote,dtnlppre)"
   ]
  },
  {
   "cell_type": "code",
   "execution_count": 164,
   "id": "f02e7b15",
   "metadata": {},
   "outputs": [
    {
     "name": "stdout",
     "output_type": "stream",
     "text": [
      "              precision    recall  f1-score   support\n",
      "\n",
      "           N       0.98      0.99      0.99    260701\n",
      "           Y       0.99      0.98      0.99    260701\n",
      "\n",
      "    accuracy                           0.99    521402\n",
      "   macro avg       0.99      0.99      0.99    521402\n",
      "weighted avg       0.99      0.99      0.99    521402\n",
      "\n"
     ]
    }
   ],
   "source": [
    "print(classification_report(yy_smote,dtnlppre))"
   ]
  },
  {
   "cell_type": "code",
   "execution_count": 165,
   "id": "dcaff617",
   "metadata": {},
   "outputs": [
    {
     "data": {
      "text/plain": [
       "<sklearn.metrics._plot.roc_curve.RocCurveDisplay at 0x2ab9f660280>"
      ]
     },
     "execution_count": 165,
     "metadata": {},
     "output_type": "execute_result"
    },
    {
     "data": {
      "image/png": "[encoded data removed]",
      "text/plain": [
       "<Figure size 432x288 with 1 Axes>"
      ]
     },
     "metadata": {
      "needs_background": "light"
     },
     "output_type": "display_data"
    }
   ],
   "source": [
    "plot_roc_curve(dtnlp,xx_smote,yy_smote)"
   ]
  },
  {
   "cell_type": "code",
   "execution_count": 166,
   "id": "6188263d",
   "metadata": {},
   "outputs": [],
   "source": [
    "rfnlp=rfsmote.fit(xx_smote,yy_smote)"
   ]
  },
  {
   "cell_type": "code",
   "execution_count": 167,
   "id": "6d5c1b39",
   "metadata": {},
   "outputs": [
    {
     "data": {
      "text/plain": [
       "0.8631094625643937"
      ]
     },
     "execution_count": 167,
     "metadata": {},
     "output_type": "execute_result"
    }
   ],
   "source": [
    "rfnlp.score(xx_smote,yy_smote)"
   ]
  },
  {
   "cell_type": "code",
   "execution_count": 168,
   "id": "205453eb",
   "metadata": {},
   "outputs": [],
   "source": [
    "rfnlppre=rfnlp.predict(xx_smote)"
   ]
  },
  {
   "cell_type": "code",
   "execution_count": 169,
   "id": "9a78e5d9",
   "metadata": {},
   "outputs": [
    {
     "data": {
      "text/plain": [
       "array([0.86936259, 0.8680776 , 0.84835059, 0.75981972, 0.77770426])"
      ]
     },
     "execution_count": 169,
     "metadata": {},
     "output_type": "execute_result"
    }
   ],
   "source": [
    "cross_val_score(rfnlp,xx_smote,yy_smote)"
   ]
  },
  {
   "cell_type": "code",
   "execution_count": 180,
   "id": "b6367df8",
   "metadata": {},
   "outputs": [
    {
     "data": {
      "text/plain": [
       "0.824662952"
      ]
     },
     "execution_count": 180,
     "metadata": {},
     "output_type": "execute_result"
    }
   ],
   "source": [
    "np.mean([0.86936259, 0.8680776 , 0.84835059, 0.75981972, 0.77770426])"
   ]
  },
  {
   "cell_type": "code",
   "execution_count": 171,
   "id": "43cbc8f7",
   "metadata": {},
   "outputs": [
    {
     "data": {
      "text/html": [
       "<div>\n",
       "<style scoped>\n",
       "    .dataframe tbody tr th:only-of-type {\n",
       "        vertical-align: middle;\n",
       "    }\n",
       "\n",
       "    .dataframe tbody tr th {\n",
       "        vertical-align: top;\n",
       "    }\n",
       "\n",
       "    .dataframe thead th {\n",
       "        text-align: right;\n",
       "    }\n",
       "</style>\n",
       "<table border=\"1\" class=\"dataframe\">\n",
       "  <thead>\n",
       "    <tr style=\"text-align: right;\">\n",
       "      <th>col_0</th>\n",
       "      <th>N</th>\n",
       "      <th>Y</th>\n",
       "    </tr>\n",
       "    <tr>\n",
       "      <th>HCPCS_Drug_Ind</th>\n",
       "      <th></th>\n",
       "      <th></th>\n",
       "    </tr>\n",
       "  </thead>\n",
       "  <tbody>\n",
       "    <tr>\n",
       "      <th>N</th>\n",
       "      <td>224689</td>\n",
       "      <td>36012</td>\n",
       "    </tr>\n",
       "    <tr>\n",
       "      <th>Y</th>\n",
       "      <td>35363</td>\n",
       "      <td>225338</td>\n",
       "    </tr>\n",
       "  </tbody>\n",
       "</table>\n",
       "</div>"
      ],
      "text/plain": [
       "col_0                N       Y\n",
       "HCPCS_Drug_Ind                \n",
       "N               224689   36012\n",
       "Y                35363  225338"
      ]
     },
     "execution_count": 171,
     "metadata": {},
     "output_type": "execute_result"
    }
   ],
   "source": [
    "pd.crosstab(yy_smote,rfnlppre)"
   ]
  },
  {
   "cell_type": "code",
   "execution_count": 172,
   "id": "dfcbe512",
   "metadata": {},
   "outputs": [
    {
     "name": "stdout",
     "output_type": "stream",
     "text": [
      "              precision    recall  f1-score   support\n",
      "\n",
      "           N       0.86      0.86      0.86    260701\n",
      "           Y       0.86      0.86      0.86    260701\n",
      "\n",
      "    accuracy                           0.86    521402\n",
      "   macro avg       0.86      0.86      0.86    521402\n",
      "weighted avg       0.86      0.86      0.86    521402\n",
      "\n"
     ]
    }
   ],
   "source": [
    "print(classification_report(yy_smote,rfnlppre))"
   ]
  },
  {
   "cell_type": "code",
   "execution_count": 173,
   "id": "6cab06d0",
   "metadata": {},
   "outputs": [
    {
     "data": {
      "text/plain": [
       "<sklearn.metrics._plot.roc_curve.RocCurveDisplay at 0x2ab9fb3c9a0>"
      ]
     },
     "execution_count": 173,
     "metadata": {},
     "output_type": "execute_result"
    },
    {
     "data": {
      "image/png": "[encoded data removed]",
      "text/plain": [
       "<Figure size 432x288 with 1 Axes>"
      ]
     },
     "metadata": {
      "needs_background": "light"
     },
     "output_type": "display_data"
    }
   ],
   "source": [
    "plot_roc_curve(rfnlp,xx_smote,yy_smote)"
   ]
  },
  {
   "cell_type": "code",
   "execution_count": 174,
   "id": "5fedc6ab",
   "metadata": {},
   "outputs": [],
   "source": [
    "gbmnlp=gbmsmote.fit(xx_smote,yy_smote)"
   ]
  },
  {
   "cell_type": "code",
   "execution_count": 175,
   "id": "9294f4cf",
   "metadata": {},
   "outputs": [
    {
     "data": {
      "text/plain": [
       "0.9959704795915627"
      ]
     },
     "execution_count": 175,
     "metadata": {},
     "output_type": "execute_result"
    }
   ],
   "source": [
    "gbmnlp.score(xx_smote,yy_smote)"
   ]
  },
  {
   "cell_type": "code",
   "execution_count": 176,
   "id": "7f281476",
   "metadata": {},
   "outputs": [],
   "source": [
    "gbmnlppre=gbmnlp.predict(xx_smote)"
   ]
  },
  {
   "cell_type": "code",
   "execution_count": 177,
   "id": "3570295a",
   "metadata": {},
   "outputs": [
    {
     "data": {
      "text/plain": [
       "array([0.98849263, 0.99584776, 0.99618335, 0.99656694, 0.99368048])"
      ]
     },
     "execution_count": 177,
     "metadata": {},
     "output_type": "execute_result"
    }
   ],
   "source": [
    "cross_val_score(gbmnlp,xx_smote,yy_smote)"
   ]
  },
  {
   "cell_type": "code",
   "execution_count": 178,
   "id": "b6431608",
   "metadata": {},
   "outputs": [
    {
     "data": {
      "text/plain": [
       "0.994154232"
      ]
     },
     "execution_count": 178,
     "metadata": {},
     "output_type": "execute_result"
    }
   ],
   "source": [
    "np.mean([0.98849263, 0.99584776, 0.99618335, 0.99656694, 0.99368048])"
   ]
  },
  {
   "cell_type": "code",
   "execution_count": 179,
   "id": "80a095f1",
   "metadata": {},
   "outputs": [
    {
     "data": {
      "text/html": [
       "<div>\n",
       "<style scoped>\n",
       "    .dataframe tbody tr th:only-of-type {\n",
       "        vertical-align: middle;\n",
       "    }\n",
       "\n",
       "    .dataframe tbody tr th {\n",
       "        vertical-align: top;\n",
       "    }\n",
       "\n",
       "    .dataframe thead th {\n",
       "        text-align: right;\n",
       "    }\n",
       "</style>\n",
       "<table border=\"1\" class=\"dataframe\">\n",
       "  <thead>\n",
       "    <tr style=\"text-align: right;\">\n",
       "      <th>col_0</th>\n",
       "      <th>N</th>\n",
       "      <th>Y</th>\n",
       "    </tr>\n",
       "    <tr>\n",
       "      <th>HCPCS_Drug_Ind</th>\n",
       "      <th></th>\n",
       "      <th></th>\n",
       "    </tr>\n",
       "  </thead>\n",
       "  <tbody>\n",
       "    <tr>\n",
       "      <th>N</th>\n",
       "      <td>259446</td>\n",
       "      <td>1255</td>\n",
       "    </tr>\n",
       "    <tr>\n",
       "      <th>Y</th>\n",
       "      <td>846</td>\n",
       "      <td>259855</td>\n",
       "    </tr>\n",
       "  </tbody>\n",
       "</table>\n",
       "</div>"
      ],
      "text/plain": [
       "col_0                N       Y\n",
       "HCPCS_Drug_Ind                \n",
       "N               259446    1255\n",
       "Y                  846  259855"
      ]
     },
     "execution_count": 179,
     "metadata": {},
     "output_type": "execute_result"
    }
   ],
   "source": [
    "pd.crosstab(yy_smote,gbmnlppre)"
   ]
  },
  {
   "cell_type": "markdown",
   "id": "2d08e78f",
   "metadata": {},
   "source": [
    "## Report"
   ]
  },
  {
   "cell_type": "markdown",
   "id": "26f3a5bf",
   "metadata": {},
   "source": [
    "* Based on the probabilities,classification report and Type 2 error gradient boosting method is best fit for this data compared to other probabilities "
   ]
  },
  {
   "cell_type": "code",
   "execution_count": null,
   "id": "9a798480",
   "metadata": {},
   "outputs": [],
   "source": []
  }
 ],
 "metadata": {
  "kernelspec": {
   "display_name": "Python 3 (ipykernel)",
   "language": "python",
   "name": "python3"
  },
  "language_info": {
   "codemirror_mode": {
    "name": "ipython",
    "version": 3
   },
   "file_extension": ".py",
   "mimetype": "text/x-python",
   "name": "python",
   "nbconvert_exporter": "python",
   "pygments_lexer": "ipython3",
   "version": "3.9.7"
  }
 },
 "nbformat": 4,
 "nbformat_minor": 5
}
